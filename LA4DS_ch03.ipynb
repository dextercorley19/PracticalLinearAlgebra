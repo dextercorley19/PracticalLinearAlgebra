{
 "cells": [
  {
   "cell_type": "markdown",
   "metadata": {
    "id": "SbGFWGzkd44U"
   },
   "source": [
    "# Practical Linear Algebra for Data Science\n",
    "## Mike X Cohen (sincxpress.com)\n",
    "### https://www.oreilly.com/library/view/practical-linear-algebra/9781098120603/\n",
    "\n",
    "#### Code for chapter 3"
   ]
  },
  {
   "cell_type": "code",
   "execution_count": 1,
   "metadata": {
    "executionInfo": {
     "elapsed": 4,
     "status": "ok",
     "timestamp": 1676509948636,
     "user": {
      "displayName": "Mike X Cohen",
      "userId": "13901636194183843661"
     },
     "user_tz": -540
    },
    "id": "k_8g1MZidFJK"
   },
   "outputs": [],
   "source": [
    "import numpy as np\n",
    "import matplotlib.pyplot as plt\n",
    "\n",
    "# NOTE: these lines define global figure properties used for publication.\n",
    "import matplotlib_inline.backend_inline\n",
    "matplotlib_inline.backend_inline.set_matplotlib_formats('svg') # print figures in svg format\n",
    "plt.rcParams.update({'font.size':14}) # set global font size"
   ]
  },
  {
   "cell_type": "markdown",
   "metadata": {},
   "source": [
    "# Exercises - my work"
   ]
  },
  {
   "cell_type": "markdown",
   "metadata": {},
   "source": [
    "### Exercise 1 - rewrite the code for linear weighted combination, but put the scalars in a list and the vectors as elements in a list. Then use a for loop to implement the linear weighted combination operation. Initialize the output vector using np.zeros(). Confirm result with the previous code"
   ]
  },
  {
   "cell_type": "code",
   "execution_count": 2,
   "metadata": {},
   "outputs": [
    {
     "name": "stdout",
     "output_type": "stream",
     "text": [
      "[1, 2, 3, 4] [array([1, 2, 3, 4]), array([2, 3, 4, 5]), array([6, 7, 8, 9]), array([10, 11, 12, 13])]\n"
     ]
    }
   ],
   "source": [
    "s = [1,2,3,4]\n",
    "s1 = 1\n",
    "s2 = 2\n",
    "s3 = 3\n",
    "s4 = 4\n",
    "v1 = np.array([1,2,3,4])\n",
    "v2 = np.array([2,3,4,5])\n",
    "v3 = np.array([6,7,8,9])\n",
    "v4 = np.array([10,11,12,13])\n",
    "v = [np.array([1,2,3,4]), np.array([2,3,4,5]),np.array([6,7,8,9]),np.array([10,11,12,13])]\n",
    "print(s,v)"
   ]
  },
  {
   "cell_type": "code",
   "execution_count": 3,
   "metadata": {
    "id": "S3MfM6SZWlW1"
   },
   "outputs": [],
   "source": [
    "\n",
    "output = np.zeros(len(s))\n",
    "\n",
    "for s,v in zip(s,v):\n",
    "    output += s*v\n",
    "\n",
    "\n",
    "\n",
    "\n"
   ]
  },
  {
   "cell_type": "code",
   "execution_count": 4,
   "metadata": {},
   "outputs": [
    {
     "data": {
      "text/plain": [
       "array([63, 73, 83, 93])"
      ]
     },
     "execution_count": 4,
     "metadata": {},
     "output_type": "execute_result"
    }
   ],
   "source": [
    "s1*v1 + s2*v2 + s3*v3 + s4*v4"
   ]
  },
  {
   "cell_type": "code",
   "execution_count": 5,
   "metadata": {},
   "outputs": [
    {
     "data": {
      "text/plain": [
       "array([63., 73., 83., 93.])"
      ]
     },
     "execution_count": 5,
     "metadata": {},
     "output_type": "execute_result"
    }
   ],
   "source": [
    "output"
   ]
  },
  {
   "cell_type": "markdown",
   "metadata": {},
   "source": [
    "### Exercise 2 - what if there are more scalars than vectors"
   ]
  },
  {
   "cell_type": "code",
   "execution_count": 6,
   "metadata": {},
   "outputs": [
    {
     "name": "stdout",
     "output_type": "stream",
     "text": [
      "[1, 2, 3, 4, 5] [array([1, 2, 3, 4]), array([2, 3, 4, 5]), array([6, 7, 8, 9]), array([10, 11, 12, 13])]\n"
     ]
    }
   ],
   "source": [
    "c = [1,2,3,4,5]\n",
    "c1 = 1\n",
    "c2 = 2\n",
    "c3 = 3\n",
    "c4 = 4\n",
    "v1 = np.array([1,2,3,4])\n",
    "v2 = np.array([2,3,4,5])\n",
    "v3 = np.array([6,7,8,9])\n",
    "v4 = np.array([10,11,12,13])\n",
    "v = [np.array([1,2,3,4]), np.array([2,3,4,5]),np.array([6,7,8,9]),np.array([10,11,12,13])]\n",
    "print(c,v)"
   ]
  },
  {
   "cell_type": "code",
   "execution_count": 7,
   "metadata": {},
   "outputs": [
    {
     "ename": "ValueError",
     "evalue": "operands could not be broadcast together with shapes (5,) (4,) (5,) ",
     "output_type": "error",
     "traceback": [
      "\u001b[0;31m---------------------------------------------------------------------------\u001b[0m",
      "\u001b[0;31mValueError\u001b[0m                                Traceback (most recent call last)",
      "Cell \u001b[0;32mIn[7], line 4\u001b[0m\n\u001b[1;32m      1\u001b[0m output \u001b[38;5;241m=\u001b[39m np\u001b[38;5;241m.\u001b[39mzeros(\u001b[38;5;28mlen\u001b[39m(c))\n\u001b[1;32m      3\u001b[0m \u001b[38;5;28;01mfor\u001b[39;00m c,v \u001b[38;5;129;01min\u001b[39;00m \u001b[38;5;28mzip\u001b[39m(c,v):\n\u001b[0;32m----> 4\u001b[0m     \u001b[43moutput\u001b[49m\u001b[43m \u001b[49m\u001b[38;5;241;43m+\u001b[39;49m\u001b[38;5;241;43m=\u001b[39;49m\u001b[43m \u001b[49m\u001b[43ms\u001b[49m\u001b[38;5;241;43m*\u001b[39;49m\u001b[43mv\u001b[49m\n",
      "\u001b[0;31mValueError\u001b[0m: operands could not be broadcast together with shapes (5,) (4,) (5,) "
     ]
    }
   ],
   "source": [
    "\n",
    "output = np.zeros(len(c))\n",
    "\n",
    "for c,v in zip(c,v):\n",
    "    output += s*v\n",
    "\n"
   ]
  },
  {
   "cell_type": "markdown",
   "metadata": {},
   "source": [
    "### Exercise 3 - draw random points in subspaces. Define a vector set containing one vector [1,3]. Create 100 numbers drawn randomly from a uniform distribution between -4,4. These are the random scalars. Multiply them by the basis vector to create 100 random points in the subspace. Plot these points."
   ]
  },
  {
   "cell_type": "code",
   "execution_count": 8,
   "metadata": {},
   "outputs": [
    {
     "data": {
      "image/svg+xml": [
       "<?xml version=\"1.0\" encoding=\"utf-8\" standalone=\"no\"?>\n",
       "<!DOCTYPE svg PUBLIC \"-//W3C//DTD SVG 1.1//EN\"\n",
       "  \"http://www.w3.org/Graphics/SVG/1.1/DTD/svg11.dtd\">\n",
       "<svg xmlns:xlink=\"http://www.w3.org/1999/xlink\" width=\"376.839062pt\" height=\"381.266562pt\" viewBox=\"0 0 376.839062 381.266562\" xmlns=\"http://www.w3.org/2000/svg\" version=\"1.1\">\n",
       " <metadata>\n",
       "  <rdf:RDF xmlns:dc=\"http://purl.org/dc/elements/1.1/\" xmlns:cc=\"http://creativecommons.org/ns#\" xmlns:rdf=\"http://www.w3.org/1999/02/22-rdf-syntax-ns#\">\n",
       "   <cc:Work>\n",
       "    <dc:type rdf:resource=\"http://purl.org/dc/dcmitype/StillImage\"/>\n",
       "    <dc:date>2024-03-01T12:11:02.201412</dc:date>\n",
       "    <dc:format>image/svg+xml</dc:format>\n",
       "    <dc:creator>\n",
       "     <cc:Agent>\n",
       "      <dc:title>Matplotlib v3.8.0, https://matplotlib.org/</dc:title>\n",
       "     </cc:Agent>\n",
       "    </dc:creator>\n",
       "   </cc:Work>\n",
       "  </rdf:RDF>\n",
       " </metadata>\n",
       " <defs>\n",
       "  <style type=\"text/css\">*{stroke-linejoin: round; stroke-linecap: butt}</style>\n",
       " </defs>\n",
       " <g id=\"figure_1\">\n",
       "  <g id=\"patch_1\">\n",
       "   <path d=\"M 0 381.266562 \n",
       "L 376.839062 381.266562 \n",
       "L 376.839062 0 \n",
       "L 0 0 \n",
       "z\n",
       "\" style=\"fill: #ffffff\"/>\n",
       "  </g>\n",
       "  <g id=\"axes_1\">\n",
       "   <g id=\"patch_2\">\n",
       "    <path d=\"M 34.839063 353.517187 \n",
       "L 369.639063 353.517187 \n",
       "L 369.639063 20.877187 \n",
       "L 34.839063 20.877187 \n",
       "z\n",
       "\" style=\"fill: #ffffff\"/>\n",
       "   </g>\n",
       "   <g id=\"matplotlib.axis_1\">\n",
       "    <g id=\"xtick_1\">\n",
       "     <g id=\"line2d_1\">\n",
       "      <path d=\"M 53.439063 353.517187 \n",
       "L 53.439063 20.877187 \n",
       "\" clip-path=\"url(#p4e7fdef08b)\" style=\"fill: none; stroke: #b0b0b0; stroke-width: 0.8; stroke-linecap: square\"/>\n",
       "     </g>\n",
       "     <g id=\"line2d_2\">\n",
       "      <defs>\n",
       "       <path id=\"mfab47a2a52\" d=\"M 0 0 \n",
       "L 0 3.5 \n",
       "\" style=\"stroke: #000000; stroke-width: 0.8\"/>\n",
       "      </defs>\n",
       "      <g>\n",
       "       <use xlink:href=\"#mfab47a2a52\" x=\"53.439063\" y=\"353.517187\" style=\"stroke: #000000; stroke-width: 0.8\"/>\n",
       "      </g>\n",
       "     </g>\n",
       "     <g id=\"text_1\">\n",
       "      <!-- −4 -->\n",
       "      <g transform=\"translate(43.119531 371.155) scale(0.14 -0.14)\">\n",
       "       <defs>\n",
       "        <path id=\"DejaVuSans-2212\" d=\"M 678 2272 \n",
       "L 4684 2272 \n",
       "L 4684 1741 \n",
       "L 678 1741 \n",
       "L 678 2272 \n",
       "z\n",
       "\" transform=\"scale(0.015625)\"/>\n",
       "        <path id=\"DejaVuSans-34\" d=\"M 2419 4116 \n",
       "L 825 1625 \n",
       "L 2419 1625 \n",
       "L 2419 4116 \n",
       "z\n",
       "M 2253 4666 \n",
       "L 3047 4666 \n",
       "L 3047 1625 \n",
       "L 3713 1625 \n",
       "L 3713 1100 \n",
       "L 3047 1100 \n",
       "L 3047 0 \n",
       "L 2419 0 \n",
       "L 2419 1100 \n",
       "L 313 1100 \n",
       "L 313 1709 \n",
       "L 2253 4666 \n",
       "z\n",
       "\" transform=\"scale(0.015625)\"/>\n",
       "       </defs>\n",
       "       <use xlink:href=\"#DejaVuSans-2212\"/>\n",
       "       <use xlink:href=\"#DejaVuSans-34\" x=\"83.789062\"/>\n",
       "      </g>\n",
       "     </g>\n",
       "    </g>\n",
       "    <g id=\"xtick_2\">\n",
       "     <g id=\"line2d_3\">\n",
       "      <path d=\"M 127.839063 353.517187 \n",
       "L 127.839063 20.877187 \n",
       "\" clip-path=\"url(#p4e7fdef08b)\" style=\"fill: none; stroke: #b0b0b0; stroke-width: 0.8; stroke-linecap: square\"/>\n",
       "     </g>\n",
       "     <g id=\"line2d_4\">\n",
       "      <g>\n",
       "       <use xlink:href=\"#mfab47a2a52\" x=\"127.839063\" y=\"353.517187\" style=\"stroke: #000000; stroke-width: 0.8\"/>\n",
       "      </g>\n",
       "     </g>\n",
       "     <g id=\"text_2\">\n",
       "      <!-- −2 -->\n",
       "      <g transform=\"translate(117.519531 371.155) scale(0.14 -0.14)\">\n",
       "       <defs>\n",
       "        <path id=\"DejaVuSans-32\" d=\"M 1228 531 \n",
       "L 3431 531 \n",
       "L 3431 0 \n",
       "L 469 0 \n",
       "L 469 531 \n",
       "Q 828 903 1448 1529 \n",
       "Q 2069 2156 2228 2338 \n",
       "Q 2531 2678 2651 2914 \n",
       "Q 2772 3150 2772 3378 \n",
       "Q 2772 3750 2511 3984 \n",
       "Q 2250 4219 1831 4219 \n",
       "Q 1534 4219 1204 4116 \n",
       "Q 875 4013 500 3803 \n",
       "L 500 4441 \n",
       "Q 881 4594 1212 4672 \n",
       "Q 1544 4750 1819 4750 \n",
       "Q 2544 4750 2975 4387 \n",
       "Q 3406 4025 3406 3419 \n",
       "Q 3406 3131 3298 2873 \n",
       "Q 3191 2616 2906 2266 \n",
       "Q 2828 2175 2409 1742 \n",
       "Q 1991 1309 1228 531 \n",
       "z\n",
       "\" transform=\"scale(0.015625)\"/>\n",
       "       </defs>\n",
       "       <use xlink:href=\"#DejaVuSans-2212\"/>\n",
       "       <use xlink:href=\"#DejaVuSans-32\" x=\"83.789062\"/>\n",
       "      </g>\n",
       "     </g>\n",
       "    </g>\n",
       "    <g id=\"xtick_3\">\n",
       "     <g id=\"line2d_5\">\n",
       "      <path d=\"M 202.239063 353.517187 \n",
       "L 202.239063 20.877187 \n",
       "\" clip-path=\"url(#p4e7fdef08b)\" style=\"fill: none; stroke: #b0b0b0; stroke-width: 0.8; stroke-linecap: square\"/>\n",
       "     </g>\n",
       "     <g id=\"line2d_6\">\n",
       "      <g>\n",
       "       <use xlink:href=\"#mfab47a2a52\" x=\"202.239063\" y=\"353.517187\" style=\"stroke: #000000; stroke-width: 0.8\"/>\n",
       "      </g>\n",
       "     </g>\n",
       "     <g id=\"text_3\">\n",
       "      <!-- 0 -->\n",
       "      <g transform=\"translate(197.785313 371.155) scale(0.14 -0.14)\">\n",
       "       <defs>\n",
       "        <path id=\"DejaVuSans-30\" d=\"M 2034 4250 \n",
       "Q 1547 4250 1301 3770 \n",
       "Q 1056 3291 1056 2328 \n",
       "Q 1056 1369 1301 889 \n",
       "Q 1547 409 2034 409 \n",
       "Q 2525 409 2770 889 \n",
       "Q 3016 1369 3016 2328 \n",
       "Q 3016 3291 2770 3770 \n",
       "Q 2525 4250 2034 4250 \n",
       "z\n",
       "M 2034 4750 \n",
       "Q 2819 4750 3233 4129 \n",
       "Q 3647 3509 3647 2328 \n",
       "Q 3647 1150 3233 529 \n",
       "Q 2819 -91 2034 -91 \n",
       "Q 1250 -91 836 529 \n",
       "Q 422 1150 422 2328 \n",
       "Q 422 3509 836 4129 \n",
       "Q 1250 4750 2034 4750 \n",
       "z\n",
       "\" transform=\"scale(0.015625)\"/>\n",
       "       </defs>\n",
       "       <use xlink:href=\"#DejaVuSans-30\"/>\n",
       "      </g>\n",
       "     </g>\n",
       "    </g>\n",
       "    <g id=\"xtick_4\">\n",
       "     <g id=\"line2d_7\">\n",
       "      <path d=\"M 276.639063 353.517187 \n",
       "L 276.639063 20.877187 \n",
       "\" clip-path=\"url(#p4e7fdef08b)\" style=\"fill: none; stroke: #b0b0b0; stroke-width: 0.8; stroke-linecap: square\"/>\n",
       "     </g>\n",
       "     <g id=\"line2d_8\">\n",
       "      <g>\n",
       "       <use xlink:href=\"#mfab47a2a52\" x=\"276.639063\" y=\"353.517187\" style=\"stroke: #000000; stroke-width: 0.8\"/>\n",
       "      </g>\n",
       "     </g>\n",
       "     <g id=\"text_4\">\n",
       "      <!-- 2 -->\n",
       "      <g transform=\"translate(272.185313 371.155) scale(0.14 -0.14)\">\n",
       "       <use xlink:href=\"#DejaVuSans-32\"/>\n",
       "      </g>\n",
       "     </g>\n",
       "    </g>\n",
       "    <g id=\"xtick_5\">\n",
       "     <g id=\"line2d_9\">\n",
       "      <path d=\"M 351.039062 353.517187 \n",
       "L 351.039062 20.877187 \n",
       "\" clip-path=\"url(#p4e7fdef08b)\" style=\"fill: none; stroke: #b0b0b0; stroke-width: 0.8; stroke-linecap: square\"/>\n",
       "     </g>\n",
       "     <g id=\"line2d_10\">\n",
       "      <g>\n",
       "       <use xlink:href=\"#mfab47a2a52\" x=\"351.039062\" y=\"353.517187\" style=\"stroke: #000000; stroke-width: 0.8\"/>\n",
       "      </g>\n",
       "     </g>\n",
       "     <g id=\"text_5\">\n",
       "      <!-- 4 -->\n",
       "      <g transform=\"translate(346.585312 371.155) scale(0.14 -0.14)\">\n",
       "       <use xlink:href=\"#DejaVuSans-34\"/>\n",
       "      </g>\n",
       "     </g>\n",
       "    </g>\n",
       "   </g>\n",
       "   <g id=\"matplotlib.axis_2\">\n",
       "    <g id=\"ytick_1\">\n",
       "     <g id=\"line2d_11\">\n",
       "      <path d=\"M 34.839063 335.037187 \n",
       "L 369.639063 335.037187 \n",
       "\" clip-path=\"url(#p4e7fdef08b)\" style=\"fill: none; stroke: #b0b0b0; stroke-width: 0.8; stroke-linecap: square\"/>\n",
       "     </g>\n",
       "     <g id=\"line2d_12\">\n",
       "      <defs>\n",
       "       <path id=\"m95f4893222\" d=\"M 0 0 \n",
       "L -3.5 0 \n",
       "\" style=\"stroke: #000000; stroke-width: 0.8\"/>\n",
       "      </defs>\n",
       "      <g>\n",
       "       <use xlink:href=\"#m95f4893222\" x=\"34.839063\" y=\"335.037187\" style=\"stroke: #000000; stroke-width: 0.8\"/>\n",
       "      </g>\n",
       "     </g>\n",
       "     <g id=\"text_6\">\n",
       "      <!-- −4 -->\n",
       "      <g transform=\"translate(7.2 340.356094) scale(0.14 -0.14)\">\n",
       "       <use xlink:href=\"#DejaVuSans-2212\"/>\n",
       "       <use xlink:href=\"#DejaVuSans-34\" x=\"83.789062\"/>\n",
       "      </g>\n",
       "     </g>\n",
       "    </g>\n",
       "    <g id=\"ytick_2\">\n",
       "     <g id=\"line2d_13\">\n",
       "      <path d=\"M 34.839063 298.077187 \n",
       "L 369.639063 298.077187 \n",
       "\" clip-path=\"url(#p4e7fdef08b)\" style=\"fill: none; stroke: #b0b0b0; stroke-width: 0.8; stroke-linecap: square\"/>\n",
       "     </g>\n",
       "     <g id=\"line2d_14\">\n",
       "      <g>\n",
       "       <use xlink:href=\"#m95f4893222\" x=\"34.839063\" y=\"298.077187\" style=\"stroke: #000000; stroke-width: 0.8\"/>\n",
       "      </g>\n",
       "     </g>\n",
       "     <g id=\"text_7\">\n",
       "      <!-- −3 -->\n",
       "      <g transform=\"translate(7.2 303.396094) scale(0.14 -0.14)\">\n",
       "       <defs>\n",
       "        <path id=\"DejaVuSans-33\" d=\"M 2597 2516 \n",
       "Q 3050 2419 3304 2112 \n",
       "Q 3559 1806 3559 1356 \n",
       "Q 3559 666 3084 287 \n",
       "Q 2609 -91 1734 -91 \n",
       "Q 1441 -91 1130 -33 \n",
       "Q 819 25 488 141 \n",
       "L 488 750 \n",
       "Q 750 597 1062 519 \n",
       "Q 1375 441 1716 441 \n",
       "Q 2309 441 2620 675 \n",
       "Q 2931 909 2931 1356 \n",
       "Q 2931 1769 2642 2001 \n",
       "Q 2353 2234 1838 2234 \n",
       "L 1294 2234 \n",
       "L 1294 2753 \n",
       "L 1863 2753 \n",
       "Q 2328 2753 2575 2939 \n",
       "Q 2822 3125 2822 3475 \n",
       "Q 2822 3834 2567 4026 \n",
       "Q 2313 4219 1838 4219 \n",
       "Q 1578 4219 1281 4162 \n",
       "Q 984 4106 628 3988 \n",
       "L 628 4550 \n",
       "Q 988 4650 1302 4700 \n",
       "Q 1616 4750 1894 4750 \n",
       "Q 2613 4750 3031 4423 \n",
       "Q 3450 4097 3450 3541 \n",
       "Q 3450 3153 3228 2886 \n",
       "Q 3006 2619 2597 2516 \n",
       "z\n",
       "\" transform=\"scale(0.015625)\"/>\n",
       "       </defs>\n",
       "       <use xlink:href=\"#DejaVuSans-2212\"/>\n",
       "       <use xlink:href=\"#DejaVuSans-33\" x=\"83.789062\"/>\n",
       "      </g>\n",
       "     </g>\n",
       "    </g>\n",
       "    <g id=\"ytick_3\">\n",
       "     <g id=\"line2d_15\">\n",
       "      <path d=\"M 34.839063 261.117187 \n",
       "L 369.639063 261.117187 \n",
       "\" clip-path=\"url(#p4e7fdef08b)\" style=\"fill: none; stroke: #b0b0b0; stroke-width: 0.8; stroke-linecap: square\"/>\n",
       "     </g>\n",
       "     <g id=\"line2d_16\">\n",
       "      <g>\n",
       "       <use xlink:href=\"#m95f4893222\" x=\"34.839063\" y=\"261.117187\" style=\"stroke: #000000; stroke-width: 0.8\"/>\n",
       "      </g>\n",
       "     </g>\n",
       "     <g id=\"text_8\">\n",
       "      <!-- −2 -->\n",
       "      <g transform=\"translate(7.2 266.436094) scale(0.14 -0.14)\">\n",
       "       <use xlink:href=\"#DejaVuSans-2212\"/>\n",
       "       <use xlink:href=\"#DejaVuSans-32\" x=\"83.789062\"/>\n",
       "      </g>\n",
       "     </g>\n",
       "    </g>\n",
       "    <g id=\"ytick_4\">\n",
       "     <g id=\"line2d_17\">\n",
       "      <path d=\"M 34.839063 224.157187 \n",
       "L 369.639063 224.157187 \n",
       "\" clip-path=\"url(#p4e7fdef08b)\" style=\"fill: none; stroke: #b0b0b0; stroke-width: 0.8; stroke-linecap: square\"/>\n",
       "     </g>\n",
       "     <g id=\"line2d_18\">\n",
       "      <g>\n",
       "       <use xlink:href=\"#m95f4893222\" x=\"34.839063\" y=\"224.157187\" style=\"stroke: #000000; stroke-width: 0.8\"/>\n",
       "      </g>\n",
       "     </g>\n",
       "     <g id=\"text_9\">\n",
       "      <!-- −1 -->\n",
       "      <g transform=\"translate(7.2 229.476094) scale(0.14 -0.14)\">\n",
       "       <defs>\n",
       "        <path id=\"DejaVuSans-31\" d=\"M 794 531 \n",
       "L 1825 531 \n",
       "L 1825 4091 \n",
       "L 703 3866 \n",
       "L 703 4441 \n",
       "L 1819 4666 \n",
       "L 2450 4666 \n",
       "L 2450 531 \n",
       "L 3481 531 \n",
       "L 3481 0 \n",
       "L 794 0 \n",
       "L 794 531 \n",
       "z\n",
       "\" transform=\"scale(0.015625)\"/>\n",
       "       </defs>\n",
       "       <use xlink:href=\"#DejaVuSans-2212\"/>\n",
       "       <use xlink:href=\"#DejaVuSans-31\" x=\"83.789062\"/>\n",
       "      </g>\n",
       "     </g>\n",
       "    </g>\n",
       "    <g id=\"ytick_5\">\n",
       "     <g id=\"line2d_19\">\n",
       "      <path d=\"M 34.839063 187.197187 \n",
       "L 369.639063 187.197187 \n",
       "\" clip-path=\"url(#p4e7fdef08b)\" style=\"fill: none; stroke: #b0b0b0; stroke-width: 0.8; stroke-linecap: square\"/>\n",
       "     </g>\n",
       "     <g id=\"line2d_20\">\n",
       "      <g>\n",
       "       <use xlink:href=\"#m95f4893222\" x=\"34.839063\" y=\"187.197187\" style=\"stroke: #000000; stroke-width: 0.8\"/>\n",
       "      </g>\n",
       "     </g>\n",
       "     <g id=\"text_10\">\n",
       "      <!-- 0 -->\n",
       "      <g transform=\"translate(18.931563 192.516094) scale(0.14 -0.14)\">\n",
       "       <use xlink:href=\"#DejaVuSans-30\"/>\n",
       "      </g>\n",
       "     </g>\n",
       "    </g>\n",
       "    <g id=\"ytick_6\">\n",
       "     <g id=\"line2d_21\">\n",
       "      <path d=\"M 34.839063 150.237187 \n",
       "L 369.639063 150.237187 \n",
       "\" clip-path=\"url(#p4e7fdef08b)\" style=\"fill: none; stroke: #b0b0b0; stroke-width: 0.8; stroke-linecap: square\"/>\n",
       "     </g>\n",
       "     <g id=\"line2d_22\">\n",
       "      <g>\n",
       "       <use xlink:href=\"#m95f4893222\" x=\"34.839063\" y=\"150.237187\" style=\"stroke: #000000; stroke-width: 0.8\"/>\n",
       "      </g>\n",
       "     </g>\n",
       "     <g id=\"text_11\">\n",
       "      <!-- 1 -->\n",
       "      <g transform=\"translate(18.931563 155.556094) scale(0.14 -0.14)\">\n",
       "       <use xlink:href=\"#DejaVuSans-31\"/>\n",
       "      </g>\n",
       "     </g>\n",
       "    </g>\n",
       "    <g id=\"ytick_7\">\n",
       "     <g id=\"line2d_23\">\n",
       "      <path d=\"M 34.839063 113.277187 \n",
       "L 369.639063 113.277187 \n",
       "\" clip-path=\"url(#p4e7fdef08b)\" style=\"fill: none; stroke: #b0b0b0; stroke-width: 0.8; stroke-linecap: square\"/>\n",
       "     </g>\n",
       "     <g id=\"line2d_24\">\n",
       "      <g>\n",
       "       <use xlink:href=\"#m95f4893222\" x=\"34.839063\" y=\"113.277187\" style=\"stroke: #000000; stroke-width: 0.8\"/>\n",
       "      </g>\n",
       "     </g>\n",
       "     <g id=\"text_12\">\n",
       "      <!-- 2 -->\n",
       "      <g transform=\"translate(18.931563 118.596094) scale(0.14 -0.14)\">\n",
       "       <use xlink:href=\"#DejaVuSans-32\"/>\n",
       "      </g>\n",
       "     </g>\n",
       "    </g>\n",
       "    <g id=\"ytick_8\">\n",
       "     <g id=\"line2d_25\">\n",
       "      <path d=\"M 34.839063 76.317187 \n",
       "L 369.639063 76.317187 \n",
       "\" clip-path=\"url(#p4e7fdef08b)\" style=\"fill: none; stroke: #b0b0b0; stroke-width: 0.8; stroke-linecap: square\"/>\n",
       "     </g>\n",
       "     <g id=\"line2d_26\">\n",
       "      <g>\n",
       "       <use xlink:href=\"#m95f4893222\" x=\"34.839063\" y=\"76.317187\" style=\"stroke: #000000; stroke-width: 0.8\"/>\n",
       "      </g>\n",
       "     </g>\n",
       "     <g id=\"text_13\">\n",
       "      <!-- 3 -->\n",
       "      <g transform=\"translate(18.931563 81.636094) scale(0.14 -0.14)\">\n",
       "       <use xlink:href=\"#DejaVuSans-33\"/>\n",
       "      </g>\n",
       "     </g>\n",
       "    </g>\n",
       "    <g id=\"ytick_9\">\n",
       "     <g id=\"line2d_27\">\n",
       "      <path d=\"M 34.839063 39.357187 \n",
       "L 369.639063 39.357187 \n",
       "\" clip-path=\"url(#p4e7fdef08b)\" style=\"fill: none; stroke: #b0b0b0; stroke-width: 0.8; stroke-linecap: square\"/>\n",
       "     </g>\n",
       "     <g id=\"line2d_28\">\n",
       "      <g>\n",
       "       <use xlink:href=\"#m95f4893222\" x=\"34.839063\" y=\"39.357187\" style=\"stroke: #000000; stroke-width: 0.8\"/>\n",
       "      </g>\n",
       "     </g>\n",
       "     <g id=\"text_14\">\n",
       "      <!-- 4 -->\n",
       "      <g transform=\"translate(18.931563 44.676094) scale(0.14 -0.14)\">\n",
       "       <use xlink:href=\"#DejaVuSans-34\"/>\n",
       "      </g>\n",
       "     </g>\n",
       "    </g>\n",
       "   </g>\n",
       "   <g id=\"line2d_29\">\n",
       "    <defs>\n",
       "     <path id=\"me339bbce63\" d=\"M 0 3 \n",
       "C 0.795609 3 1.55874 2.683901 2.12132 2.12132 \n",
       "C 2.683901 1.55874 3 0.795609 3 0 \n",
       "C 3 -0.795609 2.683901 -1.55874 2.12132 -2.12132 \n",
       "C 1.55874 -2.683901 0.795609 -3 0 -3 \n",
       "C -0.795609 -3 -1.55874 -2.683901 -2.12132 -2.12132 \n",
       "C -2.683901 -1.55874 -3 -0.795609 -3 0 \n",
       "C -3 0.795609 -2.683901 1.55874 -2.12132 2.12132 \n",
       "C -1.55874 2.683901 -0.795609 3 0 3 \n",
       "z\n",
       "\" style=\"stroke: #000000\"/>\n",
       "    </defs>\n",
       "    <g clip-path=\"url(#p4e7fdef08b)\">\n",
       "     <use xlink:href=\"#me339bbce63\" x=\"203.350329\" y=\"183.884896\" style=\"stroke: #000000\"/>\n",
       "    </g>\n",
       "   </g>\n",
       "   <g id=\"line2d_30\">\n",
       "    <g clip-path=\"url(#p4e7fdef08b)\">\n",
       "     <use xlink:href=\"#me339bbce63\" x=\"106.302741\" y=\"473.149319\" style=\"stroke: #000000\"/>\n",
       "    </g>\n",
       "   </g>\n",
       "   <g id=\"line2d_31\">\n",
       "    <g clip-path=\"url(#p4e7fdef08b)\">\n",
       "     <use xlink:href=\"#me339bbce63\" x=\"237.684852\" y=\"81.545867\" style=\"stroke: #000000\"/>\n",
       "    </g>\n",
       "   </g>\n",
       "   <g id=\"line2d_32\">\n",
       "    <g clip-path=\"url(#p4e7fdef08b)\">\n",
       "     <use xlink:href=\"#me339bbce63\" x=\"152.125732\" y=\"336.567243\" style=\"stroke: #000000\"/>\n",
       "    </g>\n",
       "   </g>\n",
       "   <g id=\"line2d_33\">\n",
       "    <g clip-path=\"url(#p4e7fdef08b)\">\n",
       "     <use xlink:href=\"#me339bbce63\" x=\"129.347962\" y=\"404.459694\" style=\"stroke: #000000\"/>\n",
       "    </g>\n",
       "   </g>\n",
       "   <g id=\"line2d_34\">\n",
       "    <g clip-path=\"url(#p4e7fdef08b)\">\n",
       "     <use xlink:href=\"#me339bbce63\" x=\"235.077904\" y=\"89.316255\" style=\"stroke: #000000\"/>\n",
       "    </g>\n",
       "   </g>\n",
       "   <g id=\"line2d_35\">\n",
       "    <g clip-path=\"url(#p4e7fdef08b)\">\n",
       "     <use xlink:href=\"#me339bbce63\" x=\"255.928251\" y=\"27.168769\" style=\"stroke: #000000\"/>\n",
       "    </g>\n",
       "   </g>\n",
       "   <g id=\"line2d_36\">\n",
       "    <g clip-path=\"url(#p4e7fdef08b)\">\n",
       "     <use xlink:href=\"#me339bbce63\" x=\"156.010581\" y=\"324.987887\" style=\"stroke: #000000\"/>\n",
       "    </g>\n",
       "   </g>\n",
       "   <g id=\"line2d_37\">\n",
       "    <g clip-path=\"url(#p4e7fdef08b)\"/>\n",
       "   </g>\n",
       "   <g id=\"line2d_38\">\n",
       "    <g clip-path=\"url(#p4e7fdef08b)\"/>\n",
       "   </g>\n",
       "   <g id=\"line2d_39\">\n",
       "    <g clip-path=\"url(#p4e7fdef08b)\">\n",
       "     <use xlink:href=\"#me339bbce63\" x=\"219.221945\" y=\"136.57724\" style=\"stroke: #000000\"/>\n",
       "    </g>\n",
       "   </g>\n",
       "   <g id=\"line2d_40\">\n",
       "    <g clip-path=\"url(#p4e7fdef08b)\">\n",
       "     <use xlink:href=\"#me339bbce63\" x=\"77.339383\" y=\"559.478814\" style=\"stroke: #000000\"/>\n",
       "    </g>\n",
       "   </g>\n",
       "   <g id=\"line2d_41\">\n",
       "    <g clip-path=\"url(#p4e7fdef08b)\">\n",
       "     <use xlink:href=\"#me339bbce63\" x=\"248.512694\" y=\"49.271912\" style=\"stroke: #000000\"/>\n",
       "    </g>\n",
       "   </g>\n",
       "   <g id=\"line2d_42\">\n",
       "    <g clip-path=\"url(#p4e7fdef08b)\">\n",
       "     <use xlink:href=\"#me339bbce63\" x=\"53.9897\" y=\"629.075932\" style=\"stroke: #000000\"/>\n",
       "    </g>\n",
       "   </g>\n",
       "   <g id=\"line2d_43\">\n",
       "    <g clip-path=\"url(#p4e7fdef08b)\"/>\n",
       "   </g>\n",
       "   <g id=\"line2d_44\">\n",
       "    <g clip-path=\"url(#p4e7fdef08b)\">\n",
       "     <use xlink:href=\"#me339bbce63\" x=\"87.934996\" y=\"527.89705\" style=\"stroke: #000000\"/>\n",
       "    </g>\n",
       "   </g>\n",
       "   <g id=\"line2d_45\">\n",
       "    <g clip-path=\"url(#p4e7fdef08b)\"/>\n",
       "   </g>\n",
       "   <g id=\"line2d_46\">\n",
       "    <g clip-path=\"url(#p4e7fdef08b)\"/>\n",
       "   </g>\n",
       "   <g id=\"line2d_47\">\n",
       "    <g clip-path=\"url(#p4e7fdef08b)\">\n",
       "     <use xlink:href=\"#me339bbce63\" x=\"188.649799\" y=\"227.701959\" style=\"stroke: #000000\"/>\n",
       "    </g>\n",
       "   </g>\n",
       "   <g id=\"line2d_48\">\n",
       "    <g clip-path=\"url(#p4e7fdef08b)\"/>\n",
       "   </g>\n",
       "   <g id=\"line2d_49\">\n",
       "    <g clip-path=\"url(#p4e7fdef08b)\"/>\n",
       "   </g>\n",
       "   <g id=\"line2d_50\">\n",
       "    <g clip-path=\"url(#p4e7fdef08b)\">\n",
       "     <use xlink:href=\"#me339bbce63\" x=\"232.662067\" y=\"96.517007\" style=\"stroke: #000000\"/>\n",
       "    </g>\n",
       "   </g>\n",
       "   <g id=\"line2d_51\">\n",
       "    <g clip-path=\"url(#p4e7fdef08b)\">\n",
       "     <use xlink:href=\"#me339bbce63\" x=\"256.618756\" y=\"25.110617\" style=\"stroke: #000000\"/>\n",
       "    </g>\n",
       "   </g>\n",
       "   <g id=\"line2d_52\">\n",
       "    <g clip-path=\"url(#p4e7fdef08b)\">\n",
       "     <use xlink:href=\"#me339bbce63\" x=\"172.444346\" y=\"276.004666\" style=\"stroke: #000000\"/>\n",
       "    </g>\n",
       "   </g>\n",
       "   <g id=\"line2d_53\">\n",
       "    <g clip-path=\"url(#p4e7fdef08b)\">\n",
       "     <use xlink:href=\"#me339bbce63\" x=\"130.421536\" y=\"401.259751\" style=\"stroke: #000000\"/>\n",
       "    </g>\n",
       "   </g>\n",
       "   <g id=\"line2d_54\">\n",
       "    <g clip-path=\"url(#p4e7fdef08b)\">\n",
       "     <use xlink:href=\"#me339bbce63\" x=\"67.725873\" y=\"588.133274\" style=\"stroke: #000000\"/>\n",
       "    </g>\n",
       "   </g>\n",
       "   <g id=\"line2d_55\">\n",
       "    <g clip-path=\"url(#p4e7fdef08b)\">\n",
       "     <use xlink:href=\"#me339bbce63\" x=\"71.021372\" y=\"578.310561\" style=\"stroke: #000000\"/>\n",
       "    </g>\n",
       "   </g>\n",
       "   <g id=\"line2d_56\">\n",
       "    <g clip-path=\"url(#p4e7fdef08b)\"/>\n",
       "   </g>\n",
       "   <g id=\"line2d_57\">\n",
       "    <g clip-path=\"url(#p4e7fdef08b)\"/>\n",
       "   </g>\n",
       "   <g id=\"line2d_58\">\n",
       "    <g clip-path=\"url(#p4e7fdef08b)\">\n",
       "     <use xlink:href=\"#me339bbce63\" x=\"210.203688\" y=\"163.457466\" style=\"stroke: #000000\"/>\n",
       "    </g>\n",
       "   </g>\n",
       "   <g id=\"line2d_59\">\n",
       "    <g clip-path=\"url(#p4e7fdef08b)\">\n",
       "     <use xlink:href=\"#me339bbce63\" x=\"107.164782\" y=\"470.579883\" style=\"stroke: #000000\"/>\n",
       "    </g>\n",
       "   </g>\n",
       "   <g id=\"line2d_60\">\n",
       "    <g clip-path=\"url(#p4e7fdef08b)\">\n",
       "     <use xlink:href=\"#me339bbce63\" x=\"155.738244\" y=\"325.799628\" style=\"stroke: #000000\"/>\n",
       "    </g>\n",
       "   </g>\n",
       "   <g id=\"line2d_61\">\n",
       "    <g clip-path=\"url(#p4e7fdef08b)\"/>\n",
       "   </g>\n",
       "   <g id=\"line2d_62\">\n",
       "    <g clip-path=\"url(#p4e7fdef08b)\">\n",
       "     <use xlink:href=\"#me339bbce63\" x=\"143.72645\" y=\"361.602524\" style=\"stroke: #000000\"/>\n",
       "    </g>\n",
       "   </g>\n",
       "   <g id=\"line2d_63\">\n",
       "    <g clip-path=\"url(#p4e7fdef08b)\">\n",
       "     <use xlink:href=\"#me339bbce63\" x=\"248.274086\" y=\"49.983118\" style=\"stroke: #000000\"/>\n",
       "    </g>\n",
       "   </g>\n",
       "   <g id=\"line2d_64\">\n",
       "    <g clip-path=\"url(#p4e7fdef08b)\">\n",
       "     <use xlink:href=\"#me339bbce63\" x=\"94.062957\" y=\"509.631772\" style=\"stroke: #000000\"/>\n",
       "    </g>\n",
       "   </g>\n",
       "   <g id=\"line2d_65\">\n",
       "    <g clip-path=\"url(#p4e7fdef08b)\">\n",
       "     <use xlink:href=\"#me339bbce63\" x=\"236.615498\" y=\"84.733231\" style=\"stroke: #000000\"/>\n",
       "    </g>\n",
       "   </g>\n",
       "   <g id=\"line2d_66\">\n",
       "    <g clip-path=\"url(#p4e7fdef08b)\"/>\n",
       "   </g>\n",
       "   <g id=\"line2d_67\">\n",
       "    <g clip-path=\"url(#p4e7fdef08b)\">\n",
       "     <use xlink:href=\"#me339bbce63\" x=\"236.84166\" y=\"84.059122\" style=\"stroke: #000000\"/>\n",
       "    </g>\n",
       "   </g>\n",
       "   <g id=\"line2d_68\">\n",
       "    <g clip-path=\"url(#p4e7fdef08b)\">\n",
       "     <use xlink:href=\"#me339bbce63\" x=\"261.043264\" y=\"11.922729\" style=\"stroke: #000000\"/>\n",
       "    </g>\n",
       "   </g>\n",
       "   <g id=\"line2d_69\">\n",
       "    <g clip-path=\"url(#p4e7fdef08b)\">\n",
       "     <use xlink:href=\"#me339bbce63\" x=\"84.594785\" y=\"537.853035\" style=\"stroke: #000000\"/>\n",
       "    </g>\n",
       "   </g>\n",
       "   <g id=\"line2d_70\">\n",
       "    <g clip-path=\"url(#p4e7fdef08b)\">\n",
       "     <use xlink:href=\"#me339bbce63\" x=\"79.786195\" y=\"552.185736\" style=\"stroke: #000000\"/>\n",
       "    </g>\n",
       "   </g>\n",
       "   <g id=\"line2d_71\">\n",
       "    <g clip-path=\"url(#p4e7fdef08b)\">\n",
       "     <use xlink:href=\"#me339bbce63\" x=\"136.359348\" y=\"383.561239\" style=\"stroke: #000000\"/>\n",
       "    </g>\n",
       "   </g>\n",
       "   <g id=\"line2d_72\">\n",
       "    <g clip-path=\"url(#p4e7fdef08b)\"/>\n",
       "   </g>\n",
       "   <g id=\"line2d_73\">\n",
       "    <g clip-path=\"url(#p4e7fdef08b)\">\n",
       "     <use xlink:href=\"#me339bbce63\" x=\"168.039004\" y=\"289.135425\" style=\"stroke: #000000\"/>\n",
       "    </g>\n",
       "   </g>\n",
       "   <g id=\"line2d_74\">\n",
       "    <g clip-path=\"url(#p4e7fdef08b)\"/>\n",
       "   </g>\n",
       "   <g id=\"line2d_75\">\n",
       "    <g clip-path=\"url(#p4e7fdef08b)\"/>\n",
       "   </g>\n",
       "   <g id=\"line2d_76\">\n",
       "    <g clip-path=\"url(#p4e7fdef08b)\">\n",
       "     <use xlink:href=\"#me339bbce63\" x=\"88.421187\" y=\"526.447887\" style=\"stroke: #000000\"/>\n",
       "    </g>\n",
       "   </g>\n",
       "   <g id=\"line2d_77\">\n",
       "    <g clip-path=\"url(#p4e7fdef08b)\">\n",
       "     <use xlink:href=\"#me339bbce63\" x=\"148.374606\" y=\"347.748018\" style=\"stroke: #000000\"/>\n",
       "    </g>\n",
       "   </g>\n",
       "   <g id=\"line2d_78\">\n",
       "    <g clip-path=\"url(#p4e7fdef08b)\"/>\n",
       "   </g>\n",
       "   <g id=\"line2d_79\">\n",
       "    <g clip-path=\"url(#p4e7fdef08b)\"/>\n",
       "   </g>\n",
       "   <g id=\"line2d_80\">\n",
       "    <g clip-path=\"url(#p4e7fdef08b)\">\n",
       "     <use xlink:href=\"#me339bbce63\" x=\"175.677976\" y=\"266.366361\" style=\"stroke: #000000\"/>\n",
       "    </g>\n",
       "   </g>\n",
       "   <g id=\"line2d_81\">\n",
       "    <g clip-path=\"url(#p4e7fdef08b)\">\n",
       "     <use xlink:href=\"#me339bbce63\" x=\"251.933283\" y=\"39.07635\" style=\"stroke: #000000\"/>\n",
       "    </g>\n",
       "   </g>\n",
       "   <g id=\"line2d_82\">\n",
       "    <g clip-path=\"url(#p4e7fdef08b)\">\n",
       "     <use xlink:href=\"#me339bbce63\" x=\"202.2934\" y=\"187.035227\" style=\"stroke: #000000\"/>\n",
       "    </g>\n",
       "   </g>\n",
       "   <g id=\"line2d_83\">\n",
       "    <g clip-path=\"url(#p4e7fdef08b)\">\n",
       "     <use xlink:href=\"#me339bbce63\" x=\"108.766025\" y=\"465.807145\" style=\"stroke: #000000\"/>\n",
       "    </g>\n",
       "   </g>\n",
       "   <g id=\"line2d_84\">\n",
       "    <g clip-path=\"url(#p4e7fdef08b)\">\n",
       "     <use xlink:href=\"#me339bbce63\" x=\"222.022758\" y=\"128.229012\" style=\"stroke: #000000\"/>\n",
       "    </g>\n",
       "   </g>\n",
       "   <g id=\"line2d_85\">\n",
       "    <g clip-path=\"url(#p4e7fdef08b)\">\n",
       "     <use xlink:href=\"#me339bbce63\" x=\"77.200128\" y=\"559.893882\" style=\"stroke: #000000\"/>\n",
       "    </g>\n",
       "   </g>\n",
       "   <g id=\"line2d_86\">\n",
       "    <g clip-path=\"url(#p4e7fdef08b)\"/>\n",
       "   </g>\n",
       "   <g id=\"line2d_87\">\n",
       "    <g clip-path=\"url(#p4e7fdef08b)\">\n",
       "     <use xlink:href=\"#me339bbce63\" x=\"212.975569\" y=\"155.195472\" style=\"stroke: #000000\"/>\n",
       "    </g>\n",
       "   </g>\n",
       "   <g id=\"line2d_88\">\n",
       "    <g clip-path=\"url(#p4e7fdef08b)\">\n",
       "     <use xlink:href=\"#me339bbce63\" x=\"77.167462\" y=\"559.991248\" style=\"stroke: #000000\"/>\n",
       "    </g>\n",
       "   </g>\n",
       "   <g id=\"line2d_89\">\n",
       "    <g clip-path=\"url(#p4e7fdef08b)\">\n",
       "     <use xlink:href=\"#me339bbce63\" x=\"246.142707\" y=\"56.336001\" style=\"stroke: #000000\"/>\n",
       "    </g>\n",
       "   </g>\n",
       "   <g id=\"line2d_90\">\n",
       "    <g clip-path=\"url(#p4e7fdef08b)\"/>\n",
       "   </g>\n",
       "   <g id=\"line2d_91\">\n",
       "    <g clip-path=\"url(#p4e7fdef08b)\">\n",
       "     <use xlink:href=\"#me339bbce63\" x=\"148.69326\" y=\"346.798225\" style=\"stroke: #000000\"/>\n",
       "    </g>\n",
       "   </g>\n",
       "   <g id=\"line2d_92\">\n",
       "    <g clip-path=\"url(#p4e7fdef08b)\"/>\n",
       "   </g>\n",
       "   <g id=\"line2d_93\">\n",
       "    <g clip-path=\"url(#p4e7fdef08b)\">\n",
       "     <use xlink:href=\"#me339bbce63\" x=\"55.140912\" y=\"625.644578\" style=\"stroke: #000000\"/>\n",
       "    </g>\n",
       "   </g>\n",
       "   <g id=\"line2d_94\">\n",
       "    <g clip-path=\"url(#p4e7fdef08b)\">\n",
       "     <use xlink:href=\"#me339bbce63\" x=\"167.212637\" y=\"291.598533\" style=\"stroke: #000000\"/>\n",
       "    </g>\n",
       "   </g>\n",
       "   <g id=\"line2d_95\">\n",
       "    <g clip-path=\"url(#p4e7fdef08b)\">\n",
       "     <use xlink:href=\"#me339bbce63\" x=\"211.660045\" y=\"159.116583\" style=\"stroke: #000000\"/>\n",
       "    </g>\n",
       "   </g>\n",
       "   <g id=\"line2d_96\">\n",
       "    <g clip-path=\"url(#p4e7fdef08b)\"/>\n",
       "   </g>\n",
       "   <g id=\"line2d_97\">\n",
       "    <g clip-path=\"url(#p4e7fdef08b)\">\n",
       "     <use xlink:href=\"#me339bbce63\" x=\"67.408655\" y=\"589.078789\" style=\"stroke: #000000\"/>\n",
       "    </g>\n",
       "   </g>\n",
       "   <g id=\"line2d_98\">\n",
       "    <g clip-path=\"url(#p4e7fdef08b)\">\n",
       "     <use xlink:href=\"#me339bbce63\" x=\"80.08452\" y=\"551.296533\" style=\"stroke: #000000\"/>\n",
       "    </g>\n",
       "   </g>\n",
       "   <g id=\"line2d_99\">\n",
       "    <g clip-path=\"url(#p4e7fdef08b)\">\n",
       "     <use xlink:href=\"#me339bbce63\" x=\"100.204275\" y=\"491.326684\" style=\"stroke: #000000\"/>\n",
       "    </g>\n",
       "   </g>\n",
       "   <g id=\"line2d_100\">\n",
       "    <g clip-path=\"url(#p4e7fdef08b)\">\n",
       "     <use xlink:href=\"#me339bbce63\" x=\"164.094176\" y=\"300.893559\" style=\"stroke: #000000\"/>\n",
       "    </g>\n",
       "   </g>\n",
       "   <g id=\"line2d_101\">\n",
       "    <g clip-path=\"url(#p4e7fdef08b)\">\n",
       "     <use xlink:href=\"#me339bbce63\" x=\"133.042406\" y=\"393.447866\" style=\"stroke: #000000\"/>\n",
       "    </g>\n",
       "   </g>\n",
       "   <g id=\"line2d_102\">\n",
       "    <g clip-path=\"url(#p4e7fdef08b)\">\n",
       "     <use xlink:href=\"#me339bbce63\" x=\"168.821058\" y=\"286.804401\" style=\"stroke: #000000\"/>\n",
       "    </g>\n",
       "   </g>\n",
       "   <g id=\"line2d_103\">\n",
       "    <g clip-path=\"url(#p4e7fdef08b)\">\n",
       "     <use xlink:href=\"#me339bbce63\" x=\"63.01706\" y=\"602.168577\" style=\"stroke: #000000\"/>\n",
       "    </g>\n",
       "   </g>\n",
       "   <g id=\"line2d_104\">\n",
       "    <g clip-path=\"url(#p4e7fdef08b)\">\n",
       "     <use xlink:href=\"#me339bbce63\" x=\"156.907142\" y=\"322.315557\" style=\"stroke: #000000\"/>\n",
       "    </g>\n",
       "   </g>\n",
       "   <g id=\"line2d_105\">\n",
       "    <g clip-path=\"url(#p4e7fdef08b)\"/>\n",
       "   </g>\n",
       "   <g id=\"line2d_106\">\n",
       "    <g clip-path=\"url(#p4e7fdef08b)\">\n",
       "     <use xlink:href=\"#me339bbce63\" x=\"93.26456\" y=\"512.011512\" style=\"stroke: #000000\"/>\n",
       "    </g>\n",
       "   </g>\n",
       "   <g id=\"line2d_107\">\n",
       "    <g clip-path=\"url(#p4e7fdef08b)\"/>\n",
       "   </g>\n",
       "   <g id=\"line2d_108\">\n",
       "    <g clip-path=\"url(#p4e7fdef08b)\">\n",
       "     <use xlink:href=\"#me339bbce63\" x=\"192.013884\" y=\"217.674817\" style=\"stroke: #000000\"/>\n",
       "    </g>\n",
       "   </g>\n",
       "   <g id=\"line2d_109\">\n",
       "    <g clip-path=\"url(#p4e7fdef08b)\">\n",
       "     <use xlink:href=\"#me339bbce63\" x=\"148.520044\" y=\"347.31452\" style=\"stroke: #000000\"/>\n",
       "    </g>\n",
       "   </g>\n",
       "   <g id=\"line2d_110\">\n",
       "    <g clip-path=\"url(#p4e7fdef08b)\"/>\n",
       "   </g>\n",
       "   <g id=\"line2d_111\">\n",
       "    <g clip-path=\"url(#p4e7fdef08b)\">\n",
       "     <use xlink:href=\"#me339bbce63\" x=\"64.797007\" y=\"596.863184\" style=\"stroke: #000000\"/>\n",
       "    </g>\n",
       "   </g>\n",
       "   <g id=\"line2d_112\">\n",
       "    <g clip-path=\"url(#p4e7fdef08b)\">\n",
       "     <use xlink:href=\"#me339bbce63\" x=\"171.332875\" y=\"279.317565\" style=\"stroke: #000000\"/>\n",
       "    </g>\n",
       "   </g>\n",
       "   <g id=\"line2d_113\">\n",
       "    <g clip-path=\"url(#p4e7fdef08b)\"/>\n",
       "   </g>\n",
       "   <g id=\"line2d_114\">\n",
       "    <g clip-path=\"url(#p4e7fdef08b)\"/>\n",
       "   </g>\n",
       "   <g id=\"line2d_115\">\n",
       "    <g clip-path=\"url(#p4e7fdef08b)\">\n",
       "     <use xlink:href=\"#me339bbce63\" x=\"182.983975\" y=\"244.589772\" style=\"stroke: #000000\"/>\n",
       "    </g>\n",
       "   </g>\n",
       "   <g id=\"line2d_116\">\n",
       "    <g clip-path=\"url(#p4e7fdef08b)\">\n",
       "     <use xlink:href=\"#me339bbce63\" x=\"56.342953\" y=\"622.061721\" style=\"stroke: #000000\"/>\n",
       "    </g>\n",
       "   </g>\n",
       "   <g id=\"line2d_117\">\n",
       "    <g clip-path=\"url(#p4e7fdef08b)\">\n",
       "     <use xlink:href=\"#me339bbce63\" x=\"103.391073\" y=\"481.827969\" style=\"stroke: #000000\"/>\n",
       "    </g>\n",
       "   </g>\n",
       "   <g id=\"line2d_118\">\n",
       "    <g clip-path=\"url(#p4e7fdef08b)\"/>\n",
       "   </g>\n",
       "   <g id=\"line2d_119\">\n",
       "    <g clip-path=\"url(#p4e7fdef08b)\">\n",
       "     <use xlink:href=\"#me339bbce63\" x=\"119.12546\" y=\"434.929346\" style=\"stroke: #000000\"/>\n",
       "    </g>\n",
       "   </g>\n",
       "   <g id=\"line2d_120\">\n",
       "    <g clip-path=\"url(#p4e7fdef08b)\">\n",
       "     <use xlink:href=\"#me339bbce63\" x=\"86.12094\" y=\"533.304107\" style=\"stroke: #000000\"/>\n",
       "    </g>\n",
       "   </g>\n",
       "   <g id=\"line2d_121\">\n",
       "    <g clip-path=\"url(#p4e7fdef08b)\">\n",
       "     <use xlink:href=\"#me339bbce63\" x=\"54.957311\" y=\"626.191826\" style=\"stroke: #000000\"/>\n",
       "    </g>\n",
       "   </g>\n",
       "   <g id=\"line2d_122\">\n",
       "    <g clip-path=\"url(#p4e7fdef08b)\"/>\n",
       "   </g>\n",
       "   <g id=\"line2d_123\">\n",
       "    <g clip-path=\"url(#p4e7fdef08b)\">\n",
       "     <use xlink:href=\"#me339bbce63\" x=\"161.033058\" y=\"310.017666\" style=\"stroke: #000000\"/>\n",
       "    </g>\n",
       "   </g>\n",
       "   <g id=\"line2d_124\">\n",
       "    <g clip-path=\"url(#p4e7fdef08b)\">\n",
       "     <use xlink:href=\"#me339bbce63\" x=\"153.091282\" y=\"333.689283\" style=\"stroke: #000000\"/>\n",
       "    </g>\n",
       "   </g>\n",
       "   <g id=\"line2d_125\">\n",
       "    <g clip-path=\"url(#p4e7fdef08b)\">\n",
       "     <use xlink:href=\"#me339bbce63\" x=\"111.126265\" y=\"458.772107\" style=\"stroke: #000000\"/>\n",
       "    </g>\n",
       "   </g>\n",
       "   <g id=\"line2d_126\">\n",
       "    <g clip-path=\"url(#p4e7fdef08b)\">\n",
       "     <use xlink:href=\"#me339bbce63\" x=\"195.978197\" y=\"205.858607\" style=\"stroke: #000000\"/>\n",
       "    </g>\n",
       "   </g>\n",
       "   <g id=\"line2d_127\">\n",
       "    <g clip-path=\"url(#p4e7fdef08b)\"/>\n",
       "   </g>\n",
       "   <g id=\"line2d_128\">\n",
       "    <g clip-path=\"url(#p4e7fdef08b)\">\n",
       "     <use xlink:href=\"#me339bbce63\" x=\"185.249194\" y=\"237.837957\" style=\"stroke: #000000\"/>\n",
       "    </g>\n",
       "   </g>\n",
       "   <g id=\"patch_3\">\n",
       "    <path d=\"M 34.839063 353.517187 \n",
       "L 34.839063 20.877187 \n",
       "\" style=\"fill: none; stroke: #000000; stroke-width: 0.8; stroke-linejoin: miter; stroke-linecap: square\"/>\n",
       "   </g>\n",
       "   <g id=\"patch_4\">\n",
       "    <path d=\"M 369.639063 353.517187 \n",
       "L 369.639063 20.877187 \n",
       "\" style=\"fill: none; stroke: #000000; stroke-width: 0.8; stroke-linejoin: miter; stroke-linecap: square\"/>\n",
       "   </g>\n",
       "   <g id=\"patch_5\">\n",
       "    <path d=\"M 34.839063 353.517187 \n",
       "L 369.639063 353.517187 \n",
       "\" style=\"fill: none; stroke: #000000; stroke-width: 0.8; stroke-linejoin: miter; stroke-linecap: square\"/>\n",
       "   </g>\n",
       "   <g id=\"patch_6\">\n",
       "    <path d=\"M 34.839063 20.877187 \n",
       "L 369.639063 20.877187 \n",
       "\" style=\"fill: none; stroke: #000000; stroke-width: 0.8; stroke-linejoin: miter; stroke-linecap: square\"/>\n",
       "   </g>\n",
       "   <g id=\"text_15\">\n",
       "    <!-- A) -->\n",
       "    <g transform=\"translate(34.839063 20.877187) scale(0.18 -0.18)\">\n",
       "     <defs>\n",
       "      <path id=\"DejaVuSans-Bold-41\" d=\"M 3419 850 \n",
       "L 1538 850 \n",
       "L 1241 0 \n",
       "L 31 0 \n",
       "L 1759 4666 \n",
       "L 3194 4666 \n",
       "L 4922 0 \n",
       "L 3713 0 \n",
       "L 3419 850 \n",
       "z\n",
       "M 1838 1716 \n",
       "L 3116 1716 \n",
       "L 2478 3572 \n",
       "L 1838 1716 \n",
       "z\n",
       "\" transform=\"scale(0.015625)\"/>\n",
       "      <path id=\"DejaVuSans-Bold-29\" d=\"M 513 -844 \n",
       "Q 913 -100 1113 609 \n",
       "Q 1313 1319 1313 2009 \n",
       "Q 1313 2700 1113 3408 \n",
       "Q 913 4116 513 4856 \n",
       "L 1441 4856 \n",
       "Q 1916 4091 2145 3389 \n",
       "Q 2375 2688 2375 2003 \n",
       "Q 2375 1319 2147 623 \n",
       "Q 1919 -72 1441 -844 \n",
       "L 513 -844 \n",
       "z\n",
       "\" transform=\"scale(0.015625)\"/>\n",
       "     </defs>\n",
       "     <use xlink:href=\"#DejaVuSans-Bold-41\"/>\n",
       "     <use xlink:href=\"#DejaVuSans-Bold-29\" x=\"77.392578\"/>\n",
       "    </g>\n",
       "   </g>\n",
       "  </g>\n",
       " </g>\n",
       " <defs>\n",
       "  <clipPath id=\"p4e7fdef08b\">\n",
       "   <rect x=\"34.839063\" y=\"20.877187\" width=\"334.8\" height=\"332.64\"/>\n",
       "  </clipPath>\n",
       " </defs>\n",
       "</svg>\n"
      ],
      "text/plain": [
       "<Figure size 600x600 with 1 Axes>"
      ]
     },
     "metadata": {},
     "output_type": "display_data"
    }
   ],
   "source": [
    "v = np.array([1,3])\n",
    "\n",
    "scalars = np.random.uniform(-4,4,100)\n",
    "\n",
    "# create a figure, etc\n",
    "plt.figure(figsize=(6,6))\n",
    "\n",
    "# loop over the random scalars\n",
    "for s in scalars:\n",
    "\n",
    "  # create point p\n",
    "  p = v*s\n",
    "\n",
    "  # plot it\n",
    "  plt.plot(p[0],p[1],'ko')\n",
    "\n",
    "\n",
    "plt.xlim(-4.5,4.5)\n",
    "plt.ylim(-4.5,4.5)\n",
    "plt.grid()\n",
    "plt.text(-4.5,4.5,'A)',fontweight='bold',fontsize=18)\n",
    "\n",
    "plt.show()\n"
   ]
  },
  {
   "cell_type": "code",
   "execution_count": 9,
   "metadata": {},
   "outputs": [
    {
     "ename": "SyntaxError",
     "evalue": "invalid syntax (3009510016.py, line 7)",
     "output_type": "error",
     "traceback": [
      "\u001b[0;36m  Cell \u001b[0;32mIn[9], line 7\u001b[0;36m\u001b[0m\n\u001b[0;31m    for i in scalars 1\u001b[0m\n\u001b[0m                     ^\u001b[0m\n\u001b[0;31mSyntaxError\u001b[0m\u001b[0;31m:\u001b[0m invalid syntax\n"
     ]
    }
   ],
   "source": [
    "v1 = np.array([3,5,1])\n",
    "v1 = np.array([0,2,2])\n",
    "\n",
    "scalars1 = np.random.uniform(-4,4,100)\n",
    "scalars2 = np.random.uniform(-4,4,100)\n",
    "\n",
    "for i in scalars 1\n"
   ]
  },
  {
   "cell_type": "code",
   "execution_count": 16,
   "metadata": {},
   "outputs": [
    {
     "data": {
      "application/vnd.plotly.v1+json": {
       "config": {
        "plotlyServerURL": "https://plot.ly"
       },
       "data": [
        {
         "marker": {
          "color": "black",
          "size": 6
         },
         "mode": "markers",
         "type": "scatter3d",
         "x": [
          7.754035804058097,
          9.608848901656497,
          -12.253306961209642,
          -5.189002150806129,
          2.376662542075813,
          -6.6804663438049445,
          -0.029113054920379522,
          -3.0115328030301196,
          5.730708527295606,
          11.279858892536332,
          -5.974538737666121,
          -9.860917407879151,
          7.7034344051873935,
          6.328405844762091,
          13.379235128095104,
          15.555887540781859,
          -6.603845192757079,
          10.602208632898506,
          1.404831307648566,
          -8.31053490365931,
          -3.206244305093927,
          4.9934842364732255,
          2.7047742971341395,
          -9.659956785477803,
          -0.9159514978627206,
          -10.033548292894185,
          4.845929004296784,
          -0.09323509943293118,
          4.783363124924932,
          -6.976689748778137,
          9.647445896461328,
          -11.247146836942298,
          -0.9477873029987967,
          -7.807312626299275,
          9.423853401248536,
          9.960181156174915,
          2.3933956396435376,
          3.5775305449558084,
          2.559729569679961,
          -9.61917069572141,
          10.878197240227337,
          6.732681803168826,
          -9.402266705699782,
          10.108969441369565,
          -3.521910569455093,
          -16.872046917272865,
          0.35801123738129004,
          4.059836794247012,
          -8.52056893175757,
          -5.25550613939186,
          -2.483582781903723,
          -12.43861952546915,
          -0.29262975500934685,
          2.872375215129013,
          -7.646926414240725,
          -0.9637652555706095,
          7.567507900933477,
          2.858646764180188,
          7.869801820739586,
          5.0073596637630295,
          -15.60171295658737,
          4.872292495089769,
          2.944780736907486,
          -6.057305994581968,
          -9.828897474725071,
          5.9168078228334355,
          -2.928792456963202,
          -11.713073554884621,
          -10.83568971118899,
          4.437491718263078,
          -4.862839205133793,
          15.333947067315885,
          4.884806119420295,
          -15.679929806112119,
          12.81729818701666,
          0.28495437238281074,
          10.174418539691557,
          -13.118829750229034,
          -13.626610034194057,
          13.582848434149108,
          13.494542842057895,
          -16.76277740606911,
          -4.239164621268166,
          9.861097677180354,
          10.677373669036186,
          -9.194677220135056,
          6.318117319808543,
          1.0502642854863304,
          -14.750497180180902,
          -7.858944680464912,
          3.0797043397008026,
          -8.703831021505398,
          7.307863664441831,
          -6.688105473262015,
          -10.245350702960554,
          10.02720975441968,
          -1.7470122605556688,
          10.115660682222297,
          1.5630837503398878,
          11.26162325896694
         ],
         "y": [
          12.923393006763492,
          16.014748169427495,
          -20.422178268682735,
          -8.648336918010216,
          3.961104236793023,
          -11.13411057300824,
          -0.04852175820063298,
          -5.019221338383533,
          9.55118087882601,
          18.799764820893884,
          -9.957564562776868,
          -16.434862346465252,
          12.83905734197899,
          10.547343074603482,
          22.298725213491835,
          25.92647923463643,
          -11.006408654595132,
          17.67034772149751,
          2.3413855127476086,
          -13.850891506098847,
          -5.343740508489878,
          8.322473727455375,
          4.507957161890232,
          -16.09992797579634,
          -1.526585829771201,
          -16.72258048815697,
          8.07654834049464,
          -0.15539183238821863,
          7.972271874874888,
          -11.62781624796356,
          16.079076494102214,
          -18.74524472823716,
          -1.5796455049979956,
          -13.01218771049879,
          15.706422335414224,
          16.600301926958192,
          3.98899273273923,
          5.962550908259681,
          4.2662159494666,
          -16.031951159535687,
          18.130328733712226,
          11.22113633861471,
          -15.670444509499635,
          16.848282402282607,
          -5.869850949091822,
          -28.12007819545477,
          0.5966853956354843,
          6.766394657078354,
          -14.200948219595947,
          -8.759176898986434,
          -4.139304636506205,
          -20.731032542448585,
          -0.4877162583489114,
          4.787292025215022,
          -12.744877357067875,
          -1.606275425951016,
          12.612513168222463,
          4.764411273633646,
          13.116336367899311,
          8.34559943960505,
          -26.00285492764562,
          8.12048749181628,
          4.907967894845811,
          -10.095509990969946,
          -16.381495791208454,
          9.86134637138906,
          -4.881320761605337,
          -19.521789258141037,
          -18.059482851981656,
          7.395819530438463,
          -8.104732008556322,
          25.55657844552647,
          8.141343532367157,
          -26.133216343520203,
          21.362163645027767,
          0.47492395397135123,
          16.95736423281926,
          -21.86471625038172,
          -22.711016723656762,
          22.638080723581844,
          22.49090473676316,
          -27.937962343448515,
          -7.065274368780276,
          16.43516279530059,
          17.79562278172698,
          -15.324462033558426,
          10.53019553301424,
          1.7504404758105507,
          -24.58416196696817,
          -13.09824113410819,
          5.132840566168003,
          -14.50638503584233,
          12.179772774069718,
          -11.146842455436692,
          -17.07558450493426,
          16.712016257366137,
          -2.9116871009261147,
          16.85943447037049,
          2.605139583899815,
          18.769372098278236
         ],
         "z": [
          2.5846786013526986,
          3.202949633885499,
          -4.084435653736547,
          -1.729667383602043,
          0.7922208473586045,
          -2.226822114601648,
          -0.009704351640126507,
          -1.0038442676767065,
          1.9102361757652022,
          3.759952964178777,
          -1.9915129125553737,
          -3.2869724692930506,
          2.567811468395798,
          2.1094686149206967,
          4.459745042698367,
          5.185295846927286,
          -2.2012817309190265,
          3.534069544299502,
          0.4682771025495218,
          -2.7701783012197696,
          -1.0687481016979756,
          1.664494745491075,
          0.9015914323780465,
          -3.219985595159268,
          -0.3053171659542402,
          -3.3445160976313946,
          1.615309668098928,
          -0.031078366477643726,
          1.5944543749749776,
          -2.325563249592712,
          3.2158152988204427,
          -3.7490489456474325,
          -0.31592910099959903,
          -2.602437542099758,
          3.141284467082845,
          3.3200603853916384,
          0.7977985465478459,
          1.1925101816519361,
          0.8532431898933202,
          -3.206390231907137,
          3.6260657467424453,
          2.244227267722942,
          -3.1340889018999274,
          3.3696564804565217,
          -1.1739701898183643,
          -5.624015639090954,
          0.11933707912709668,
          1.3532789314156708,
          -2.8401896439191896,
          -1.7518353797972868,
          -0.827860927301241,
          -4.146206508489717,
          -0.09754325166978228,
          0.9574584050430044,
          -2.548975471413575,
          -0.3212550851902032,
          2.5225026336444927,
          0.9528822547267293,
          2.623267273579862,
          1.6691198879210098,
          -5.200570985529123,
          1.6240974983632563,
          0.9815935789691621,
          -2.0191019981939893,
          -3.2762991582416907,
          1.9722692742778118,
          -0.9762641523210673,
          -3.9043578516282076,
          -3.611896570396331,
          1.4791639060876927,
          -1.6209464017112643,
          5.111315689105295,
          1.6282687064734316,
          -5.22664326870404,
          4.272432729005553,
          0.09498479079427025,
          3.3914728465638517,
          -4.372943250076345,
          -4.542203344731352,
          4.527616144716369,
          4.4981809473526315,
          -5.587592468689703,
          -1.4130548737560553,
          3.287032559060118,
          3.5591245563453957,
          -3.064892406711685,
          2.106039106602848,
          0.35008809516211015,
          -4.9168323933936335,
          -2.6196482268216377,
          1.0265681132336009,
          -2.9012770071684657,
          2.4359545548139434,
          -2.2293684910873384,
          -3.4151169009868516,
          3.342403251473227,
          -0.5823374201852229,
          3.3718868940740987,
          0.5210279167799627,
          3.753874419655647
         ]
        }
       ],
       "layout": {
        "margin": {
         "b": 0,
         "l": 0,
         "r": 0,
         "t": 0
        },
        "template": {
         "data": {
          "bar": [
           {
            "error_x": {
             "color": "#2a3f5f"
            },
            "error_y": {
             "color": "#2a3f5f"
            },
            "marker": {
             "line": {
              "color": "#E5ECF6",
              "width": 0.5
             },
             "pattern": {
              "fillmode": "overlay",
              "size": 10,
              "solidity": 0.2
             }
            },
            "type": "bar"
           }
          ],
          "barpolar": [
           {
            "marker": {
             "line": {
              "color": "#E5ECF6",
              "width": 0.5
             },
             "pattern": {
              "fillmode": "overlay",
              "size": 10,
              "solidity": 0.2
             }
            },
            "type": "barpolar"
           }
          ],
          "carpet": [
           {
            "aaxis": {
             "endlinecolor": "#2a3f5f",
             "gridcolor": "white",
             "linecolor": "white",
             "minorgridcolor": "white",
             "startlinecolor": "#2a3f5f"
            },
            "baxis": {
             "endlinecolor": "#2a3f5f",
             "gridcolor": "white",
             "linecolor": "white",
             "minorgridcolor": "white",
             "startlinecolor": "#2a3f5f"
            },
            "type": "carpet"
           }
          ],
          "choropleth": [
           {
            "colorbar": {
             "outlinewidth": 0,
             "ticks": ""
            },
            "type": "choropleth"
           }
          ],
          "contour": [
           {
            "colorbar": {
             "outlinewidth": 0,
             "ticks": ""
            },
            "colorscale": [
             [
              0,
              "#0d0887"
             ],
             [
              0.1111111111111111,
              "#46039f"
             ],
             [
              0.2222222222222222,
              "#7201a8"
             ],
             [
              0.3333333333333333,
              "#9c179e"
             ],
             [
              0.4444444444444444,
              "#bd3786"
             ],
             [
              0.5555555555555556,
              "#d8576b"
             ],
             [
              0.6666666666666666,
              "#ed7953"
             ],
             [
              0.7777777777777778,
              "#fb9f3a"
             ],
             [
              0.8888888888888888,
              "#fdca26"
             ],
             [
              1,
              "#f0f921"
             ]
            ],
            "type": "contour"
           }
          ],
          "contourcarpet": [
           {
            "colorbar": {
             "outlinewidth": 0,
             "ticks": ""
            },
            "type": "contourcarpet"
           }
          ],
          "heatmap": [
           {
            "colorbar": {
             "outlinewidth": 0,
             "ticks": ""
            },
            "colorscale": [
             [
              0,
              "#0d0887"
             ],
             [
              0.1111111111111111,
              "#46039f"
             ],
             [
              0.2222222222222222,
              "#7201a8"
             ],
             [
              0.3333333333333333,
              "#9c179e"
             ],
             [
              0.4444444444444444,
              "#bd3786"
             ],
             [
              0.5555555555555556,
              "#d8576b"
             ],
             [
              0.6666666666666666,
              "#ed7953"
             ],
             [
              0.7777777777777778,
              "#fb9f3a"
             ],
             [
              0.8888888888888888,
              "#fdca26"
             ],
             [
              1,
              "#f0f921"
             ]
            ],
            "type": "heatmap"
           }
          ],
          "heatmapgl": [
           {
            "colorbar": {
             "outlinewidth": 0,
             "ticks": ""
            },
            "colorscale": [
             [
              0,
              "#0d0887"
             ],
             [
              0.1111111111111111,
              "#46039f"
             ],
             [
              0.2222222222222222,
              "#7201a8"
             ],
             [
              0.3333333333333333,
              "#9c179e"
             ],
             [
              0.4444444444444444,
              "#bd3786"
             ],
             [
              0.5555555555555556,
              "#d8576b"
             ],
             [
              0.6666666666666666,
              "#ed7953"
             ],
             [
              0.7777777777777778,
              "#fb9f3a"
             ],
             [
              0.8888888888888888,
              "#fdca26"
             ],
             [
              1,
              "#f0f921"
             ]
            ],
            "type": "heatmapgl"
           }
          ],
          "histogram": [
           {
            "marker": {
             "pattern": {
              "fillmode": "overlay",
              "size": 10,
              "solidity": 0.2
             }
            },
            "type": "histogram"
           }
          ],
          "histogram2d": [
           {
            "colorbar": {
             "outlinewidth": 0,
             "ticks": ""
            },
            "colorscale": [
             [
              0,
              "#0d0887"
             ],
             [
              0.1111111111111111,
              "#46039f"
             ],
             [
              0.2222222222222222,
              "#7201a8"
             ],
             [
              0.3333333333333333,
              "#9c179e"
             ],
             [
              0.4444444444444444,
              "#bd3786"
             ],
             [
              0.5555555555555556,
              "#d8576b"
             ],
             [
              0.6666666666666666,
              "#ed7953"
             ],
             [
              0.7777777777777778,
              "#fb9f3a"
             ],
             [
              0.8888888888888888,
              "#fdca26"
             ],
             [
              1,
              "#f0f921"
             ]
            ],
            "type": "histogram2d"
           }
          ],
          "histogram2dcontour": [
           {
            "colorbar": {
             "outlinewidth": 0,
             "ticks": ""
            },
            "colorscale": [
             [
              0,
              "#0d0887"
             ],
             [
              0.1111111111111111,
              "#46039f"
             ],
             [
              0.2222222222222222,
              "#7201a8"
             ],
             [
              0.3333333333333333,
              "#9c179e"
             ],
             [
              0.4444444444444444,
              "#bd3786"
             ],
             [
              0.5555555555555556,
              "#d8576b"
             ],
             [
              0.6666666666666666,
              "#ed7953"
             ],
             [
              0.7777777777777778,
              "#fb9f3a"
             ],
             [
              0.8888888888888888,
              "#fdca26"
             ],
             [
              1,
              "#f0f921"
             ]
            ],
            "type": "histogram2dcontour"
           }
          ],
          "mesh3d": [
           {
            "colorbar": {
             "outlinewidth": 0,
             "ticks": ""
            },
            "type": "mesh3d"
           }
          ],
          "parcoords": [
           {
            "line": {
             "colorbar": {
              "outlinewidth": 0,
              "ticks": ""
             }
            },
            "type": "parcoords"
           }
          ],
          "pie": [
           {
            "automargin": true,
            "type": "pie"
           }
          ],
          "scatter": [
           {
            "fillpattern": {
             "fillmode": "overlay",
             "size": 10,
             "solidity": 0.2
            },
            "type": "scatter"
           }
          ],
          "scatter3d": [
           {
            "line": {
             "colorbar": {
              "outlinewidth": 0,
              "ticks": ""
             }
            },
            "marker": {
             "colorbar": {
              "outlinewidth": 0,
              "ticks": ""
             }
            },
            "type": "scatter3d"
           }
          ],
          "scattercarpet": [
           {
            "marker": {
             "colorbar": {
              "outlinewidth": 0,
              "ticks": ""
             }
            },
            "type": "scattercarpet"
           }
          ],
          "scattergeo": [
           {
            "marker": {
             "colorbar": {
              "outlinewidth": 0,
              "ticks": ""
             }
            },
            "type": "scattergeo"
           }
          ],
          "scattergl": [
           {
            "marker": {
             "colorbar": {
              "outlinewidth": 0,
              "ticks": ""
             }
            },
            "type": "scattergl"
           }
          ],
          "scattermapbox": [
           {
            "marker": {
             "colorbar": {
              "outlinewidth": 0,
              "ticks": ""
             }
            },
            "type": "scattermapbox"
           }
          ],
          "scatterpolar": [
           {
            "marker": {
             "colorbar": {
              "outlinewidth": 0,
              "ticks": ""
             }
            },
            "type": "scatterpolar"
           }
          ],
          "scatterpolargl": [
           {
            "marker": {
             "colorbar": {
              "outlinewidth": 0,
              "ticks": ""
             }
            },
            "type": "scatterpolargl"
           }
          ],
          "scatterternary": [
           {
            "marker": {
             "colorbar": {
              "outlinewidth": 0,
              "ticks": ""
             }
            },
            "type": "scatterternary"
           }
          ],
          "surface": [
           {
            "colorbar": {
             "outlinewidth": 0,
             "ticks": ""
            },
            "colorscale": [
             [
              0,
              "#0d0887"
             ],
             [
              0.1111111111111111,
              "#46039f"
             ],
             [
              0.2222222222222222,
              "#7201a8"
             ],
             [
              0.3333333333333333,
              "#9c179e"
             ],
             [
              0.4444444444444444,
              "#bd3786"
             ],
             [
              0.5555555555555556,
              "#d8576b"
             ],
             [
              0.6666666666666666,
              "#ed7953"
             ],
             [
              0.7777777777777778,
              "#fb9f3a"
             ],
             [
              0.8888888888888888,
              "#fdca26"
             ],
             [
              1,
              "#f0f921"
             ]
            ],
            "type": "surface"
           }
          ],
          "table": [
           {
            "cells": {
             "fill": {
              "color": "#EBF0F8"
             },
             "line": {
              "color": "white"
             }
            },
            "header": {
             "fill": {
              "color": "#C8D4E3"
             },
             "line": {
              "color": "white"
             }
            },
            "type": "table"
           }
          ]
         },
         "layout": {
          "annotationdefaults": {
           "arrowcolor": "#2a3f5f",
           "arrowhead": 0,
           "arrowwidth": 1
          },
          "autotypenumbers": "strict",
          "coloraxis": {
           "colorbar": {
            "outlinewidth": 0,
            "ticks": ""
           }
          },
          "colorscale": {
           "diverging": [
            [
             0,
             "#8e0152"
            ],
            [
             0.1,
             "#c51b7d"
            ],
            [
             0.2,
             "#de77ae"
            ],
            [
             0.3,
             "#f1b6da"
            ],
            [
             0.4,
             "#fde0ef"
            ],
            [
             0.5,
             "#f7f7f7"
            ],
            [
             0.6,
             "#e6f5d0"
            ],
            [
             0.7,
             "#b8e186"
            ],
            [
             0.8,
             "#7fbc41"
            ],
            [
             0.9,
             "#4d9221"
            ],
            [
             1,
             "#276419"
            ]
           ],
           "sequential": [
            [
             0,
             "#0d0887"
            ],
            [
             0.1111111111111111,
             "#46039f"
            ],
            [
             0.2222222222222222,
             "#7201a8"
            ],
            [
             0.3333333333333333,
             "#9c179e"
            ],
            [
             0.4444444444444444,
             "#bd3786"
            ],
            [
             0.5555555555555556,
             "#d8576b"
            ],
            [
             0.6666666666666666,
             "#ed7953"
            ],
            [
             0.7777777777777778,
             "#fb9f3a"
            ],
            [
             0.8888888888888888,
             "#fdca26"
            ],
            [
             1,
             "#f0f921"
            ]
           ],
           "sequentialminus": [
            [
             0,
             "#0d0887"
            ],
            [
             0.1111111111111111,
             "#46039f"
            ],
            [
             0.2222222222222222,
             "#7201a8"
            ],
            [
             0.3333333333333333,
             "#9c179e"
            ],
            [
             0.4444444444444444,
             "#bd3786"
            ],
            [
             0.5555555555555556,
             "#d8576b"
            ],
            [
             0.6666666666666666,
             "#ed7953"
            ],
            [
             0.7777777777777778,
             "#fb9f3a"
            ],
            [
             0.8888888888888888,
             "#fdca26"
            ],
            [
             1,
             "#f0f921"
            ]
           ]
          },
          "colorway": [
           "#636efa",
           "#EF553B",
           "#00cc96",
           "#ab63fa",
           "#FFA15A",
           "#19d3f3",
           "#FF6692",
           "#B6E880",
           "#FF97FF",
           "#FECB52"
          ],
          "font": {
           "color": "#2a3f5f"
          },
          "geo": {
           "bgcolor": "white",
           "lakecolor": "white",
           "landcolor": "#E5ECF6",
           "showlakes": true,
           "showland": true,
           "subunitcolor": "white"
          },
          "hoverlabel": {
           "align": "left"
          },
          "hovermode": "closest",
          "mapbox": {
           "style": "light"
          },
          "paper_bgcolor": "white",
          "plot_bgcolor": "#E5ECF6",
          "polar": {
           "angularaxis": {
            "gridcolor": "white",
            "linecolor": "white",
            "ticks": ""
           },
           "bgcolor": "#E5ECF6",
           "radialaxis": {
            "gridcolor": "white",
            "linecolor": "white",
            "ticks": ""
           }
          },
          "scene": {
           "xaxis": {
            "backgroundcolor": "#E5ECF6",
            "gridcolor": "white",
            "gridwidth": 2,
            "linecolor": "white",
            "showbackground": true,
            "ticks": "",
            "zerolinecolor": "white"
           },
           "yaxis": {
            "backgroundcolor": "#E5ECF6",
            "gridcolor": "white",
            "gridwidth": 2,
            "linecolor": "white",
            "showbackground": true,
            "ticks": "",
            "zerolinecolor": "white"
           },
           "zaxis": {
            "backgroundcolor": "#E5ECF6",
            "gridcolor": "white",
            "gridwidth": 2,
            "linecolor": "white",
            "showbackground": true,
            "ticks": "",
            "zerolinecolor": "white"
           }
          },
          "shapedefaults": {
           "line": {
            "color": "#2a3f5f"
           }
          },
          "ternary": {
           "aaxis": {
            "gridcolor": "white",
            "linecolor": "white",
            "ticks": ""
           },
           "baxis": {
            "gridcolor": "white",
            "linecolor": "white",
            "ticks": ""
           },
           "bgcolor": "#E5ECF6",
           "caxis": {
            "gridcolor": "white",
            "linecolor": "white",
            "ticks": ""
           }
          },
          "title": {
           "x": 0.05
          },
          "xaxis": {
           "automargin": true,
           "gridcolor": "white",
           "linecolor": "white",
           "ticks": "",
           "title": {
            "standoff": 15
           },
           "zerolinecolor": "white",
           "zerolinewidth": 2
          },
          "yaxis": {
           "automargin": true,
           "gridcolor": "white",
           "linecolor": "white",
           "ticks": "",
           "title": {
            "standoff": 15
           },
           "zerolinecolor": "white",
           "zerolinewidth": 2
          }
         }
        }
       }
      }
     },
     "metadata": {},
     "output_type": "display_data"
    }
   ],
   "source": [
    "import plotly.graph_objects as go\n",
    "\n",
    "xlim = [-4,4]\n",
    "\n",
    "## uncomment the lines below for the second part\n",
    "v1 = np.array([ 3.0,5.0,1.0 ])\n",
    "v2 = np.array([ 1.5,2.5,0.5 ])\n",
    "\n",
    "\n",
    "# random scalars in the x-axis range\n",
    "scalars = np.random.uniform(low=xlim[0],high=xlim[1],size=(100,2))\n",
    "\n",
    "\n",
    "\n",
    "# create random points\n",
    "points = np.zeros((100,3))\n",
    "for i in range(len(scalars)):\n",
    "\n",
    "  # define this point as a random weighted combination of the two vectors\n",
    "  points[i,:] = v1*scalars[i,0] + v2*scalars[i,1]\n",
    "\n",
    "\n",
    "# draw the dots in the plane\n",
    "fig = go.Figure( data=[go.Scatter3d(x=points[:,0], y=points[:,1], z=points[:,2], \n",
    "                                    mode='markers', marker=dict(size=6,color='black') )])\n",
    "\n",
    "fig.update_layout(margin=dict(l=0,r=0,b=0,t=0))\n",
    "fig.show()"
   ]
  },
  {
   "cell_type": "markdown",
   "metadata": {
    "id": "OzKK07ak0CBp"
   },
   "source": [
    "# Linear weighted combinations"
   ]
  },
  {
   "cell_type": "code",
   "execution_count": 10,
   "metadata": {
    "id": "l8E6A7Lv0CEb"
   },
   "outputs": [
    {
     "data": {
      "text/plain": [
       "array([ -7,  -4, -13])"
      ]
     },
     "execution_count": 10,
     "metadata": {},
     "output_type": "execute_result"
    }
   ],
   "source": [
    "# the scalars\n",
    "l1 = 1\n",
    "l2 = 2\n",
    "l3 = -3\n",
    "\n",
    "# the vectors\n",
    "v1 = np.array([4,5,1])\n",
    "v2 = np.array([-4,0,-4])\n",
    "v3 = np.array([1,3,2])\n",
    "\n",
    "# linear weighted combination\n",
    "l1*v1 + l2*v2 + l3*v3"
   ]
  },
  {
   "cell_type": "code",
   "execution_count": null,
   "metadata": {
    "id": "XIgW89gA0CHA"
   },
   "outputs": [],
   "source": []
  },
  {
   "cell_type": "markdown",
   "metadata": {
    "id": "8KQKiXGFe5nq"
   },
   "source": [
    "# Basis vectors and points"
   ]
  },
  {
   "cell_type": "code",
   "execution_count": 11,
   "metadata": {
    "id": "ZGmivlIBdHTr"
   },
   "outputs": [
    {
     "data": {
      "image/svg+xml": [
       "<?xml version=\"1.0\" encoding=\"utf-8\" standalone=\"no\"?>\n",
       "<!DOCTYPE svg PUBLIC \"-//W3C//DTD SVG 1.1//EN\"\n",
       "  \"http://www.w3.org/Graphics/SVG/1.1/DTD/svg11.dtd\">\n",
       "<svg xmlns:xlink=\"http://www.w3.org/1999/xlink\" width=\"374.679062pt\" height=\"367.589375pt\" viewBox=\"0 0 374.679062 367.589375\" xmlns=\"http://www.w3.org/2000/svg\" version=\"1.1\">\n",
       " <metadata>\n",
       "  <rdf:RDF xmlns:dc=\"http://purl.org/dc/elements/1.1/\" xmlns:cc=\"http://creativecommons.org/ns#\" xmlns:rdf=\"http://www.w3.org/1999/02/22-rdf-syntax-ns#\">\n",
       "   <cc:Work>\n",
       "    <dc:type rdf:resource=\"http://purl.org/dc/dcmitype/StillImage\"/>\n",
       "    <dc:date>2024-03-01T12:11:03.564826</dc:date>\n",
       "    <dc:format>image/svg+xml</dc:format>\n",
       "    <dc:creator>\n",
       "     <cc:Agent>\n",
       "      <dc:title>Matplotlib v3.8.0, https://matplotlib.org/</dc:title>\n",
       "     </cc:Agent>\n",
       "    </dc:creator>\n",
       "   </cc:Work>\n",
       "  </rdf:RDF>\n",
       " </metadata>\n",
       " <defs>\n",
       "  <style type=\"text/css\">*{stroke-linejoin: round; stroke-linecap: butt}</style>\n",
       " </defs>\n",
       " <g id=\"figure_1\">\n",
       "  <g id=\"patch_1\">\n",
       "   <path d=\"M 0 367.589375 \n",
       "L 374.679062 367.589375 \n",
       "L 374.679062 0 \n",
       "L 0 0 \n",
       "z\n",
       "\" style=\"fill: #ffffff\"/>\n",
       "  </g>\n",
       "  <g id=\"axes_1\">\n",
       "   <g id=\"patch_2\">\n",
       "    <path d=\"M 34.839062 339.84 \n",
       "L 367.479062 339.84 \n",
       "L 367.479062 7.2 \n",
       "L 34.839062 7.2 \n",
       "z\n",
       "\" style=\"fill: #ffffff\"/>\n",
       "   </g>\n",
       "   <g id=\"matplotlib.axis_1\">\n",
       "    <g id=\"xtick_1\">\n",
       "     <g id=\"line2d_1\">\n",
       "      <path d=\"M 58.599063 339.84 \n",
       "L 58.599063 7.2 \n",
       "\" clip-path=\"url(#pa0acc40ec9)\" style=\"fill: none; stroke-dasharray: 2.96,1.28; stroke-dashoffset: 0; stroke: #cccccc; stroke-width: 0.8\"/>\n",
       "     </g>\n",
       "     <g id=\"line2d_2\">\n",
       "      <defs>\n",
       "       <path id=\"m75fd3f834f\" d=\"M 0 0 \n",
       "L 0 3.5 \n",
       "\" style=\"stroke: #000000; stroke-width: 0.8\"/>\n",
       "      </defs>\n",
       "      <g>\n",
       "       <use xlink:href=\"#m75fd3f834f\" x=\"58.599063\" y=\"339.84\" style=\"stroke: #000000; stroke-width: 0.8\"/>\n",
       "      </g>\n",
       "     </g>\n",
       "     <g id=\"text_1\">\n",
       "      <!-- −6 -->\n",
       "      <g transform=\"translate(48.279531 357.477813) scale(0.14 -0.14)\">\n",
       "       <defs>\n",
       "        <path id=\"DejaVuSans-2212\" d=\"M 678 2272 \n",
       "L 4684 2272 \n",
       "L 4684 1741 \n",
       "L 678 1741 \n",
       "L 678 2272 \n",
       "z\n",
       "\" transform=\"scale(0.015625)\"/>\n",
       "        <path id=\"DejaVuSans-36\" d=\"M 2113 2584 \n",
       "Q 1688 2584 1439 2293 \n",
       "Q 1191 2003 1191 1497 \n",
       "Q 1191 994 1439 701 \n",
       "Q 1688 409 2113 409 \n",
       "Q 2538 409 2786 701 \n",
       "Q 3034 994 3034 1497 \n",
       "Q 3034 2003 2786 2293 \n",
       "Q 2538 2584 2113 2584 \n",
       "z\n",
       "M 3366 4563 \n",
       "L 3366 3988 \n",
       "Q 3128 4100 2886 4159 \n",
       "Q 2644 4219 2406 4219 \n",
       "Q 1781 4219 1451 3797 \n",
       "Q 1122 3375 1075 2522 \n",
       "Q 1259 2794 1537 2939 \n",
       "Q 1816 3084 2150 3084 \n",
       "Q 2853 3084 3261 2657 \n",
       "Q 3669 2231 3669 1497 \n",
       "Q 3669 778 3244 343 \n",
       "Q 2819 -91 2113 -91 \n",
       "Q 1303 -91 875 529 \n",
       "Q 447 1150 447 2328 \n",
       "Q 447 3434 972 4092 \n",
       "Q 1497 4750 2381 4750 \n",
       "Q 2619 4750 2861 4703 \n",
       "Q 3103 4656 3366 4563 \n",
       "z\n",
       "\" transform=\"scale(0.015625)\"/>\n",
       "       </defs>\n",
       "       <use xlink:href=\"#DejaVuSans-2212\"/>\n",
       "       <use xlink:href=\"#DejaVuSans-36\" x=\"83.789062\"/>\n",
       "      </g>\n",
       "     </g>\n",
       "    </g>\n",
       "    <g id=\"xtick_2\">\n",
       "     <g id=\"line2d_3\">\n",
       "      <path d=\"M 106.119063 339.84 \n",
       "L 106.119063 7.2 \n",
       "\" clip-path=\"url(#pa0acc40ec9)\" style=\"fill: none; stroke-dasharray: 2.96,1.28; stroke-dashoffset: 0; stroke: #cccccc; stroke-width: 0.8\"/>\n",
       "     </g>\n",
       "     <g id=\"line2d_4\">\n",
       "      <g>\n",
       "       <use xlink:href=\"#m75fd3f834f\" x=\"106.119063\" y=\"339.84\" style=\"stroke: #000000; stroke-width: 0.8\"/>\n",
       "      </g>\n",
       "     </g>\n",
       "     <g id=\"text_2\">\n",
       "      <!-- −4 -->\n",
       "      <g transform=\"translate(95.799531 357.477813) scale(0.14 -0.14)\">\n",
       "       <defs>\n",
       "        <path id=\"DejaVuSans-34\" d=\"M 2419 4116 \n",
       "L 825 1625 \n",
       "L 2419 1625 \n",
       "L 2419 4116 \n",
       "z\n",
       "M 2253 4666 \n",
       "L 3047 4666 \n",
       "L 3047 1625 \n",
       "L 3713 1625 \n",
       "L 3713 1100 \n",
       "L 3047 1100 \n",
       "L 3047 0 \n",
       "L 2419 0 \n",
       "L 2419 1100 \n",
       "L 313 1100 \n",
       "L 313 1709 \n",
       "L 2253 4666 \n",
       "z\n",
       "\" transform=\"scale(0.015625)\"/>\n",
       "       </defs>\n",
       "       <use xlink:href=\"#DejaVuSans-2212\"/>\n",
       "       <use xlink:href=\"#DejaVuSans-34\" x=\"83.789062\"/>\n",
       "      </g>\n",
       "     </g>\n",
       "    </g>\n",
       "    <g id=\"xtick_3\">\n",
       "     <g id=\"line2d_5\">\n",
       "      <path d=\"M 153.639063 339.84 \n",
       "L 153.639063 7.2 \n",
       "\" clip-path=\"url(#pa0acc40ec9)\" style=\"fill: none; stroke-dasharray: 2.96,1.28; stroke-dashoffset: 0; stroke: #cccccc; stroke-width: 0.8\"/>\n",
       "     </g>\n",
       "     <g id=\"line2d_6\">\n",
       "      <g>\n",
       "       <use xlink:href=\"#m75fd3f834f\" x=\"153.639063\" y=\"339.84\" style=\"stroke: #000000; stroke-width: 0.8\"/>\n",
       "      </g>\n",
       "     </g>\n",
       "     <g id=\"text_3\">\n",
       "      <!-- −2 -->\n",
       "      <g transform=\"translate(143.319531 357.477813) scale(0.14 -0.14)\">\n",
       "       <defs>\n",
       "        <path id=\"DejaVuSans-32\" d=\"M 1228 531 \n",
       "L 3431 531 \n",
       "L 3431 0 \n",
       "L 469 0 \n",
       "L 469 531 \n",
       "Q 828 903 1448 1529 \n",
       "Q 2069 2156 2228 2338 \n",
       "Q 2531 2678 2651 2914 \n",
       "Q 2772 3150 2772 3378 \n",
       "Q 2772 3750 2511 3984 \n",
       "Q 2250 4219 1831 4219 \n",
       "Q 1534 4219 1204 4116 \n",
       "Q 875 4013 500 3803 \n",
       "L 500 4441 \n",
       "Q 881 4594 1212 4672 \n",
       "Q 1544 4750 1819 4750 \n",
       "Q 2544 4750 2975 4387 \n",
       "Q 3406 4025 3406 3419 \n",
       "Q 3406 3131 3298 2873 \n",
       "Q 3191 2616 2906 2266 \n",
       "Q 2828 2175 2409 1742 \n",
       "Q 1991 1309 1228 531 \n",
       "z\n",
       "\" transform=\"scale(0.015625)\"/>\n",
       "       </defs>\n",
       "       <use xlink:href=\"#DejaVuSans-2212\"/>\n",
       "       <use xlink:href=\"#DejaVuSans-32\" x=\"83.789062\"/>\n",
       "      </g>\n",
       "     </g>\n",
       "    </g>\n",
       "    <g id=\"xtick_4\">\n",
       "     <g id=\"line2d_7\">\n",
       "      <path d=\"M 201.159063 339.84 \n",
       "L 201.159063 7.2 \n",
       "\" clip-path=\"url(#pa0acc40ec9)\" style=\"fill: none; stroke-dasharray: 2.96,1.28; stroke-dashoffset: 0; stroke: #cccccc; stroke-width: 0.8\"/>\n",
       "     </g>\n",
       "     <g id=\"line2d_8\">\n",
       "      <g>\n",
       "       <use xlink:href=\"#m75fd3f834f\" x=\"201.159063\" y=\"339.84\" style=\"stroke: #000000; stroke-width: 0.8\"/>\n",
       "      </g>\n",
       "     </g>\n",
       "     <g id=\"text_4\">\n",
       "      <!-- 0 -->\n",
       "      <g transform=\"translate(196.705312 357.477813) scale(0.14 -0.14)\">\n",
       "       <defs>\n",
       "        <path id=\"DejaVuSans-30\" d=\"M 2034 4250 \n",
       "Q 1547 4250 1301 3770 \n",
       "Q 1056 3291 1056 2328 \n",
       "Q 1056 1369 1301 889 \n",
       "Q 1547 409 2034 409 \n",
       "Q 2525 409 2770 889 \n",
       "Q 3016 1369 3016 2328 \n",
       "Q 3016 3291 2770 3770 \n",
       "Q 2525 4250 2034 4250 \n",
       "z\n",
       "M 2034 4750 \n",
       "Q 2819 4750 3233 4129 \n",
       "Q 3647 3509 3647 2328 \n",
       "Q 3647 1150 3233 529 \n",
       "Q 2819 -91 2034 -91 \n",
       "Q 1250 -91 836 529 \n",
       "Q 422 1150 422 2328 \n",
       "Q 422 3509 836 4129 \n",
       "Q 1250 4750 2034 4750 \n",
       "z\n",
       "\" transform=\"scale(0.015625)\"/>\n",
       "       </defs>\n",
       "       <use xlink:href=\"#DejaVuSans-30\"/>\n",
       "      </g>\n",
       "     </g>\n",
       "    </g>\n",
       "    <g id=\"xtick_5\">\n",
       "     <g id=\"line2d_9\">\n",
       "      <path d=\"M 248.679062 339.84 \n",
       "L 248.679062 7.2 \n",
       "\" clip-path=\"url(#pa0acc40ec9)\" style=\"fill: none; stroke-dasharray: 2.96,1.28; stroke-dashoffset: 0; stroke: #cccccc; stroke-width: 0.8\"/>\n",
       "     </g>\n",
       "     <g id=\"line2d_10\">\n",
       "      <g>\n",
       "       <use xlink:href=\"#m75fd3f834f\" x=\"248.679062\" y=\"339.84\" style=\"stroke: #000000; stroke-width: 0.8\"/>\n",
       "      </g>\n",
       "     </g>\n",
       "     <g id=\"text_5\">\n",
       "      <!-- 2 -->\n",
       "      <g transform=\"translate(244.225312 357.477813) scale(0.14 -0.14)\">\n",
       "       <use xlink:href=\"#DejaVuSans-32\"/>\n",
       "      </g>\n",
       "     </g>\n",
       "    </g>\n",
       "    <g id=\"xtick_6\">\n",
       "     <g id=\"line2d_11\">\n",
       "      <path d=\"M 296.199062 339.84 \n",
       "L 296.199062 7.2 \n",
       "\" clip-path=\"url(#pa0acc40ec9)\" style=\"fill: none; stroke-dasharray: 2.96,1.28; stroke-dashoffset: 0; stroke: #cccccc; stroke-width: 0.8\"/>\n",
       "     </g>\n",
       "     <g id=\"line2d_12\">\n",
       "      <g>\n",
       "       <use xlink:href=\"#m75fd3f834f\" x=\"296.199062\" y=\"339.84\" style=\"stroke: #000000; stroke-width: 0.8\"/>\n",
       "      </g>\n",
       "     </g>\n",
       "     <g id=\"text_6\">\n",
       "      <!-- 4 -->\n",
       "      <g transform=\"translate(291.745312 357.477813) scale(0.14 -0.14)\">\n",
       "       <use xlink:href=\"#DejaVuSans-34\"/>\n",
       "      </g>\n",
       "     </g>\n",
       "    </g>\n",
       "    <g id=\"xtick_7\">\n",
       "     <g id=\"line2d_13\">\n",
       "      <path d=\"M 343.719063 339.84 \n",
       "L 343.719063 7.2 \n",
       "\" clip-path=\"url(#pa0acc40ec9)\" style=\"fill: none; stroke-dasharray: 2.96,1.28; stroke-dashoffset: 0; stroke: #cccccc; stroke-width: 0.8\"/>\n",
       "     </g>\n",
       "     <g id=\"line2d_14\">\n",
       "      <g>\n",
       "       <use xlink:href=\"#m75fd3f834f\" x=\"343.719063\" y=\"339.84\" style=\"stroke: #000000; stroke-width: 0.8\"/>\n",
       "      </g>\n",
       "     </g>\n",
       "     <g id=\"text_7\">\n",
       "      <!-- 6 -->\n",
       "      <g transform=\"translate(339.265312 357.477813) scale(0.14 -0.14)\">\n",
       "       <use xlink:href=\"#DejaVuSans-36\"/>\n",
       "      </g>\n",
       "     </g>\n",
       "    </g>\n",
       "   </g>\n",
       "   <g id=\"matplotlib.axis_2\">\n",
       "    <g id=\"ytick_1\">\n",
       "     <g id=\"line2d_15\">\n",
       "      <path d=\"M 34.839062 316.08 \n",
       "L 367.479062 316.08 \n",
       "\" clip-path=\"url(#pa0acc40ec9)\" style=\"fill: none; stroke-dasharray: 2.96,1.28; stroke-dashoffset: 0; stroke: #cccccc; stroke-width: 0.8\"/>\n",
       "     </g>\n",
       "     <g id=\"line2d_16\">\n",
       "      <defs>\n",
       "       <path id=\"m7a161563ae\" d=\"M 0 0 \n",
       "L -3.5 0 \n",
       "\" style=\"stroke: #000000; stroke-width: 0.8\"/>\n",
       "      </defs>\n",
       "      <g>\n",
       "       <use xlink:href=\"#m7a161563ae\" x=\"34.839062\" y=\"316.08\" style=\"stroke: #000000; stroke-width: 0.8\"/>\n",
       "      </g>\n",
       "     </g>\n",
       "     <g id=\"text_8\">\n",
       "      <!-- −6 -->\n",
       "      <g transform=\"translate(7.2 321.398906) scale(0.14 -0.14)\">\n",
       "       <use xlink:href=\"#DejaVuSans-2212\"/>\n",
       "       <use xlink:href=\"#DejaVuSans-36\" x=\"83.789062\"/>\n",
       "      </g>\n",
       "     </g>\n",
       "    </g>\n",
       "    <g id=\"ytick_2\">\n",
       "     <g id=\"line2d_17\">\n",
       "      <path d=\"M 34.839062 268.56 \n",
       "L 367.479062 268.56 \n",
       "\" clip-path=\"url(#pa0acc40ec9)\" style=\"fill: none; stroke-dasharray: 2.96,1.28; stroke-dashoffset: 0; stroke: #cccccc; stroke-width: 0.8\"/>\n",
       "     </g>\n",
       "     <g id=\"line2d_18\">\n",
       "      <g>\n",
       "       <use xlink:href=\"#m7a161563ae\" x=\"34.839062\" y=\"268.56\" style=\"stroke: #000000; stroke-width: 0.8\"/>\n",
       "      </g>\n",
       "     </g>\n",
       "     <g id=\"text_9\">\n",
       "      <!-- −4 -->\n",
       "      <g transform=\"translate(7.2 273.878906) scale(0.14 -0.14)\">\n",
       "       <use xlink:href=\"#DejaVuSans-2212\"/>\n",
       "       <use xlink:href=\"#DejaVuSans-34\" x=\"83.789062\"/>\n",
       "      </g>\n",
       "     </g>\n",
       "    </g>\n",
       "    <g id=\"ytick_3\">\n",
       "     <g id=\"line2d_19\">\n",
       "      <path d=\"M 34.839062 221.04 \n",
       "L 367.479062 221.04 \n",
       "\" clip-path=\"url(#pa0acc40ec9)\" style=\"fill: none; stroke-dasharray: 2.96,1.28; stroke-dashoffset: 0; stroke: #cccccc; stroke-width: 0.8\"/>\n",
       "     </g>\n",
       "     <g id=\"line2d_20\">\n",
       "      <g>\n",
       "       <use xlink:href=\"#m7a161563ae\" x=\"34.839062\" y=\"221.04\" style=\"stroke: #000000; stroke-width: 0.8\"/>\n",
       "      </g>\n",
       "     </g>\n",
       "     <g id=\"text_10\">\n",
       "      <!-- −2 -->\n",
       "      <g transform=\"translate(7.2 226.358906) scale(0.14 -0.14)\">\n",
       "       <use xlink:href=\"#DejaVuSans-2212\"/>\n",
       "       <use xlink:href=\"#DejaVuSans-32\" x=\"83.789062\"/>\n",
       "      </g>\n",
       "     </g>\n",
       "    </g>\n",
       "    <g id=\"ytick_4\">\n",
       "     <g id=\"line2d_21\">\n",
       "      <path d=\"M 34.839062 173.52 \n",
       "L 367.479062 173.52 \n",
       "\" clip-path=\"url(#pa0acc40ec9)\" style=\"fill: none; stroke-dasharray: 2.96,1.28; stroke-dashoffset: 0; stroke: #cccccc; stroke-width: 0.8\"/>\n",
       "     </g>\n",
       "     <g id=\"line2d_22\">\n",
       "      <g>\n",
       "       <use xlink:href=\"#m7a161563ae\" x=\"34.839062\" y=\"173.52\" style=\"stroke: #000000; stroke-width: 0.8\"/>\n",
       "      </g>\n",
       "     </g>\n",
       "     <g id=\"text_11\">\n",
       "      <!-- 0 -->\n",
       "      <g transform=\"translate(18.931562 178.838906) scale(0.14 -0.14)\">\n",
       "       <use xlink:href=\"#DejaVuSans-30\"/>\n",
       "      </g>\n",
       "     </g>\n",
       "    </g>\n",
       "    <g id=\"ytick_5\">\n",
       "     <g id=\"line2d_23\">\n",
       "      <path d=\"M 34.839062 126 \n",
       "L 367.479062 126 \n",
       "\" clip-path=\"url(#pa0acc40ec9)\" style=\"fill: none; stroke-dasharray: 2.96,1.28; stroke-dashoffset: 0; stroke: #cccccc; stroke-width: 0.8\"/>\n",
       "     </g>\n",
       "     <g id=\"line2d_24\">\n",
       "      <g>\n",
       "       <use xlink:href=\"#m7a161563ae\" x=\"34.839062\" y=\"126\" style=\"stroke: #000000; stroke-width: 0.8\"/>\n",
       "      </g>\n",
       "     </g>\n",
       "     <g id=\"text_12\">\n",
       "      <!-- 2 -->\n",
       "      <g transform=\"translate(18.931562 131.318906) scale(0.14 -0.14)\">\n",
       "       <use xlink:href=\"#DejaVuSans-32\"/>\n",
       "      </g>\n",
       "     </g>\n",
       "    </g>\n",
       "    <g id=\"ytick_6\">\n",
       "     <g id=\"line2d_25\">\n",
       "      <path d=\"M 34.839062 78.48 \n",
       "L 367.479062 78.48 \n",
       "\" clip-path=\"url(#pa0acc40ec9)\" style=\"fill: none; stroke-dasharray: 2.96,1.28; stroke-dashoffset: 0; stroke: #cccccc; stroke-width: 0.8\"/>\n",
       "     </g>\n",
       "     <g id=\"line2d_26\">\n",
       "      <g>\n",
       "       <use xlink:href=\"#m7a161563ae\" x=\"34.839062\" y=\"78.48\" style=\"stroke: #000000; stroke-width: 0.8\"/>\n",
       "      </g>\n",
       "     </g>\n",
       "     <g id=\"text_13\">\n",
       "      <!-- 4 -->\n",
       "      <g transform=\"translate(18.931562 83.798906) scale(0.14 -0.14)\">\n",
       "       <use xlink:href=\"#DejaVuSans-34\"/>\n",
       "      </g>\n",
       "     </g>\n",
       "    </g>\n",
       "    <g id=\"ytick_7\">\n",
       "     <g id=\"line2d_27\">\n",
       "      <path d=\"M 34.839062 30.96 \n",
       "L 367.479062 30.96 \n",
       "\" clip-path=\"url(#pa0acc40ec9)\" style=\"fill: none; stroke-dasharray: 2.96,1.28; stroke-dashoffset: 0; stroke: #cccccc; stroke-width: 0.8\"/>\n",
       "     </g>\n",
       "     <g id=\"line2d_28\">\n",
       "      <g>\n",
       "       <use xlink:href=\"#m7a161563ae\" x=\"34.839062\" y=\"30.96\" style=\"stroke: #000000; stroke-width: 0.8\"/>\n",
       "      </g>\n",
       "     </g>\n",
       "     <g id=\"text_14\">\n",
       "      <!-- 6 -->\n",
       "      <g transform=\"translate(18.931562 36.278906) scale(0.14 -0.14)\">\n",
       "       <use xlink:href=\"#DejaVuSans-36\"/>\n",
       "      </g>\n",
       "     </g>\n",
       "    </g>\n",
       "   </g>\n",
       "   <g id=\"line2d_29\">\n",
       "    <defs>\n",
       "     <path id=\"m154db793c1\" d=\"M 0 5 \n",
       "C 1.326016 5 2.597899 4.473168 3.535534 3.535534 \n",
       "C 4.473168 2.597899 5 1.326016 5 0 \n",
       "C 5 -1.326016 4.473168 -2.597899 3.535534 -3.535534 \n",
       "C 2.597899 -4.473168 1.326016 -5 0 -5 \n",
       "C -1.326016 -5 -2.597899 -4.473168 -3.535534 -3.535534 \n",
       "C -4.473168 -2.597899 -5 -1.326016 -5 0 \n",
       "C -5 1.326016 -4.473168 2.597899 -3.535534 3.535534 \n",
       "C -2.597899 4.473168 -1.326016 5 0 5 \n",
       "z\n",
       "\" style=\"stroke: #000000\"/>\n",
       "    </defs>\n",
       "    <g clip-path=\"url(#pa0acc40ec9)\">\n",
       "     <use xlink:href=\"#m154db793c1\" x=\"272.439062\" y=\"149.76\" style=\"stroke: #000000\"/>\n",
       "    </g>\n",
       "   </g>\n",
       "   <g id=\"line2d_30\">\n",
       "    <defs>\n",
       "     <path id=\"m6fe77669e7\" d=\"M -5 5 \n",
       "L 5 5 \n",
       "L 5 -5 \n",
       "L -5 -5 \n",
       "z\n",
       "\" style=\"stroke: #000000; stroke-linejoin: miter\"/>\n",
       "    </defs>\n",
       "    <g clip-path=\"url(#pa0acc40ec9)\">\n",
       "     <use xlink:href=\"#m6fe77669e7\" x=\"58.599063\" y=\"126\" style=\"stroke: #000000; stroke-linejoin: miter\"/>\n",
       "    </g>\n",
       "   </g>\n",
       "   <g id=\"line2d_31\">\n",
       "    <path d=\"M 201.159063 173.52 \n",
       "L 201.159063 149.76 \n",
       "\" clip-path=\"url(#pa0acc40ec9)\" style=\"fill: none; stroke: #000000; stroke-width: 3; stroke-linecap: square\"/>\n",
       "   </g>\n",
       "   <g id=\"line2d_32\">\n",
       "    <path d=\"M 201.159063 173.52 \n",
       "L 224.919062 173.52 \n",
       "\" clip-path=\"url(#pa0acc40ec9)\" style=\"fill: none; stroke: #000000; stroke-width: 3; stroke-linecap: square\"/>\n",
       "   </g>\n",
       "   <g id=\"line2d_33\">\n",
       "    <path d=\"M 201.159063 173.52 \n",
       "L 272.439062 149.76 \n",
       "\" clip-path=\"url(#pa0acc40ec9)\" style=\"fill: none; stroke-dasharray: 11.1,4.8; stroke-dashoffset: 0; stroke: #000000; stroke-width: 3\"/>\n",
       "   </g>\n",
       "   <g id=\"line2d_34\">\n",
       "    <path d=\"M 201.159063 173.52 \n",
       "L 129.879063 149.76 \n",
       "\" clip-path=\"url(#pa0acc40ec9)\" style=\"fill: none; stroke-dasharray: 11.1,4.8; stroke-dashoffset: 0; stroke: #000000; stroke-width: 3\"/>\n",
       "   </g>\n",
       "   <g id=\"patch_3\">\n",
       "    <path d=\"M 34.839062 339.84 \n",
       "L 34.839062 7.2 \n",
       "\" style=\"fill: none; stroke: #000000; stroke-width: 0.8; stroke-linejoin: miter; stroke-linecap: square\"/>\n",
       "   </g>\n",
       "   <g id=\"patch_4\">\n",
       "    <path d=\"M 367.479062 339.84 \n",
       "L 367.479062 7.2 \n",
       "\" style=\"fill: none; stroke: #000000; stroke-width: 0.8; stroke-linejoin: miter; stroke-linecap: square\"/>\n",
       "   </g>\n",
       "   <g id=\"patch_5\">\n",
       "    <path d=\"M 34.839063 339.84 \n",
       "L 367.479062 339.84 \n",
       "\" style=\"fill: none; stroke: #000000; stroke-width: 0.8; stroke-linejoin: miter; stroke-linecap: square\"/>\n",
       "   </g>\n",
       "   <g id=\"patch_6\">\n",
       "    <path d=\"M 34.839063 7.2 \n",
       "L 367.479062 7.2 \n",
       "\" style=\"fill: none; stroke: #000000; stroke-width: 0.8; stroke-linejoin: miter; stroke-linecap: square\"/>\n",
       "   </g>\n",
       "   <g id=\"legend_1\">\n",
       "    <g id=\"patch_7\">\n",
       "     <path d=\"M 262.881563 100.5975 \n",
       "L 357.679063 100.5975 \n",
       "Q 360.479063 100.5975 360.479063 97.7975 \n",
       "L 360.479063 17 \n",
       "Q 360.479063 14.2 357.679063 14.2 \n",
       "L 262.881563 14.2 \n",
       "Q 260.081563 14.2 260.081563 17 \n",
       "L 260.081563 97.7975 \n",
       "Q 260.081563 100.5975 262.881563 100.5975 \n",
       "z\n",
       "\" style=\"fill: #ffffff; opacity: 0.8; stroke: #cccccc; stroke-linejoin: miter\"/>\n",
       "    </g>\n",
       "    <g id=\"line2d_35\">\n",
       "     <g>\n",
       "      <use xlink:href=\"#m154db793c1\" x=\"279.681563\" y=\"25.537813\" style=\"stroke: #000000\"/>\n",
       "     </g>\n",
       "    </g>\n",
       "    <g id=\"text_15\">\n",
       "     <!-- Point p -->\n",
       "     <g transform=\"translate(304.881563 30.437813) scale(0.14 -0.14)\">\n",
       "      <defs>\n",
       "       <path id=\"DejaVuSans-50\" d=\"M 1259 4147 \n",
       "L 1259 2394 \n",
       "L 2053 2394 \n",
       "Q 2494 2394 2734 2622 \n",
       "Q 2975 2850 2975 3272 \n",
       "Q 2975 3691 2734 3919 \n",
       "Q 2494 4147 2053 4147 \n",
       "L 1259 4147 \n",
       "z\n",
       "M 628 4666 \n",
       "L 2053 4666 \n",
       "Q 2838 4666 3239 4311 \n",
       "Q 3641 3956 3641 3272 \n",
       "Q 3641 2581 3239 2228 \n",
       "Q 2838 1875 2053 1875 \n",
       "L 1259 1875 \n",
       "L 1259 0 \n",
       "L 628 0 \n",
       "L 628 4666 \n",
       "z\n",
       "\" transform=\"scale(0.015625)\"/>\n",
       "       <path id=\"DejaVuSans-6f\" d=\"M 1959 3097 \n",
       "Q 1497 3097 1228 2736 \n",
       "Q 959 2375 959 1747 \n",
       "Q 959 1119 1226 758 \n",
       "Q 1494 397 1959 397 \n",
       "Q 2419 397 2687 759 \n",
       "Q 2956 1122 2956 1747 \n",
       "Q 2956 2369 2687 2733 \n",
       "Q 2419 3097 1959 3097 \n",
       "z\n",
       "M 1959 3584 \n",
       "Q 2709 3584 3137 3096 \n",
       "Q 3566 2609 3566 1747 \n",
       "Q 3566 888 3137 398 \n",
       "Q 2709 -91 1959 -91 \n",
       "Q 1206 -91 779 398 \n",
       "Q 353 888 353 1747 \n",
       "Q 353 2609 779 3096 \n",
       "Q 1206 3584 1959 3584 \n",
       "z\n",
       "\" transform=\"scale(0.015625)\"/>\n",
       "       <path id=\"DejaVuSans-69\" d=\"M 603 3500 \n",
       "L 1178 3500 \n",
       "L 1178 0 \n",
       "L 603 0 \n",
       "L 603 3500 \n",
       "z\n",
       "M 603 4863 \n",
       "L 1178 4863 \n",
       "L 1178 4134 \n",
       "L 603 4134 \n",
       "L 603 4863 \n",
       "z\n",
       "\" transform=\"scale(0.015625)\"/>\n",
       "       <path id=\"DejaVuSans-6e\" d=\"M 3513 2113 \n",
       "L 3513 0 \n",
       "L 2938 0 \n",
       "L 2938 2094 \n",
       "Q 2938 2591 2744 2837 \n",
       "Q 2550 3084 2163 3084 \n",
       "Q 1697 3084 1428 2787 \n",
       "Q 1159 2491 1159 1978 \n",
       "L 1159 0 \n",
       "L 581 0 \n",
       "L 581 3500 \n",
       "L 1159 3500 \n",
       "L 1159 2956 \n",
       "Q 1366 3272 1645 3428 \n",
       "Q 1925 3584 2291 3584 \n",
       "Q 2894 3584 3203 3211 \n",
       "Q 3513 2838 3513 2113 \n",
       "z\n",
       "\" transform=\"scale(0.015625)\"/>\n",
       "       <path id=\"DejaVuSans-74\" d=\"M 1172 4494 \n",
       "L 1172 3500 \n",
       "L 2356 3500 \n",
       "L 2356 3053 \n",
       "L 1172 3053 \n",
       "L 1172 1153 \n",
       "Q 1172 725 1289 603 \n",
       "Q 1406 481 1766 481 \n",
       "L 2356 481 \n",
       "L 2356 0 \n",
       "L 1766 0 \n",
       "Q 1100 0 847 248 \n",
       "Q 594 497 594 1153 \n",
       "L 594 3053 \n",
       "L 172 3053 \n",
       "L 172 3500 \n",
       "L 594 3500 \n",
       "L 594 4494 \n",
       "L 1172 4494 \n",
       "z\n",
       "\" transform=\"scale(0.015625)\"/>\n",
       "       <path id=\"DejaVuSans-20\" transform=\"scale(0.015625)\"/>\n",
       "       <path id=\"DejaVuSans-70\" d=\"M 1159 525 \n",
       "L 1159 -1331 \n",
       "L 581 -1331 \n",
       "L 581 3500 \n",
       "L 1159 3500 \n",
       "L 1159 2969 \n",
       "Q 1341 3281 1617 3432 \n",
       "Q 1894 3584 2278 3584 \n",
       "Q 2916 3584 3314 3078 \n",
       "Q 3713 2572 3713 1747 \n",
       "Q 3713 922 3314 415 \n",
       "Q 2916 -91 2278 -91 \n",
       "Q 1894 -91 1617 61 \n",
       "Q 1341 213 1159 525 \n",
       "z\n",
       "M 3116 1747 \n",
       "Q 3116 2381 2855 2742 \n",
       "Q 2594 3103 2138 3103 \n",
       "Q 1681 3103 1420 2742 \n",
       "Q 1159 2381 1159 1747 \n",
       "Q 1159 1113 1420 752 \n",
       "Q 1681 391 2138 391 \n",
       "Q 2594 391 2855 752 \n",
       "Q 3116 1113 3116 1747 \n",
       "z\n",
       "\" transform=\"scale(0.015625)\"/>\n",
       "      </defs>\n",
       "      <use xlink:href=\"#DejaVuSans-50\"/>\n",
       "      <use xlink:href=\"#DejaVuSans-6f\" x=\"56.677734\"/>\n",
       "      <use xlink:href=\"#DejaVuSans-69\" x=\"117.859375\"/>\n",
       "      <use xlink:href=\"#DejaVuSans-6e\" x=\"145.642578\"/>\n",
       "      <use xlink:href=\"#DejaVuSans-74\" x=\"209.021484\"/>\n",
       "      <use xlink:href=\"#DejaVuSans-20\" x=\"248.230469\"/>\n",
       "      <use xlink:href=\"#DejaVuSans-70\" x=\"280.017578\"/>\n",
       "     </g>\n",
       "    </g>\n",
       "    <g id=\"line2d_36\">\n",
       "     <g>\n",
       "      <use xlink:href=\"#m6fe77669e7\" x=\"279.681563\" y=\"46.087188\" style=\"stroke: #000000; stroke-linejoin: miter\"/>\n",
       "     </g>\n",
       "    </g>\n",
       "    <g id=\"text_16\">\n",
       "     <!-- Point q -->\n",
       "     <g transform=\"translate(304.881563 50.987188) scale(0.14 -0.14)\">\n",
       "      <defs>\n",
       "       <path id=\"DejaVuSans-71\" d=\"M 947 1747 \n",
       "Q 947 1113 1208 752 \n",
       "Q 1469 391 1925 391 \n",
       "Q 2381 391 2643 752 \n",
       "Q 2906 1113 2906 1747 \n",
       "Q 2906 2381 2643 2742 \n",
       "Q 2381 3103 1925 3103 \n",
       "Q 1469 3103 1208 2742 \n",
       "Q 947 2381 947 1747 \n",
       "z\n",
       "M 2906 525 \n",
       "Q 2725 213 2448 61 \n",
       "Q 2172 -91 1784 -91 \n",
       "Q 1150 -91 751 415 \n",
       "Q 353 922 353 1747 \n",
       "Q 353 2572 751 3078 \n",
       "Q 1150 3584 1784 3584 \n",
       "Q 2172 3584 2448 3432 \n",
       "Q 2725 3281 2906 2969 \n",
       "L 2906 3500 \n",
       "L 3481 3500 \n",
       "L 3481 -1331 \n",
       "L 2906 -1331 \n",
       "L 2906 525 \n",
       "z\n",
       "\" transform=\"scale(0.015625)\"/>\n",
       "      </defs>\n",
       "      <use xlink:href=\"#DejaVuSans-50\"/>\n",
       "      <use xlink:href=\"#DejaVuSans-6f\" x=\"56.677734\"/>\n",
       "      <use xlink:href=\"#DejaVuSans-69\" x=\"117.859375\"/>\n",
       "      <use xlink:href=\"#DejaVuSans-6e\" x=\"145.642578\"/>\n",
       "      <use xlink:href=\"#DejaVuSans-74\" x=\"209.021484\"/>\n",
       "      <use xlink:href=\"#DejaVuSans-20\" x=\"248.230469\"/>\n",
       "      <use xlink:href=\"#DejaVuSans-71\" x=\"280.017578\"/>\n",
       "     </g>\n",
       "    </g>\n",
       "    <g id=\"line2d_37\">\n",
       "     <path d=\"M 265.681563 66.636562 \n",
       "L 279.681563 66.636562 \n",
       "L 293.681563 66.636562 \n",
       "\" style=\"fill: none; stroke: #000000; stroke-width: 3; stroke-linecap: square\"/>\n",
       "    </g>\n",
       "    <g id=\"text_17\">\n",
       "     <!-- Basis S -->\n",
       "     <g transform=\"translate(304.881563 71.536563) scale(0.14 -0.14)\">\n",
       "      <defs>\n",
       "       <path id=\"DejaVuSans-42\" d=\"M 1259 2228 \n",
       "L 1259 519 \n",
       "L 2272 519 \n",
       "Q 2781 519 3026 730 \n",
       "Q 3272 941 3272 1375 \n",
       "Q 3272 1813 3026 2020 \n",
       "Q 2781 2228 2272 2228 \n",
       "L 1259 2228 \n",
       "z\n",
       "M 1259 4147 \n",
       "L 1259 2741 \n",
       "L 2194 2741 \n",
       "Q 2656 2741 2882 2914 \n",
       "Q 3109 3088 3109 3444 \n",
       "Q 3109 3797 2882 3972 \n",
       "Q 2656 4147 2194 4147 \n",
       "L 1259 4147 \n",
       "z\n",
       "M 628 4666 \n",
       "L 2241 4666 \n",
       "Q 2963 4666 3353 4366 \n",
       "Q 3744 4066 3744 3513 \n",
       "Q 3744 3084 3544 2831 \n",
       "Q 3344 2578 2956 2516 \n",
       "Q 3422 2416 3680 2098 \n",
       "Q 3938 1781 3938 1306 \n",
       "Q 3938 681 3513 340 \n",
       "Q 3088 0 2303 0 \n",
       "L 628 0 \n",
       "L 628 4666 \n",
       "z\n",
       "\" transform=\"scale(0.015625)\"/>\n",
       "       <path id=\"DejaVuSans-61\" d=\"M 2194 1759 \n",
       "Q 1497 1759 1228 1600 \n",
       "Q 959 1441 959 1056 \n",
       "Q 959 750 1161 570 \n",
       "Q 1363 391 1709 391 \n",
       "Q 2188 391 2477 730 \n",
       "Q 2766 1069 2766 1631 \n",
       "L 2766 1759 \n",
       "L 2194 1759 \n",
       "z\n",
       "M 3341 1997 \n",
       "L 3341 0 \n",
       "L 2766 0 \n",
       "L 2766 531 \n",
       "Q 2569 213 2275 61 \n",
       "Q 1981 -91 1556 -91 \n",
       "Q 1019 -91 701 211 \n",
       "Q 384 513 384 1019 \n",
       "Q 384 1609 779 1909 \n",
       "Q 1175 2209 1959 2209 \n",
       "L 2766 2209 \n",
       "L 2766 2266 \n",
       "Q 2766 2663 2505 2880 \n",
       "Q 2244 3097 1772 3097 \n",
       "Q 1472 3097 1187 3025 \n",
       "Q 903 2953 641 2809 \n",
       "L 641 3341 \n",
       "Q 956 3463 1253 3523 \n",
       "Q 1550 3584 1831 3584 \n",
       "Q 2591 3584 2966 3190 \n",
       "Q 3341 2797 3341 1997 \n",
       "z\n",
       "\" transform=\"scale(0.015625)\"/>\n",
       "       <path id=\"DejaVuSans-73\" d=\"M 2834 3397 \n",
       "L 2834 2853 \n",
       "Q 2591 2978 2328 3040 \n",
       "Q 2066 3103 1784 3103 \n",
       "Q 1356 3103 1142 2972 \n",
       "Q 928 2841 928 2578 \n",
       "Q 928 2378 1081 2264 \n",
       "Q 1234 2150 1697 2047 \n",
       "L 1894 2003 \n",
       "Q 2506 1872 2764 1633 \n",
       "Q 3022 1394 3022 966 \n",
       "Q 3022 478 2636 193 \n",
       "Q 2250 -91 1575 -91 \n",
       "Q 1294 -91 989 -36 \n",
       "Q 684 19 347 128 \n",
       "L 347 722 \n",
       "Q 666 556 975 473 \n",
       "Q 1284 391 1588 391 \n",
       "Q 1994 391 2212 530 \n",
       "Q 2431 669 2431 922 \n",
       "Q 2431 1156 2273 1281 \n",
       "Q 2116 1406 1581 1522 \n",
       "L 1381 1569 \n",
       "Q 847 1681 609 1914 \n",
       "Q 372 2147 372 2553 \n",
       "Q 372 3047 722 3315 \n",
       "Q 1072 3584 1716 3584 \n",
       "Q 2034 3584 2315 3537 \n",
       "Q 2597 3491 2834 3397 \n",
       "z\n",
       "\" transform=\"scale(0.015625)\"/>\n",
       "       <path id=\"DejaVuSans-53\" d=\"M 3425 4513 \n",
       "L 3425 3897 \n",
       "Q 3066 4069 2747 4153 \n",
       "Q 2428 4238 2131 4238 \n",
       "Q 1616 4238 1336 4038 \n",
       "Q 1056 3838 1056 3469 \n",
       "Q 1056 3159 1242 3001 \n",
       "Q 1428 2844 1947 2747 \n",
       "L 2328 2669 \n",
       "Q 3034 2534 3370 2195 \n",
       "Q 3706 1856 3706 1288 \n",
       "Q 3706 609 3251 259 \n",
       "Q 2797 -91 1919 -91 \n",
       "Q 1588 -91 1214 -16 \n",
       "Q 841 59 441 206 \n",
       "L 441 856 \n",
       "Q 825 641 1194 531 \n",
       "Q 1563 422 1919 422 \n",
       "Q 2459 422 2753 634 \n",
       "Q 3047 847 3047 1241 \n",
       "Q 3047 1584 2836 1778 \n",
       "Q 2625 1972 2144 2069 \n",
       "L 1759 2144 \n",
       "Q 1053 2284 737 2584 \n",
       "Q 422 2884 422 3419 \n",
       "Q 422 4038 858 4394 \n",
       "Q 1294 4750 2059 4750 \n",
       "Q 2388 4750 2728 4690 \n",
       "Q 3069 4631 3425 4513 \n",
       "z\n",
       "\" transform=\"scale(0.015625)\"/>\n",
       "      </defs>\n",
       "      <use xlink:href=\"#DejaVuSans-42\"/>\n",
       "      <use xlink:href=\"#DejaVuSans-61\" x=\"68.603516\"/>\n",
       "      <use xlink:href=\"#DejaVuSans-73\" x=\"129.882812\"/>\n",
       "      <use xlink:href=\"#DejaVuSans-69\" x=\"181.982422\"/>\n",
       "      <use xlink:href=\"#DejaVuSans-73\" x=\"209.765625\"/>\n",
       "      <use xlink:href=\"#DejaVuSans-20\" x=\"261.865234\"/>\n",
       "      <use xlink:href=\"#DejaVuSans-53\" x=\"293.652344\"/>\n",
       "     </g>\n",
       "    </g>\n",
       "    <g id=\"line2d_38\">\n",
       "     <path d=\"M 265.681563 87.185937 \n",
       "L 279.681563 87.185937 \n",
       "L 293.681563 87.185937 \n",
       "\" style=\"fill: none; stroke-dasharray: 11.1,4.8; stroke-dashoffset: 0; stroke: #000000; stroke-width: 3\"/>\n",
       "    </g>\n",
       "    <g id=\"text_18\">\n",
       "     <!-- Basis T -->\n",
       "     <g transform=\"translate(304.881563 92.085938) scale(0.14 -0.14)\">\n",
       "      <defs>\n",
       "       <path id=\"DejaVuSans-54\" d=\"M -19 4666 \n",
       "L 3928 4666 \n",
       "L 3928 4134 \n",
       "L 2272 4134 \n",
       "L 2272 0 \n",
       "L 1638 0 \n",
       "L 1638 4134 \n",
       "L -19 4134 \n",
       "L -19 4666 \n",
       "z\n",
       "\" transform=\"scale(0.015625)\"/>\n",
       "      </defs>\n",
       "      <use xlink:href=\"#DejaVuSans-42\"/>\n",
       "      <use xlink:href=\"#DejaVuSans-61\" x=\"68.603516\"/>\n",
       "      <use xlink:href=\"#DejaVuSans-73\" x=\"129.882812\"/>\n",
       "      <use xlink:href=\"#DejaVuSans-69\" x=\"181.982422\"/>\n",
       "      <use xlink:href=\"#DejaVuSans-73\" x=\"209.765625\"/>\n",
       "      <use xlink:href=\"#DejaVuSans-20\" x=\"261.865234\"/>\n",
       "      <use xlink:href=\"#DejaVuSans-54\" x=\"293.652344\"/>\n",
       "     </g>\n",
       "    </g>\n",
       "   </g>\n",
       "  </g>\n",
       " </g>\n",
       " <defs>\n",
       "  <clipPath id=\"pa0acc40ec9\">\n",
       "   <rect x=\"34.839062\" y=\"7.2\" width=\"332.64\" height=\"332.64\"/>\n",
       "  </clipPath>\n",
       " </defs>\n",
       "</svg>\n"
      ],
      "text/plain": [
       "<Figure size 600x600 with 1 Axes>"
      ]
     },
     "metadata": {},
     "output_type": "display_data"
    }
   ],
   "source": [
    "\n",
    "# points (in Cartesian coordinates)\n",
    "p = (3,1)\n",
    "q = (-6,2)\n",
    "\n",
    "plt.figure(figsize=(6,6))\n",
    "\n",
    "# draw points\n",
    "plt.plot(p[0],p[1],'ko',markerfacecolor='k',markersize=10,label='Point p')\n",
    "plt.plot(q[0],q[1],'ks',markerfacecolor='k',markersize=10,label='Point q')\n",
    "\n",
    "# draw basis vectors\n",
    "plt.plot([0,0],[0,1],'k',linewidth=3,label='Basis S')\n",
    "plt.plot([0,1],[0,0],'k',linewidth=3)\n",
    "\n",
    "plt.plot([0,3],[0,1],'k--',linewidth=3,label='Basis T')\n",
    "plt.plot([0,-3],[0,1],'k--',linewidth=3)\n",
    "\n",
    "\n",
    "plt.axis('square')\n",
    "plt.grid(linestyle='--',color=[.8,.8,.8])\n",
    "plt.xlim([-7,7])\n",
    "plt.ylim([-7,7])\n",
    "plt.legend()\n",
    "plt.savefig('Figure_03_04.png',dpi=300)\n",
    "plt.show()"
   ]
  },
  {
   "cell_type": "code",
   "execution_count": null,
   "metadata": {
    "id": "A0lt_itadHXC"
   },
   "outputs": [],
   "source": []
  },
  {
   "cell_type": "markdown",
   "metadata": {
    "id": "m3p0sJfGYJEC"
   },
   "source": [
    "# Exercises"
   ]
  },
  {
   "cell_type": "markdown",
   "metadata": {
    "id": "dPpXof4wYgcM"
   },
   "source": [
    "# Exercise 1"
   ]
  },
  {
   "cell_type": "code",
   "execution_count": 12,
   "metadata": {
    "id": "2YX1MnwPRA9w"
   },
   "outputs": [
    {
     "data": {
      "text/plain": [
       "array([ -7.,  -4., -13.])"
      ]
     },
     "execution_count": 12,
     "metadata": {},
     "output_type": "execute_result"
    }
   ],
   "source": [
    "## Note: Make sure you run the code earlier to create variables l1, l2, etc.\n",
    "\n",
    "# organized into lists\n",
    "scalars = [ l1,l2,l3 ]\n",
    "vectors = [ v1,v2,v3 ]\n",
    "\n",
    "# initialize the linear combination\n",
    "linCombo = np.zeros(len(v1))\n",
    "\n",
    "# implement linear weighted combination using zip()\n",
    "for s,v in zip(scalars,vectors):\n",
    "  linCombo += s*v\n",
    "\n",
    "# confirm it's the same answer as above\n",
    "linCombo"
   ]
  },
  {
   "cell_type": "code",
   "execution_count": null,
   "metadata": {
    "id": "oko9ARd3Yhi8"
   },
   "outputs": [],
   "source": []
  },
  {
   "cell_type": "markdown",
   "metadata": {
    "id": "gaDegzriYJHQ"
   },
   "source": [
    "# Exercise 2"
   ]
  },
  {
   "cell_type": "code",
   "execution_count": 13,
   "metadata": {
    "id": "dxEDtY-VZEGW"
   },
   "outputs": [
    {
     "ename": "IndexError",
     "evalue": "list index out of range",
     "output_type": "error",
     "traceback": [
      "\u001b[0;31m---------------------------------------------------------------------------\u001b[0m",
      "\u001b[0;31mIndexError\u001b[0m                                Traceback (most recent call last)",
      "Cell \u001b[0;32mIn[13], line 12\u001b[0m\n\u001b[1;32m      9\u001b[0m linCombo \u001b[38;5;241m=\u001b[39m np\u001b[38;5;241m.\u001b[39mzeros(\u001b[38;5;28mlen\u001b[39m(v1))\n\u001b[1;32m     11\u001b[0m \u001b[38;5;28;01mfor\u001b[39;00m i \u001b[38;5;129;01min\u001b[39;00m \u001b[38;5;28mrange\u001b[39m(\u001b[38;5;28mlen\u001b[39m(scalars)):\n\u001b[0;32m---> 12\u001b[0m   linCombo \u001b[38;5;241m+\u001b[39m\u001b[38;5;241m=\u001b[39m scalars[i]\u001b[38;5;241m*\u001b[39m\u001b[43mvectors\u001b[49m\u001b[43m[\u001b[49m\u001b[43mi\u001b[49m\u001b[43m]\u001b[49m\n",
      "\u001b[0;31mIndexError\u001b[0m: list index out of range"
     ]
    }
   ],
   "source": [
    "# Whether it works or throws an error depends on how you set up the code.\n",
    "# Using zip() as above works, because zip() will use only the minimum-matching items.\n",
    "# Re-writing the code using indexing will cause an error, as in the code below.\n",
    "\n",
    "# make the scalars longer\n",
    "scalars = [ l1,l2,l3,5 ]\n",
    "vectors = [ v1,v2,v3 ]\n",
    "\n",
    "linCombo = np.zeros(len(v1))\n",
    "\n",
    "for i in range(len(scalars)):\n",
    "  linCombo += scalars[i]*vectors[i]"
   ]
  },
  {
   "cell_type": "code",
   "execution_count": null,
   "metadata": {
    "id": "zcphFAUCYJN2"
   },
   "outputs": [],
   "source": []
  },
  {
   "cell_type": "markdown",
   "metadata": {
    "id": "RMG1ofpwuPBj"
   },
   "source": [
    "# Exercise 3"
   ]
  },
  {
   "cell_type": "code",
   "execution_count": 14,
   "metadata": {
    "colab": {
     "base_uri": "https://localhost:8080/",
     "height": 548
    },
    "executionInfo": {
     "elapsed": 3134,
     "status": "ok",
     "timestamp": 1676509962295,
     "user": {
      "displayName": "Mike X Cohen",
      "userId": "13901636194183843661"
     },
     "user_tz": -540
    },
    "id": "yFBpjwwjuRfP",
    "outputId": "c0d177c0-4041-42f1-9a8c-8edde24d524c"
   },
   "outputs": [
    {
     "data": {
      "image/svg+xml": [
       "<?xml version=\"1.0\" encoding=\"utf-8\" standalone=\"no\"?>\n",
       "<!DOCTYPE svg PUBLIC \"-//W3C//DTD SVG 1.1//EN\"\n",
       "  \"http://www.w3.org/Graphics/SVG/1.1/DTD/svg11.dtd\">\n",
       "<svg xmlns:xlink=\"http://www.w3.org/1999/xlink\" width=\"381.292812pt\" height=\"402.056563pt\" viewBox=\"0 0 381.292812 402.056563\" xmlns=\"http://www.w3.org/2000/svg\" version=\"1.1\">\n",
       " <metadata>\n",
       "  <rdf:RDF xmlns:dc=\"http://purl.org/dc/elements/1.1/\" xmlns:cc=\"http://creativecommons.org/ns#\" xmlns:rdf=\"http://www.w3.org/1999/02/22-rdf-syntax-ns#\">\n",
       "   <cc:Work>\n",
       "    <dc:type rdf:resource=\"http://purl.org/dc/dcmitype/StillImage\"/>\n",
       "    <dc:date>2024-03-01T12:11:06.569312</dc:date>\n",
       "    <dc:format>image/svg+xml</dc:format>\n",
       "    <dc:creator>\n",
       "     <cc:Agent>\n",
       "      <dc:title>Matplotlib v3.8.0, https://matplotlib.org/</dc:title>\n",
       "     </cc:Agent>\n",
       "    </dc:creator>\n",
       "   </cc:Work>\n",
       "  </rdf:RDF>\n",
       " </metadata>\n",
       " <defs>\n",
       "  <style type=\"text/css\">*{stroke-linejoin: round; stroke-linecap: butt}</style>\n",
       " </defs>\n",
       " <g id=\"figure_1\">\n",
       "  <g id=\"patch_1\">\n",
       "   <path d=\"M 0 402.056563 \n",
       "L 381.292812 402.056563 \n",
       "L 381.292812 0 \n",
       "L 0 0 \n",
       "z\n",
       "\" style=\"fill: #ffffff\"/>\n",
       "  </g>\n",
       "  <g id=\"axes_1\">\n",
       "   <g id=\"patch_2\">\n",
       "    <path d=\"M 34.839063 374.307188 \n",
       "L 369.639063 374.307188 \n",
       "L 369.639063 41.667188 \n",
       "L 34.839063 41.667188 \n",
       "z\n",
       "\" style=\"fill: #ffffff\"/>\n",
       "   </g>\n",
       "   <g id=\"matplotlib.axis_1\">\n",
       "    <g id=\"xtick_1\">\n",
       "     <g id=\"line2d_1\">\n",
       "      <path d=\"M 34.839063 374.307188 \n",
       "L 34.839063 41.667188 \n",
       "\" clip-path=\"url(#p93fee0a885)\" style=\"fill: none; stroke: #b0b0b0; stroke-width: 0.8; stroke-linecap: square\"/>\n",
       "     </g>\n",
       "     <g id=\"line2d_2\">\n",
       "      <defs>\n",
       "       <path id=\"m53aed749b6\" d=\"M 0 0 \n",
       "L 0 3.5 \n",
       "\" style=\"stroke: #000000; stroke-width: 0.8\"/>\n",
       "      </defs>\n",
       "      <g>\n",
       "       <use xlink:href=\"#m53aed749b6\" x=\"34.839063\" y=\"374.307188\" style=\"stroke: #000000; stroke-width: 0.8\"/>\n",
       "      </g>\n",
       "     </g>\n",
       "     <g id=\"text_1\">\n",
       "      <!-- −4 -->\n",
       "      <g transform=\"translate(24.519531 391.945) scale(0.14 -0.14)\">\n",
       "       <defs>\n",
       "        <path id=\"DejaVuSans-2212\" d=\"M 678 2272 \n",
       "L 4684 2272 \n",
       "L 4684 1741 \n",
       "L 678 1741 \n",
       "L 678 2272 \n",
       "z\n",
       "\" transform=\"scale(0.015625)\"/>\n",
       "        <path id=\"DejaVuSans-34\" d=\"M 2419 4116 \n",
       "L 825 1625 \n",
       "L 2419 1625 \n",
       "L 2419 4116 \n",
       "z\n",
       "M 2253 4666 \n",
       "L 3047 4666 \n",
       "L 3047 1625 \n",
       "L 3713 1625 \n",
       "L 3713 1100 \n",
       "L 3047 1100 \n",
       "L 3047 0 \n",
       "L 2419 0 \n",
       "L 2419 1100 \n",
       "L 313 1100 \n",
       "L 313 1709 \n",
       "L 2253 4666 \n",
       "z\n",
       "\" transform=\"scale(0.015625)\"/>\n",
       "       </defs>\n",
       "       <use xlink:href=\"#DejaVuSans-2212\"/>\n",
       "       <use xlink:href=\"#DejaVuSans-34\" x=\"83.789062\"/>\n",
       "      </g>\n",
       "     </g>\n",
       "    </g>\n",
       "    <g id=\"xtick_2\">\n",
       "     <g id=\"line2d_3\">\n",
       "      <path d=\"M 118.539063 374.307188 \n",
       "L 118.539063 41.667188 \n",
       "\" clip-path=\"url(#p93fee0a885)\" style=\"fill: none; stroke: #b0b0b0; stroke-width: 0.8; stroke-linecap: square\"/>\n",
       "     </g>\n",
       "     <g id=\"line2d_4\">\n",
       "      <g>\n",
       "       <use xlink:href=\"#m53aed749b6\" x=\"118.539063\" y=\"374.307188\" style=\"stroke: #000000; stroke-width: 0.8\"/>\n",
       "      </g>\n",
       "     </g>\n",
       "     <g id=\"text_2\">\n",
       "      <!-- −2 -->\n",
       "      <g transform=\"translate(108.219531 391.945) scale(0.14 -0.14)\">\n",
       "       <defs>\n",
       "        <path id=\"DejaVuSans-32\" d=\"M 1228 531 \n",
       "L 3431 531 \n",
       "L 3431 0 \n",
       "L 469 0 \n",
       "L 469 531 \n",
       "Q 828 903 1448 1529 \n",
       "Q 2069 2156 2228 2338 \n",
       "Q 2531 2678 2651 2914 \n",
       "Q 2772 3150 2772 3378 \n",
       "Q 2772 3750 2511 3984 \n",
       "Q 2250 4219 1831 4219 \n",
       "Q 1534 4219 1204 4116 \n",
       "Q 875 4013 500 3803 \n",
       "L 500 4441 \n",
       "Q 881 4594 1212 4672 \n",
       "Q 1544 4750 1819 4750 \n",
       "Q 2544 4750 2975 4387 \n",
       "Q 3406 4025 3406 3419 \n",
       "Q 3406 3131 3298 2873 \n",
       "Q 3191 2616 2906 2266 \n",
       "Q 2828 2175 2409 1742 \n",
       "Q 1991 1309 1228 531 \n",
       "z\n",
       "\" transform=\"scale(0.015625)\"/>\n",
       "       </defs>\n",
       "       <use xlink:href=\"#DejaVuSans-2212\"/>\n",
       "       <use xlink:href=\"#DejaVuSans-32\" x=\"83.789062\"/>\n",
       "      </g>\n",
       "     </g>\n",
       "    </g>\n",
       "    <g id=\"xtick_3\">\n",
       "     <g id=\"line2d_5\">\n",
       "      <path d=\"M 202.239063 374.307188 \n",
       "L 202.239063 41.667188 \n",
       "\" clip-path=\"url(#p93fee0a885)\" style=\"fill: none; stroke: #b0b0b0; stroke-width: 0.8; stroke-linecap: square\"/>\n",
       "     </g>\n",
       "     <g id=\"line2d_6\">\n",
       "      <g>\n",
       "       <use xlink:href=\"#m53aed749b6\" x=\"202.239063\" y=\"374.307188\" style=\"stroke: #000000; stroke-width: 0.8\"/>\n",
       "      </g>\n",
       "     </g>\n",
       "     <g id=\"text_3\">\n",
       "      <!-- 0 -->\n",
       "      <g transform=\"translate(197.785313 391.945) scale(0.14 -0.14)\">\n",
       "       <defs>\n",
       "        <path id=\"DejaVuSans-30\" d=\"M 2034 4250 \n",
       "Q 1547 4250 1301 3770 \n",
       "Q 1056 3291 1056 2328 \n",
       "Q 1056 1369 1301 889 \n",
       "Q 1547 409 2034 409 \n",
       "Q 2525 409 2770 889 \n",
       "Q 3016 1369 3016 2328 \n",
       "Q 3016 3291 2770 3770 \n",
       "Q 2525 4250 2034 4250 \n",
       "z\n",
       "M 2034 4750 \n",
       "Q 2819 4750 3233 4129 \n",
       "Q 3647 3509 3647 2328 \n",
       "Q 3647 1150 3233 529 \n",
       "Q 2819 -91 2034 -91 \n",
       "Q 1250 -91 836 529 \n",
       "Q 422 1150 422 2328 \n",
       "Q 422 3509 836 4129 \n",
       "Q 1250 4750 2034 4750 \n",
       "z\n",
       "\" transform=\"scale(0.015625)\"/>\n",
       "       </defs>\n",
       "       <use xlink:href=\"#DejaVuSans-30\"/>\n",
       "      </g>\n",
       "     </g>\n",
       "    </g>\n",
       "    <g id=\"xtick_4\">\n",
       "     <g id=\"line2d_7\">\n",
       "      <path d=\"M 285.939063 374.307188 \n",
       "L 285.939063 41.667188 \n",
       "\" clip-path=\"url(#p93fee0a885)\" style=\"fill: none; stroke: #b0b0b0; stroke-width: 0.8; stroke-linecap: square\"/>\n",
       "     </g>\n",
       "     <g id=\"line2d_8\">\n",
       "      <g>\n",
       "       <use xlink:href=\"#m53aed749b6\" x=\"285.939063\" y=\"374.307188\" style=\"stroke: #000000; stroke-width: 0.8\"/>\n",
       "      </g>\n",
       "     </g>\n",
       "     <g id=\"text_4\">\n",
       "      <!-- 2 -->\n",
       "      <g transform=\"translate(281.485313 391.945) scale(0.14 -0.14)\">\n",
       "       <use xlink:href=\"#DejaVuSans-32\"/>\n",
       "      </g>\n",
       "     </g>\n",
       "    </g>\n",
       "    <g id=\"xtick_5\">\n",
       "     <g id=\"line2d_9\">\n",
       "      <path d=\"M 369.639063 374.307188 \n",
       "L 369.639063 41.667188 \n",
       "\" clip-path=\"url(#p93fee0a885)\" style=\"fill: none; stroke: #b0b0b0; stroke-width: 0.8; stroke-linecap: square\"/>\n",
       "     </g>\n",
       "     <g id=\"line2d_10\">\n",
       "      <g>\n",
       "       <use xlink:href=\"#m53aed749b6\" x=\"369.639063\" y=\"374.307188\" style=\"stroke: #000000; stroke-width: 0.8\"/>\n",
       "      </g>\n",
       "     </g>\n",
       "     <g id=\"text_5\">\n",
       "      <!-- 4 -->\n",
       "      <g transform=\"translate(365.185313 391.945) scale(0.14 -0.14)\">\n",
       "       <use xlink:href=\"#DejaVuSans-34\"/>\n",
       "      </g>\n",
       "     </g>\n",
       "    </g>\n",
       "   </g>\n",
       "   <g id=\"matplotlib.axis_2\">\n",
       "    <g id=\"ytick_1\">\n",
       "     <g id=\"line2d_11\">\n",
       "      <path d=\"M 34.839063 374.307188 \n",
       "L 369.639063 374.307188 \n",
       "\" clip-path=\"url(#p93fee0a885)\" style=\"fill: none; stroke: #b0b0b0; stroke-width: 0.8; stroke-linecap: square\"/>\n",
       "     </g>\n",
       "     <g id=\"line2d_12\">\n",
       "      <defs>\n",
       "       <path id=\"m8fae015055\" d=\"M 0 0 \n",
       "L -3.5 0 \n",
       "\" style=\"stroke: #000000; stroke-width: 0.8\"/>\n",
       "      </defs>\n",
       "      <g>\n",
       "       <use xlink:href=\"#m8fae015055\" x=\"34.839063\" y=\"374.307188\" style=\"stroke: #000000; stroke-width: 0.8\"/>\n",
       "      </g>\n",
       "     </g>\n",
       "     <g id=\"text_6\">\n",
       "      <!-- −4 -->\n",
       "      <g transform=\"translate(7.2 379.626094) scale(0.14 -0.14)\">\n",
       "       <use xlink:href=\"#DejaVuSans-2212\"/>\n",
       "       <use xlink:href=\"#DejaVuSans-34\" x=\"83.789062\"/>\n",
       "      </g>\n",
       "     </g>\n",
       "    </g>\n",
       "    <g id=\"ytick_2\">\n",
       "     <g id=\"line2d_13\">\n",
       "      <path d=\"M 34.839063 332.727188 \n",
       "L 369.639063 332.727188 \n",
       "\" clip-path=\"url(#p93fee0a885)\" style=\"fill: none; stroke: #b0b0b0; stroke-width: 0.8; stroke-linecap: square\"/>\n",
       "     </g>\n",
       "     <g id=\"line2d_14\">\n",
       "      <g>\n",
       "       <use xlink:href=\"#m8fae015055\" x=\"34.839063\" y=\"332.727188\" style=\"stroke: #000000; stroke-width: 0.8\"/>\n",
       "      </g>\n",
       "     </g>\n",
       "     <g id=\"text_7\">\n",
       "      <!-- −3 -->\n",
       "      <g transform=\"translate(7.2 338.046094) scale(0.14 -0.14)\">\n",
       "       <defs>\n",
       "        <path id=\"DejaVuSans-33\" d=\"M 2597 2516 \n",
       "Q 3050 2419 3304 2112 \n",
       "Q 3559 1806 3559 1356 \n",
       "Q 3559 666 3084 287 \n",
       "Q 2609 -91 1734 -91 \n",
       "Q 1441 -91 1130 -33 \n",
       "Q 819 25 488 141 \n",
       "L 488 750 \n",
       "Q 750 597 1062 519 \n",
       "Q 1375 441 1716 441 \n",
       "Q 2309 441 2620 675 \n",
       "Q 2931 909 2931 1356 \n",
       "Q 2931 1769 2642 2001 \n",
       "Q 2353 2234 1838 2234 \n",
       "L 1294 2234 \n",
       "L 1294 2753 \n",
       "L 1863 2753 \n",
       "Q 2328 2753 2575 2939 \n",
       "Q 2822 3125 2822 3475 \n",
       "Q 2822 3834 2567 4026 \n",
       "Q 2313 4219 1838 4219 \n",
       "Q 1578 4219 1281 4162 \n",
       "Q 984 4106 628 3988 \n",
       "L 628 4550 \n",
       "Q 988 4650 1302 4700 \n",
       "Q 1616 4750 1894 4750 \n",
       "Q 2613 4750 3031 4423 \n",
       "Q 3450 4097 3450 3541 \n",
       "Q 3450 3153 3228 2886 \n",
       "Q 3006 2619 2597 2516 \n",
       "z\n",
       "\" transform=\"scale(0.015625)\"/>\n",
       "       </defs>\n",
       "       <use xlink:href=\"#DejaVuSans-2212\"/>\n",
       "       <use xlink:href=\"#DejaVuSans-33\" x=\"83.789062\"/>\n",
       "      </g>\n",
       "     </g>\n",
       "    </g>\n",
       "    <g id=\"ytick_3\">\n",
       "     <g id=\"line2d_15\">\n",
       "      <path d=\"M 34.839063 291.147188 \n",
       "L 369.639063 291.147188 \n",
       "\" clip-path=\"url(#p93fee0a885)\" style=\"fill: none; stroke: #b0b0b0; stroke-width: 0.8; stroke-linecap: square\"/>\n",
       "     </g>\n",
       "     <g id=\"line2d_16\">\n",
       "      <g>\n",
       "       <use xlink:href=\"#m8fae015055\" x=\"34.839063\" y=\"291.147188\" style=\"stroke: #000000; stroke-width: 0.8\"/>\n",
       "      </g>\n",
       "     </g>\n",
       "     <g id=\"text_8\">\n",
       "      <!-- −2 -->\n",
       "      <g transform=\"translate(7.2 296.466094) scale(0.14 -0.14)\">\n",
       "       <use xlink:href=\"#DejaVuSans-2212\"/>\n",
       "       <use xlink:href=\"#DejaVuSans-32\" x=\"83.789062\"/>\n",
       "      </g>\n",
       "     </g>\n",
       "    </g>\n",
       "    <g id=\"ytick_4\">\n",
       "     <g id=\"line2d_17\">\n",
       "      <path d=\"M 34.839063 249.567188 \n",
       "L 369.639063 249.567188 \n",
       "\" clip-path=\"url(#p93fee0a885)\" style=\"fill: none; stroke: #b0b0b0; stroke-width: 0.8; stroke-linecap: square\"/>\n",
       "     </g>\n",
       "     <g id=\"line2d_18\">\n",
       "      <g>\n",
       "       <use xlink:href=\"#m8fae015055\" x=\"34.839063\" y=\"249.567188\" style=\"stroke: #000000; stroke-width: 0.8\"/>\n",
       "      </g>\n",
       "     </g>\n",
       "     <g id=\"text_9\">\n",
       "      <!-- −1 -->\n",
       "      <g transform=\"translate(7.2 254.886094) scale(0.14 -0.14)\">\n",
       "       <defs>\n",
       "        <path id=\"DejaVuSans-31\" d=\"M 794 531 \n",
       "L 1825 531 \n",
       "L 1825 4091 \n",
       "L 703 3866 \n",
       "L 703 4441 \n",
       "L 1819 4666 \n",
       "L 2450 4666 \n",
       "L 2450 531 \n",
       "L 3481 531 \n",
       "L 3481 0 \n",
       "L 794 0 \n",
       "L 794 531 \n",
       "z\n",
       "\" transform=\"scale(0.015625)\"/>\n",
       "       </defs>\n",
       "       <use xlink:href=\"#DejaVuSans-2212\"/>\n",
       "       <use xlink:href=\"#DejaVuSans-31\" x=\"83.789062\"/>\n",
       "      </g>\n",
       "     </g>\n",
       "    </g>\n",
       "    <g id=\"ytick_5\">\n",
       "     <g id=\"line2d_19\">\n",
       "      <path d=\"M 34.839063 207.987188 \n",
       "L 369.639063 207.987188 \n",
       "\" clip-path=\"url(#p93fee0a885)\" style=\"fill: none; stroke: #b0b0b0; stroke-width: 0.8; stroke-linecap: square\"/>\n",
       "     </g>\n",
       "     <g id=\"line2d_20\">\n",
       "      <g>\n",
       "       <use xlink:href=\"#m8fae015055\" x=\"34.839063\" y=\"207.987188\" style=\"stroke: #000000; stroke-width: 0.8\"/>\n",
       "      </g>\n",
       "     </g>\n",
       "     <g id=\"text_10\">\n",
       "      <!-- 0 -->\n",
       "      <g transform=\"translate(18.931563 213.306094) scale(0.14 -0.14)\">\n",
       "       <use xlink:href=\"#DejaVuSans-30\"/>\n",
       "      </g>\n",
       "     </g>\n",
       "    </g>\n",
       "    <g id=\"ytick_6\">\n",
       "     <g id=\"line2d_21\">\n",
       "      <path d=\"M 34.839063 166.407187 \n",
       "L 369.639063 166.407187 \n",
       "\" clip-path=\"url(#p93fee0a885)\" style=\"fill: none; stroke: #b0b0b0; stroke-width: 0.8; stroke-linecap: square\"/>\n",
       "     </g>\n",
       "     <g id=\"line2d_22\">\n",
       "      <g>\n",
       "       <use xlink:href=\"#m8fae015055\" x=\"34.839063\" y=\"166.407187\" style=\"stroke: #000000; stroke-width: 0.8\"/>\n",
       "      </g>\n",
       "     </g>\n",
       "     <g id=\"text_11\">\n",
       "      <!-- 1 -->\n",
       "      <g transform=\"translate(18.931563 171.726094) scale(0.14 -0.14)\">\n",
       "       <use xlink:href=\"#DejaVuSans-31\"/>\n",
       "      </g>\n",
       "     </g>\n",
       "    </g>\n",
       "    <g id=\"ytick_7\">\n",
       "     <g id=\"line2d_23\">\n",
       "      <path d=\"M 34.839063 124.827187 \n",
       "L 369.639063 124.827187 \n",
       "\" clip-path=\"url(#p93fee0a885)\" style=\"fill: none; stroke: #b0b0b0; stroke-width: 0.8; stroke-linecap: square\"/>\n",
       "     </g>\n",
       "     <g id=\"line2d_24\">\n",
       "      <g>\n",
       "       <use xlink:href=\"#m8fae015055\" x=\"34.839063\" y=\"124.827187\" style=\"stroke: #000000; stroke-width: 0.8\"/>\n",
       "      </g>\n",
       "     </g>\n",
       "     <g id=\"text_12\">\n",
       "      <!-- 2 -->\n",
       "      <g transform=\"translate(18.931563 130.146094) scale(0.14 -0.14)\">\n",
       "       <use xlink:href=\"#DejaVuSans-32\"/>\n",
       "      </g>\n",
       "     </g>\n",
       "    </g>\n",
       "    <g id=\"ytick_8\">\n",
       "     <g id=\"line2d_25\">\n",
       "      <path d=\"M 34.839063 83.247187 \n",
       "L 369.639063 83.247187 \n",
       "\" clip-path=\"url(#p93fee0a885)\" style=\"fill: none; stroke: #b0b0b0; stroke-width: 0.8; stroke-linecap: square\"/>\n",
       "     </g>\n",
       "     <g id=\"line2d_26\">\n",
       "      <g>\n",
       "       <use xlink:href=\"#m8fae015055\" x=\"34.839063\" y=\"83.247187\" style=\"stroke: #000000; stroke-width: 0.8\"/>\n",
       "      </g>\n",
       "     </g>\n",
       "     <g id=\"text_13\">\n",
       "      <!-- 3 -->\n",
       "      <g transform=\"translate(18.931563 88.566094) scale(0.14 -0.14)\">\n",
       "       <use xlink:href=\"#DejaVuSans-33\"/>\n",
       "      </g>\n",
       "     </g>\n",
       "    </g>\n",
       "    <g id=\"ytick_9\">\n",
       "     <g id=\"line2d_27\">\n",
       "      <path d=\"M 34.839063 41.667187 \n",
       "L 369.639063 41.667187 \n",
       "\" clip-path=\"url(#p93fee0a885)\" style=\"fill: none; stroke: #b0b0b0; stroke-width: 0.8; stroke-linecap: square\"/>\n",
       "     </g>\n",
       "     <g id=\"line2d_28\">\n",
       "      <g>\n",
       "       <use xlink:href=\"#m8fae015055\" x=\"34.839063\" y=\"41.667187\" style=\"stroke: #000000; stroke-width: 0.8\"/>\n",
       "      </g>\n",
       "     </g>\n",
       "     <g id=\"text_14\">\n",
       "      <!-- 4 -->\n",
       "      <g transform=\"translate(18.931563 46.986094) scale(0.14 -0.14)\">\n",
       "       <use xlink:href=\"#DejaVuSans-34\"/>\n",
       "      </g>\n",
       "     </g>\n",
       "    </g>\n",
       "   </g>\n",
       "   <g id=\"line2d_29\">\n",
       "    <defs>\n",
       "     <path id=\"mcfc33ae147\" d=\"M 0 3 \n",
       "C 0.795609 3 1.55874 2.683901 2.12132 2.12132 \n",
       "C 2.683901 1.55874 3 0.795609 3 0 \n",
       "C 3 -0.795609 2.683901 -1.55874 2.12132 -2.12132 \n",
       "C 1.55874 -2.683901 0.795609 -3 0 -3 \n",
       "C -0.795609 -3 -1.55874 -2.683901 -2.12132 -2.12132 \n",
       "C -2.683901 -1.55874 -3 -0.795609 -3 0 \n",
       "C -3 0.795609 -2.683901 1.55874 -2.12132 2.12132 \n",
       "C -1.55874 2.683901 -0.795609 3 0 3 \n",
       "z\n",
       "\" style=\"stroke: #000000\"/>\n",
       "    </defs>\n",
       "    <g clip-path=\"url(#p93fee0a885)\">\n",
       "     <use xlink:href=\"#mcfc33ae147\" x=\"203.931725\" y=\"202.941961\" style=\"stroke: #000000\"/>\n",
       "    </g>\n",
       "   </g>\n",
       "   <g id=\"line2d_30\">\n",
       "    <g clip-path=\"url(#p93fee0a885)\">\n",
       "     <use xlink:href=\"#mcfc33ae147\" x=\"104.07263\" y=\"500.586491\" style=\"stroke: #000000\"/>\n",
       "    </g>\n",
       "   </g>\n",
       "   <g id=\"line2d_31\">\n",
       "    <g clip-path=\"url(#p93fee0a885)\">\n",
       "     <use xlink:href=\"#mcfc33ae147\" x=\"149.629663\" y=\"364.797139\" style=\"stroke: #000000\"/>\n",
       "    </g>\n",
       "   </g>\n",
       "   <g id=\"line2d_32\">\n",
       "    <g clip-path=\"url(#p93fee0a885)\">\n",
       "     <use xlink:href=\"#mcfc33ae147\" x=\"174.758751\" y=\"289.896245\" style=\"stroke: #000000\"/>\n",
       "    </g>\n",
       "   </g>\n",
       "   <g id=\"line2d_33\">\n",
       "    <g clip-path=\"url(#p93fee0a885)\">\n",
       "     <use xlink:href=\"#mcfc33ae147\" x=\"128.163097\" y=\"428.781355\" style=\"stroke: #000000\"/>\n",
       "    </g>\n",
       "   </g>\n",
       "   <g id=\"line2d_34\">\n",
       "    <g clip-path=\"url(#p93fee0a885)\">\n",
       "     <use xlink:href=\"#mcfc33ae147\" x=\"192.495369\" y=\"237.02968\" style=\"stroke: #000000\"/>\n",
       "    </g>\n",
       "   </g>\n",
       "   <g id=\"line2d_35\">\n",
       "    <g clip-path=\"url(#p93fee0a885)\"/>\n",
       "   </g>\n",
       "   <g id=\"line2d_36\">\n",
       "    <g clip-path=\"url(#p93fee0a885)\">\n",
       "     <use xlink:href=\"#mcfc33ae147\" x=\"47.310457\" y=\"669.774385\" style=\"stroke: #000000\"/>\n",
       "    </g>\n",
       "   </g>\n",
       "   <g id=\"line2d_37\">\n",
       "    <g clip-path=\"url(#p93fee0a885)\">\n",
       "     <use xlink:href=\"#mcfc33ae147\" x=\"250.614429\" y=\"63.797384\" style=\"stroke: #000000\"/>\n",
       "    </g>\n",
       "   </g>\n",
       "   <g id=\"line2d_38\">\n",
       "    <g clip-path=\"url(#p93fee0a885)\">\n",
       "     <use xlink:href=\"#mcfc33ae147\" x=\"177.401798\" y=\"282.01826\" style=\"stroke: #000000\"/>\n",
       "    </g>\n",
       "   </g>\n",
       "   <g id=\"line2d_39\">\n",
       "    <g clip-path=\"url(#p93fee0a885)\"/>\n",
       "   </g>\n",
       "   <g id=\"line2d_40\">\n",
       "    <g clip-path=\"url(#p93fee0a885)\">\n",
       "     <use xlink:href=\"#mcfc33ae147\" x=\"38.437813\" y=\"696.220589\" style=\"stroke: #000000\"/>\n",
       "    </g>\n",
       "   </g>\n",
       "   <g id=\"line2d_41\">\n",
       "    <g clip-path=\"url(#p93fee0a885)\">\n",
       "     <use xlink:href=\"#mcfc33ae147\" x=\"172.168279\" y=\"297.617524\" style=\"stroke: #000000\"/>\n",
       "    </g>\n",
       "   </g>\n",
       "   <g id=\"line2d_42\">\n",
       "    <g clip-path=\"url(#p93fee0a885)\"/>\n",
       "   </g>\n",
       "   <g id=\"line2d_43\">\n",
       "    <g clip-path=\"url(#p93fee0a885)\">\n",
       "     <use xlink:href=\"#mcfc33ae147\" x=\"132.606754\" y=\"415.53639\" style=\"stroke: #000000\"/>\n",
       "    </g>\n",
       "   </g>\n",
       "   <g id=\"line2d_44\">\n",
       "    <g clip-path=\"url(#p93fee0a885)\">\n",
       "     <use xlink:href=\"#mcfc33ae147\" x=\"164.659815\" y=\"319.99759\" style=\"stroke: #000000\"/>\n",
       "    </g>\n",
       "   </g>\n",
       "   <g id=\"line2d_45\">\n",
       "    <g clip-path=\"url(#p93fee0a885)\">\n",
       "     <use xlink:href=\"#mcfc33ae147\" x=\"187.813569\" y=\"250.984465\" style=\"stroke: #000000\"/>\n",
       "    </g>\n",
       "   </g>\n",
       "   <g id=\"line2d_46\">\n",
       "    <g clip-path=\"url(#p93fee0a885)\"/>\n",
       "   </g>\n",
       "   <g id=\"line2d_47\">\n",
       "    <g clip-path=\"url(#p93fee0a885)\"/>\n",
       "   </g>\n",
       "   <g id=\"line2d_48\">\n",
       "    <g clip-path=\"url(#p93fee0a885)\">\n",
       "     <use xlink:href=\"#mcfc33ae147\" x=\"178.602427\" y=\"278.43961\" style=\"stroke: #000000\"/>\n",
       "    </g>\n",
       "   </g>\n",
       "   <g id=\"line2d_49\">\n",
       "    <g clip-path=\"url(#p93fee0a885)\">\n",
       "     <use xlink:href=\"#mcfc33ae147\" x=\"249.011859\" y=\"68.574077\" style=\"stroke: #000000\"/>\n",
       "    </g>\n",
       "   </g>\n",
       "   <g id=\"line2d_50\">\n",
       "    <g clip-path=\"url(#p93fee0a885)\">\n",
       "     <use xlink:href=\"#mcfc33ae147\" x=\"223.731615\" y=\"143.925516\" style=\"stroke: #000000\"/>\n",
       "    </g>\n",
       "   </g>\n",
       "   <g id=\"line2d_51\">\n",
       "    <g clip-path=\"url(#p93fee0a885)\"/>\n",
       "   </g>\n",
       "   <g id=\"line2d_52\">\n",
       "    <g clip-path=\"url(#p93fee0a885)\">\n",
       "     <use xlink:href=\"#mcfc33ae147\" x=\"96.088922\" y=\"524.38309\" style=\"stroke: #000000\"/>\n",
       "    </g>\n",
       "   </g>\n",
       "   <g id=\"line2d_53\">\n",
       "    <g clip-path=\"url(#p93fee0a885)\">\n",
       "     <use xlink:href=\"#mcfc33ae147\" x=\"161.222844\" y=\"330.24198\" style=\"stroke: #000000\"/>\n",
       "    </g>\n",
       "   </g>\n",
       "   <g id=\"line2d_54\">\n",
       "    <g clip-path=\"url(#p93fee0a885)\">\n",
       "     <use xlink:href=\"#mcfc33ae147\" x=\"98.778231\" y=\"516.367214\" style=\"stroke: #000000\"/>\n",
       "    </g>\n",
       "   </g>\n",
       "   <g id=\"line2d_55\">\n",
       "    <g clip-path=\"url(#p93fee0a885)\"/>\n",
       "   </g>\n",
       "   <g id=\"line2d_56\">\n",
       "    <g clip-path=\"url(#p93fee0a885)\">\n",
       "     <use xlink:href=\"#mcfc33ae147\" x=\"224.910867\" y=\"140.410582\" style=\"stroke: #000000\"/>\n",
       "    </g>\n",
       "   </g>\n",
       "   <g id=\"line2d_57\">\n",
       "    <g clip-path=\"url(#p93fee0a885)\">\n",
       "     <use xlink:href=\"#mcfc33ae147\" x=\"40.515735\" y=\"690.027042\" style=\"stroke: #000000\"/>\n",
       "    </g>\n",
       "   </g>\n",
       "   <g id=\"line2d_58\">\n",
       "    <g clip-path=\"url(#p93fee0a885)\"/>\n",
       "   </g>\n",
       "   <g id=\"line2d_59\">\n",
       "    <g clip-path=\"url(#p93fee0a885)\">\n",
       "     <use xlink:href=\"#mcfc33ae147\" x=\"262.146118\" y=\"29.425511\" style=\"stroke: #000000\"/>\n",
       "    </g>\n",
       "   </g>\n",
       "   <g id=\"line2d_60\">\n",
       "    <g clip-path=\"url(#p93fee0a885)\">\n",
       "     <use xlink:href=\"#mcfc33ae147\" x=\"67.977853\" y=\"608.172213\" style=\"stroke: #000000\"/>\n",
       "    </g>\n",
       "   </g>\n",
       "   <g id=\"line2d_61\">\n",
       "    <g clip-path=\"url(#p93fee0a885)\">\n",
       "     <use xlink:href=\"#mcfc33ae147\" x=\"125.828576\" y=\"435.739735\" style=\"stroke: #000000\"/>\n",
       "    </g>\n",
       "   </g>\n",
       "   <g id=\"line2d_62\">\n",
       "    <g clip-path=\"url(#p93fee0a885)\"/>\n",
       "   </g>\n",
       "   <g id=\"line2d_63\">\n",
       "    <g clip-path=\"url(#p93fee0a885)\"/>\n",
       "   </g>\n",
       "   <g id=\"line2d_64\">\n",
       "    <g clip-path=\"url(#p93fee0a885)\">\n",
       "     <use xlink:href=\"#mcfc33ae147\" x=\"68.975529\" y=\"605.198494\" style=\"stroke: #000000\"/>\n",
       "    </g>\n",
       "   </g>\n",
       "   <g id=\"line2d_65\">\n",
       "    <g clip-path=\"url(#p93fee0a885)\">\n",
       "     <use xlink:href=\"#mcfc33ae147\" x=\"43.159185\" y=\"682.147854\" style=\"stroke: #000000\"/>\n",
       "    </g>\n",
       "   </g>\n",
       "   <g id=\"line2d_66\">\n",
       "    <g clip-path=\"url(#p93fee0a885)\">\n",
       "     <use xlink:href=\"#mcfc33ae147\" x=\"178.506431\" y=\"278.725742\" style=\"stroke: #000000\"/>\n",
       "    </g>\n",
       "   </g>\n",
       "   <g id=\"line2d_67\">\n",
       "    <g clip-path=\"url(#p93fee0a885)\">\n",
       "     <use xlink:href=\"#mcfc33ae147\" x=\"229.488019\" y=\"126.767717\" style=\"stroke: #000000\"/>\n",
       "    </g>\n",
       "   </g>\n",
       "   <g id=\"line2d_68\">\n",
       "    <g clip-path=\"url(#p93fee0a885)\"/>\n",
       "   </g>\n",
       "   <g id=\"line2d_69\">\n",
       "    <g clip-path=\"url(#p93fee0a885)\">\n",
       "     <use xlink:href=\"#mcfc33ae147\" x=\"189.926112\" y=\"244.687723\" style=\"stroke: #000000\"/>\n",
       "    </g>\n",
       "   </g>\n",
       "   <g id=\"line2d_70\">\n",
       "    <g clip-path=\"url(#p93fee0a885)\">\n",
       "     <use xlink:href=\"#mcfc33ae147\" x=\"199.554949\" y=\"215.987578\" style=\"stroke: #000000\"/>\n",
       "    </g>\n",
       "   </g>\n",
       "   <g id=\"line2d_71\">\n",
       "    <g clip-path=\"url(#p93fee0a885)\">\n",
       "     <use xlink:href=\"#mcfc33ae147\" x=\"116.807859\" y=\"462.627291\" style=\"stroke: #000000\"/>\n",
       "    </g>\n",
       "   </g>\n",
       "   <g id=\"line2d_72\">\n",
       "    <g clip-path=\"url(#p93fee0a885)\">\n",
       "     <use xlink:href=\"#mcfc33ae147\" x=\"187.941395\" y=\"250.60346\" style=\"stroke: #000000\"/>\n",
       "    </g>\n",
       "   </g>\n",
       "   <g id=\"line2d_73\">\n",
       "    <g clip-path=\"url(#p93fee0a885)\">\n",
       "     <use xlink:href=\"#mcfc33ae147\" x=\"152.845369\" y=\"355.212261\" style=\"stroke: #000000\"/>\n",
       "    </g>\n",
       "   </g>\n",
       "   <g id=\"line2d_74\">\n",
       "    <g clip-path=\"url(#p93fee0a885)\">\n",
       "     <use xlink:href=\"#mcfc33ae147\" x=\"255.726391\" y=\"48.560439\" style=\"stroke: #000000\"/>\n",
       "    </g>\n",
       "   </g>\n",
       "   <g id=\"line2d_75\">\n",
       "    <g clip-path=\"url(#p93fee0a885)\">\n",
       "     <use xlink:href=\"#mcfc33ae147\" x=\"74.719265\" y=\"588.078454\" style=\"stroke: #000000\"/>\n",
       "    </g>\n",
       "   </g>\n",
       "   <g id=\"line2d_76\">\n",
       "    <g clip-path=\"url(#p93fee0a885)\">\n",
       "     <use xlink:href=\"#mcfc33ae147\" x=\"254.015934\" y=\"53.658706\" style=\"stroke: #000000\"/>\n",
       "    </g>\n",
       "   </g>\n",
       "   <g id=\"line2d_77\">\n",
       "    <g clip-path=\"url(#p93fee0a885)\">\n",
       "     <use xlink:href=\"#mcfc33ae147\" x=\"266.577776\" y=\"16.216312\" style=\"stroke: #000000\"/>\n",
       "    </g>\n",
       "   </g>\n",
       "   <g id=\"line2d_78\">\n",
       "    <g clip-path=\"url(#p93fee0a885)\"/>\n",
       "   </g>\n",
       "   <g id=\"line2d_79\">\n",
       "    <g clip-path=\"url(#p93fee0a885)\">\n",
       "     <use xlink:href=\"#mcfc33ae147\" x=\"158.645323\" y=\"337.924657\" style=\"stroke: #000000\"/>\n",
       "    </g>\n",
       "   </g>\n",
       "   <g id=\"line2d_80\">\n",
       "    <g clip-path=\"url(#p93fee0a885)\">\n",
       "     <use xlink:href=\"#mcfc33ae147\" x=\"138.981905\" y=\"396.534327\" style=\"stroke: #000000\"/>\n",
       "    </g>\n",
       "   </g>\n",
       "   <g id=\"line2d_81\">\n",
       "    <g clip-path=\"url(#p93fee0a885)\"/>\n",
       "   </g>\n",
       "   <g id=\"line2d_82\">\n",
       "    <g clip-path=\"url(#p93fee0a885)\"/>\n",
       "   </g>\n",
       "   <g id=\"line2d_83\">\n",
       "    <g clip-path=\"url(#p93fee0a885)\">\n",
       "     <use xlink:href=\"#mcfc33ae147\" x=\"245.779781\" y=\"78.207754\" style=\"stroke: #000000\"/>\n",
       "    </g>\n",
       "   </g>\n",
       "   <g id=\"line2d_84\">\n",
       "    <g clip-path=\"url(#p93fee0a885)\">\n",
       "     <use xlink:href=\"#mcfc33ae147\" x=\"65.822629\" y=\"614.596171\" style=\"stroke: #000000\"/>\n",
       "    </g>\n",
       "   </g>\n",
       "   <g id=\"line2d_85\">\n",
       "    <g clip-path=\"url(#p93fee0a885)\">\n",
       "     <use xlink:href=\"#mcfc33ae147\" x=\"141.944892\" y=\"387.702714\" style=\"stroke: #000000\"/>\n",
       "    </g>\n",
       "   </g>\n",
       "   <g id=\"line2d_86\">\n",
       "    <g clip-path=\"url(#p93fee0a885)\">\n",
       "     <use xlink:href=\"#mcfc33ae147\" x=\"84.742167\" y=\"558.203741\" style=\"stroke: #000000\"/>\n",
       "    </g>\n",
       "   </g>\n",
       "   <g id=\"line2d_87\">\n",
       "    <g clip-path=\"url(#p93fee0a885)\">\n",
       "     <use xlink:href=\"#mcfc33ae147\" x=\"69.651122\" y=\"603.184791\" style=\"stroke: #000000\"/>\n",
       "    </g>\n",
       "   </g>\n",
       "   <g id=\"line2d_88\">\n",
       "    <g clip-path=\"url(#p93fee0a885)\"/>\n",
       "   </g>\n",
       "   <g id=\"line2d_89\">\n",
       "    <g clip-path=\"url(#p93fee0a885)\">\n",
       "     <use xlink:href=\"#mcfc33ae147\" x=\"161.592404\" y=\"329.140453\" style=\"stroke: #000000\"/>\n",
       "    </g>\n",
       "   </g>\n",
       "   <g id=\"line2d_90\">\n",
       "    <g clip-path=\"url(#p93fee0a885)\"/>\n",
       "   </g>\n",
       "   <g id=\"line2d_91\">\n",
       "    <g clip-path=\"url(#p93fee0a885)\">\n",
       "     <use xlink:href=\"#mcfc33ae147\" x=\"266.43177\" y=\"16.651503\" style=\"stroke: #000000\"/>\n",
       "    </g>\n",
       "   </g>\n",
       "   <g id=\"line2d_92\">\n",
       "    <g clip-path=\"url(#p93fee0a885)\">\n",
       "     <use xlink:href=\"#mcfc33ae147\" x=\"202.597445\" y=\"206.918978\" style=\"stroke: #000000\"/>\n",
       "    </g>\n",
       "   </g>\n",
       "   <g id=\"line2d_93\">\n",
       "    <g clip-path=\"url(#p93fee0a885)\">\n",
       "     <use xlink:href=\"#mcfc33ae147\" x=\"184.126027\" y=\"261.97572\" style=\"stroke: #000000\"/>\n",
       "    </g>\n",
       "   </g>\n",
       "   <g id=\"line2d_94\">\n",
       "    <g clip-path=\"url(#p93fee0a885)\">\n",
       "     <use xlink:href=\"#mcfc33ae147\" x=\"203.168526\" y=\"205.216788\" style=\"stroke: #000000\"/>\n",
       "    </g>\n",
       "   </g>\n",
       "   <g id=\"line2d_95\">\n",
       "    <g clip-path=\"url(#p93fee0a885)\">\n",
       "     <use xlink:href=\"#mcfc33ae147\" x=\"231.550353\" y=\"120.620632\" style=\"stroke: #000000\"/>\n",
       "    </g>\n",
       "   </g>\n",
       "   <g id=\"line2d_96\">\n",
       "    <g clip-path=\"url(#p93fee0a885)\">\n",
       "     <use xlink:href=\"#mcfc33ae147\" x=\"133.785282\" y=\"412.023616\" style=\"stroke: #000000\"/>\n",
       "    </g>\n",
       "   </g>\n",
       "   <g id=\"line2d_97\">\n",
       "    <g clip-path=\"url(#p93fee0a885)\"/>\n",
       "   </g>\n",
       "   <g id=\"line2d_98\">\n",
       "    <g clip-path=\"url(#p93fee0a885)\">\n",
       "     <use xlink:href=\"#mcfc33ae147\" x=\"248.994404\" y=\"68.626105\" style=\"stroke: #000000\"/>\n",
       "    </g>\n",
       "   </g>\n",
       "   <g id=\"line2d_99\">\n",
       "    <g clip-path=\"url(#p93fee0a885)\"/>\n",
       "   </g>\n",
       "   <g id=\"line2d_100\">\n",
       "    <g clip-path=\"url(#p93fee0a885)\">\n",
       "     <use xlink:href=\"#mcfc33ae147\" x=\"95.491728\" y=\"526.163115\" style=\"stroke: #000000\"/>\n",
       "    </g>\n",
       "   </g>\n",
       "   <g id=\"line2d_101\">\n",
       "    <g clip-path=\"url(#p93fee0a885)\">\n",
       "     <use xlink:href=\"#mcfc33ae147\" x=\"192.684337\" y=\"236.466433\" style=\"stroke: #000000\"/>\n",
       "    </g>\n",
       "   </g>\n",
       "   <g id=\"line2d_102\">\n",
       "    <g clip-path=\"url(#p93fee0a885)\">\n",
       "     <use xlink:href=\"#mcfc33ae147\" x=\"173.538827\" y=\"293.532405\" style=\"stroke: #000000\"/>\n",
       "    </g>\n",
       "   </g>\n",
       "   <g id=\"line2d_103\">\n",
       "    <g clip-path=\"url(#p93fee0a885)\">\n",
       "     <use xlink:href=\"#mcfc33ae147\" x=\"139.98346\" y=\"393.549048\" style=\"stroke: #000000\"/>\n",
       "    </g>\n",
       "   </g>\n",
       "   <g id=\"line2d_104\">\n",
       "    <g clip-path=\"url(#p93fee0a885)\">\n",
       "     <use xlink:href=\"#mcfc33ae147\" x=\"233.504391\" y=\"114.796339\" style=\"stroke: #000000\"/>\n",
       "    </g>\n",
       "   </g>\n",
       "   <g id=\"line2d_105\">\n",
       "    <g clip-path=\"url(#p93fee0a885)\">\n",
       "     <use xlink:href=\"#mcfc33ae147\" x=\"237.935405\" y=\"101.589058\" style=\"stroke: #000000\"/>\n",
       "    </g>\n",
       "   </g>\n",
       "   <g id=\"line2d_106\">\n",
       "    <g clip-path=\"url(#p93fee0a885)\">\n",
       "     <use xlink:href=\"#mcfc33ae147\" x=\"109.126815\" y=\"485.521756\" style=\"stroke: #000000\"/>\n",
       "    </g>\n",
       "   </g>\n",
       "   <g id=\"line2d_107\">\n",
       "    <g clip-path=\"url(#p93fee0a885)\">\n",
       "     <use xlink:href=\"#mcfc33ae147\" x=\"55.133511\" y=\"646.456639\" style=\"stroke: #000000\"/>\n",
       "    </g>\n",
       "   </g>\n",
       "   <g id=\"line2d_108\">\n",
       "    <g clip-path=\"url(#p93fee0a885)\">\n",
       "     <use xlink:href=\"#mcfc33ae147\" x=\"130.754752\" y=\"421.056553\" style=\"stroke: #000000\"/>\n",
       "    </g>\n",
       "   </g>\n",
       "   <g id=\"line2d_109\">\n",
       "    <g clip-path=\"url(#p93fee0a885)\"/>\n",
       "   </g>\n",
       "   <g id=\"line2d_110\">\n",
       "    <g clip-path=\"url(#p93fee0a885)\">\n",
       "     <use xlink:href=\"#mcfc33ae147\" x=\"157.867913\" y=\"340.241839\" style=\"stroke: #000000\"/>\n",
       "    </g>\n",
       "   </g>\n",
       "   <g id=\"line2d_111\">\n",
       "    <g clip-path=\"url(#p93fee0a885)\">\n",
       "     <use xlink:href=\"#mcfc33ae147\" x=\"146.226374\" y=\"374.941138\" style=\"stroke: #000000\"/>\n",
       "    </g>\n",
       "   </g>\n",
       "   <g id=\"line2d_112\">\n",
       "    <g clip-path=\"url(#p93fee0a885)\">\n",
       "     <use xlink:href=\"#mcfc33ae147\" x=\"248.851968\" y=\"69.050655\" style=\"stroke: #000000\"/>\n",
       "    </g>\n",
       "   </g>\n",
       "   <g id=\"line2d_113\">\n",
       "    <g clip-path=\"url(#p93fee0a885)\">\n",
       "     <use xlink:href=\"#mcfc33ae147\" x=\"132.215554\" y=\"416.702418\" style=\"stroke: #000000\"/>\n",
       "    </g>\n",
       "   </g>\n",
       "   <g id=\"line2d_114\">\n",
       "    <g clip-path=\"url(#p93fee0a885)\"/>\n",
       "   </g>\n",
       "   <g id=\"line2d_115\">\n",
       "    <g clip-path=\"url(#p93fee0a885)\">\n",
       "     <use xlink:href=\"#mcfc33ae147\" x=\"85.234115\" y=\"556.737419\" style=\"stroke: #000000\"/>\n",
       "    </g>\n",
       "   </g>\n",
       "   <g id=\"line2d_116\">\n",
       "    <g clip-path=\"url(#p93fee0a885)\">\n",
       "     <use xlink:href=\"#mcfc33ae147\" x=\"234.214818\" y=\"112.678806\" style=\"stroke: #000000\"/>\n",
       "    </g>\n",
       "   </g>\n",
       "   <g id=\"line2d_117\">\n",
       "    <g clip-path=\"url(#p93fee0a885)\">\n",
       "     <use xlink:href=\"#mcfc33ae147\" x=\"69.05132\" y=\"604.972589\" style=\"stroke: #000000\"/>\n",
       "    </g>\n",
       "   </g>\n",
       "   <g id=\"line2d_118\">\n",
       "    <g clip-path=\"url(#p93fee0a885)\">\n",
       "     <use xlink:href=\"#mcfc33ae147\" x=\"99.464717\" y=\"514.321042\" style=\"stroke: #000000\"/>\n",
       "    </g>\n",
       "   </g>\n",
       "   <g id=\"line2d_119\">\n",
       "    <g clip-path=\"url(#p93fee0a885)\">\n",
       "     <use xlink:href=\"#mcfc33ae147\" x=\"229.607787\" y=\"126.410732\" style=\"stroke: #000000\"/>\n",
       "    </g>\n",
       "   </g>\n",
       "   <g id=\"line2d_120\">\n",
       "    <g clip-path=\"url(#p93fee0a885)\">\n",
       "     <use xlink:href=\"#mcfc33ae147\" x=\"142.748108\" y=\"385.308613\" style=\"stroke: #000000\"/>\n",
       "    </g>\n",
       "   </g>\n",
       "   <g id=\"line2d_121\">\n",
       "    <g clip-path=\"url(#p93fee0a885)\">\n",
       "     <use xlink:href=\"#mcfc33ae147\" x=\"223.940906\" y=\"143.301692\" style=\"stroke: #000000\"/>\n",
       "    </g>\n",
       "   </g>\n",
       "   <g id=\"line2d_122\">\n",
       "    <g clip-path=\"url(#p93fee0a885)\">\n",
       "     <use xlink:href=\"#mcfc33ae147\" x=\"117.249454\" y=\"461.311054\" style=\"stroke: #000000\"/>\n",
       "    </g>\n",
       "   </g>\n",
       "   <g id=\"line2d_123\">\n",
       "    <g clip-path=\"url(#p93fee0a885)\">\n",
       "     <use xlink:href=\"#mcfc33ae147\" x=\"250.127689\" y=\"65.248185\" style=\"stroke: #000000\"/>\n",
       "    </g>\n",
       "   </g>\n",
       "   <g id=\"line2d_124\">\n",
       "    <g clip-path=\"url(#p93fee0a885)\">\n",
       "     <use xlink:href=\"#mcfc33ae147\" x=\"254.358562\" y=\"52.637453\" style=\"stroke: #000000\"/>\n",
       "    </g>\n",
       "   </g>\n",
       "   <g id=\"line2d_125\">\n",
       "    <g clip-path=\"url(#p93fee0a885)\">\n",
       "     <use xlink:href=\"#mcfc33ae147\" x=\"187.124772\" y=\"253.037523\" style=\"stroke: #000000\"/>\n",
       "    </g>\n",
       "   </g>\n",
       "   <g id=\"line2d_126\">\n",
       "    <g clip-path=\"url(#p93fee0a885)\">\n",
       "     <use xlink:href=\"#mcfc33ae147\" x=\"153.528709\" y=\"353.175466\" style=\"stroke: #000000\"/>\n",
       "    </g>\n",
       "   </g>\n",
       "   <g id=\"line2d_127\">\n",
       "    <g clip-path=\"url(#p93fee0a885)\">\n",
       "     <use xlink:href=\"#mcfc33ae147\" x=\"256.987028\" y=\"44.802929\" style=\"stroke: #000000\"/>\n",
       "    </g>\n",
       "   </g>\n",
       "   <g id=\"line2d_128\">\n",
       "    <g clip-path=\"url(#p93fee0a885)\">\n",
       "     <use xlink:href=\"#mcfc33ae147\" x=\"228.351221\" y=\"130.156107\" style=\"stroke: #000000\"/>\n",
       "    </g>\n",
       "   </g>\n",
       "   <g id=\"patch_3\">\n",
       "    <path d=\"M 34.839063 374.307188 \n",
       "L 34.839063 41.667187 \n",
       "\" style=\"fill: none; stroke: #000000; stroke-width: 0.8; stroke-linejoin: miter; stroke-linecap: square\"/>\n",
       "   </g>\n",
       "   <g id=\"patch_4\">\n",
       "    <path d=\"M 369.639063 374.307188 \n",
       "L 369.639063 41.667187 \n",
       "\" style=\"fill: none; stroke: #000000; stroke-width: 0.8; stroke-linejoin: miter; stroke-linecap: square\"/>\n",
       "   </g>\n",
       "   <g id=\"patch_5\">\n",
       "    <path d=\"M 34.839063 374.307188 \n",
       "L 369.639063 374.307188 \n",
       "\" style=\"fill: none; stroke: #000000; stroke-width: 0.8; stroke-linejoin: miter; stroke-linecap: square\"/>\n",
       "   </g>\n",
       "   <g id=\"patch_6\">\n",
       "    <path d=\"M 34.839063 41.667188 \n",
       "L 369.639063 41.667188 \n",
       "\" style=\"fill: none; stroke: #000000; stroke-width: 0.8; stroke-linejoin: miter; stroke-linecap: square\"/>\n",
       "   </g>\n",
       "   <g id=\"text_15\">\n",
       "    <!-- A) -->\n",
       "    <g transform=\"translate(13.914062 20.877187) scale(0.18 -0.18)\">\n",
       "     <defs>\n",
       "      <path id=\"DejaVuSans-Bold-41\" d=\"M 3419 850 \n",
       "L 1538 850 \n",
       "L 1241 0 \n",
       "L 31 0 \n",
       "L 1759 4666 \n",
       "L 3194 4666 \n",
       "L 4922 0 \n",
       "L 3713 0 \n",
       "L 3419 850 \n",
       "z\n",
       "M 1838 1716 \n",
       "L 3116 1716 \n",
       "L 2478 3572 \n",
       "L 1838 1716 \n",
       "z\n",
       "\" transform=\"scale(0.015625)\"/>\n",
       "      <path id=\"DejaVuSans-Bold-29\" d=\"M 513 -844 \n",
       "Q 913 -100 1113 609 \n",
       "Q 1313 1319 1313 2009 \n",
       "Q 1313 2700 1113 3408 \n",
       "Q 913 4116 513 4856 \n",
       "L 1441 4856 \n",
       "Q 1916 4091 2145 3389 \n",
       "Q 2375 2688 2375 2003 \n",
       "Q 2375 1319 2147 623 \n",
       "Q 1919 -72 1441 -844 \n",
       "L 513 -844 \n",
       "z\n",
       "\" transform=\"scale(0.015625)\"/>\n",
       "     </defs>\n",
       "     <use xlink:href=\"#DejaVuSans-Bold-41\"/>\n",
       "     <use xlink:href=\"#DejaVuSans-Bold-29\" x=\"77.392578\"/>\n",
       "    </g>\n",
       "   </g>\n",
       "  </g>\n",
       " </g>\n",
       " <defs>\n",
       "  <clipPath id=\"p93fee0a885\">\n",
       "   <rect x=\"34.839063\" y=\"41.667188\" width=\"334.8\" height=\"332.64\"/>\n",
       "  </clipPath>\n",
       " </defs>\n",
       "</svg>\n"
      ],
      "text/plain": [
       "<Figure size 600x600 with 1 Axes>"
      ]
     },
     "metadata": {},
     "output_type": "display_data"
    }
   ],
   "source": [
    "# the vector set (just one vector)\n",
    "A  = np.array([ 1,3 ])\n",
    "\n",
    "# x-axis range\n",
    "xlim = [-4,4]\n",
    "\n",
    "# random scalars in that range\n",
    "scalars = np.random.uniform(low=xlim[0],high=xlim[1],size=100)\n",
    "\n",
    "\n",
    "\n",
    "# create a figure, etc\n",
    "plt.figure(figsize=(6,6))\n",
    "\n",
    "# loop over the random scalars\n",
    "for s in scalars:\n",
    "\n",
    "  # create point p\n",
    "  p = A*s\n",
    "\n",
    "  # plot it\n",
    "  plt.plot(p[0],p[1],'ko')\n",
    "\n",
    "\n",
    "plt.xlim(xlim)\n",
    "plt.ylim(xlim)\n",
    "plt.grid()\n",
    "plt.text(-4.5,4.5,'A)',fontweight='bold',fontsize=18)\n",
    "plt.savefig('Figure_03_07a.png',dpi=300)\n",
    "plt.show()"
   ]
  },
  {
   "cell_type": "code",
   "execution_count": 17,
   "metadata": {
    "colab": {
     "base_uri": "https://localhost:8080/",
     "height": 584
    },
    "executionInfo": {
     "elapsed": 736,
     "status": "ok",
     "timestamp": 1676510040155,
     "user": {
      "displayName": "Mike X Cohen",
      "userId": "13901636194183843661"
     },
     "user_tz": -540
    },
    "id": "Hm8ml4FcuRmA",
    "outputId": "0f59daf5-05bd-4f40-e89f-27279a62479d"
   },
   "outputs": [
    {
     "data": {
      "application/vnd.plotly.v1+json": {
       "config": {
        "plotlyServerURL": "https://plot.ly"
       },
       "data": [
        {
         "marker": {
          "color": "black",
          "size": 6
         },
         "mode": "markers",
         "type": "scatter3d",
         "x": [
          -7.831881586077058,
          -5.287131044485713,
          -5.507922801966667,
          -2.316860756676096,
          -11.405128337561374,
          6.2209879935495564,
          -3.7324212068609213,
          1.8779956930714192,
          2.4759076562324136,
          8.841023007899643,
          1.6216586624100016,
          -1.4727272498557875,
          7.328193408188172,
          -10.29660114104469,
          -8.258017711823088,
          2.7254402068537953,
          -3.838801928409497,
          3.841648110429383,
          7.861614797304946,
          8.975010009542807,
          12.352413526102813,
          4.039649966597828,
          -0.5529356231908888,
          8.163508891947906,
          12.773470722791892,
          -2.649992631691598,
          -0.03355421821703963,
          11.975336009740639,
          1.4078319538690183,
          -1.852820581247434,
          8.21575343070211,
          -4.858348609342807,
          4.107713487786432,
          -1.3621457945339115,
          14.484177912107615,
          4.988715501493299,
          7.914685570203494,
          -12.785802120404782,
          -11.167604467160139,
          13.837232414879978,
          9.479446530914892,
          14.294766876663738,
          12.592735612045407,
          -8.592352120489164,
          10.57623646345586,
          -5.65645303549716,
          11.286838396005262,
          -4.823191399574119,
          -1.7883559921446364,
          3.594747741761069,
          -2.3969060599939978,
          3.638247098105356,
          6.4892048475341735,
          -8.472545680246238,
          -0.6731137174673059,
          6.40961019819318,
          2.399000862187481,
          -1.1516693691499507,
          3.4034197676226796,
          8.857773542775114,
          1.0664153250994053,
          0.9537050352401844,
          -3.604405006416018,
          -9.826435300342023,
          7.857483352058187,
          -14.028837840297362,
          -7.615423970095581,
          -11.472578836359583,
          -12.166138298234294,
          2.7644996864650553,
          -15.29713944137886,
          -1.8302083260407631,
          -6.014987982936439,
          -13.416071272684894,
          11.200545312631217,
          9.596966332786021,
          12.497124416295566,
          5.008481339307273,
          -3.4234921689790676,
          -6.361936884696586,
          -14.270139431827475,
          -13.059064907327228,
          6.615106594655276,
          11.825024802299197,
          -16.89613470329173,
          -4.407166644312726,
          10.191362767839992,
          2.9581672134015338,
          -3.3443549011371645,
          6.081320107322256,
          4.403263433402797,
          -6.8665268257197205,
          6.533371169383768,
          4.054014894188301,
          1.5250829738480869,
          -2.3081370441593942,
          1.8480807143643485,
          4.636373985262591,
          -3.2614226826744193,
          6.796275343278133
         ],
         "y": [
          -13.053135976795097,
          -8.811885074142856,
          -9.179871336611113,
          -3.8614345944601602,
          -19.008547229268956,
          10.368313322582594,
          -6.220702011434868,
          3.1299928217856987,
          4.126512760387355,
          14.735038346499405,
          2.7027644373500026,
          -2.4545454164263116,
          12.213655680313616,
          -17.16100190174115,
          -13.76336285303848,
          4.5424003447563255,
          -6.398003214015828,
          6.40274685071564,
          13.102691328841576,
          14.958350015904674,
          20.587355876838025,
          6.732749944329713,
          -0.9215593719848156,
          13.605848153246509,
          21.28911787131982,
          -4.416654386152663,
          -0.05592369702839939,
          19.95889334956773,
          2.346386589781697,
          -3.088034302079057,
          13.692922384503516,
          -8.097247682238011,
          6.846189146310721,
          -2.2702429908898516,
          24.14029652017936,
          8.314525835822167,
          13.191142617005822,
          -21.309670200674635,
          -18.612674111933565,
          23.062054024799966,
          15.799077551524821,
          23.82461146110623,
          20.987892686742345,
          -14.32058686748194,
          17.627060772426432,
          -9.4274217258286,
          18.811397326675436,
          -8.03865233262353,
          -2.980593320241061,
          5.991246236268449,
          -3.9948434333233296,
          6.063745163508926,
          10.815341412556956,
          -14.120909467077063,
          -1.121856195778843,
          10.682683663655299,
          3.9983347703124696,
          -1.919448948583251,
          5.672366279371133,
          14.762955904625194,
          1.7773588751656755,
          1.589508392066974,
          -6.00734167736003,
          -16.377392167236707,
          13.095805586763644,
          -23.381396400495603,
          -12.692373283492634,
          -19.12096472726597,
          -20.276897163723827,
          4.607499477441759,
          -25.495232402298104,
          -3.0503472100679385,
          -10.024979971560734,
          -22.360118787808155,
          18.667575521052026,
          15.9949438879767,
          20.828540693825946,
          8.347468898845456,
          -5.705820281631779,
          -10.60322814116098,
          -23.783565719712463,
          -21.765108178878712,
          11.025177657758793,
          19.708374670498664,
          -28.160224505486216,
          -7.34527774052121,
          16.985604613066652,
          4.930278689002556,
          -5.573924835228608,
          10.13553351220376,
          7.338772389004662,
          -11.444211376199533,
          10.888951948972947,
          6.756691490313836,
          2.541804956413479,
          -3.84689507359899,
          3.080134523940581,
          7.727289975437652,
          -5.435704471124032,
          11.327125572130218
         ],
         "z": [
          -2.610627195359019,
          -1.7623770148285711,
          -1.8359742673222224,
          -0.772286918892032,
          -3.8017094458537914,
          2.073662664516519,
          -1.2441404022869738,
          0.6259985643571397,
          0.825302552077471,
          2.947007669299881,
          0.5405528874700005,
          -0.4909090832852625,
          2.4427311360627235,
          -3.4322003803482297,
          -2.752672570607696,
          0.9084800689512651,
          -1.2796006428031657,
          1.2805493701431279,
          2.620538265768315,
          2.991670003180935,
          4.117471175367605,
          1.346549988865943,
          -0.18431187439696295,
          2.721169630649302,
          4.2578235742639645,
          -0.8833308772305326,
          -0.011184739405679878,
          3.9917786699135465,
          0.4692773179563394,
          -0.6176068604158114,
          2.7385844769007033,
          -1.6194495364476023,
          1.3692378292621439,
          -0.4540485981779705,
          4.828059304035872,
          1.6629051671644333,
          2.6382285234011644,
          -4.261934040134927,
          -3.722534822386713,
          4.612410804959993,
          3.159815510304964,
          4.764922292221247,
          4.19757853734847,
          -2.864117373496388,
          3.5254121544852866,
          -1.88548434516572,
          3.7622794653350873,
          -1.607730466524706,
          -0.5961186640482121,
          1.1982492472536896,
          -0.7989686866646659,
          1.2127490327017854,
          2.163068282511391,
          -2.8241818934154126,
          -0.22437123915576862,
          2.13653673273106,
          0.7996669540624937,
          -0.3838897897166502,
          1.1344732558742265,
          2.9525911809250385,
          0.3554717750331351,
          0.3179016784133948,
          -1.201468335472006,
          -3.2754784334473412,
          2.619161117352729,
          -4.67627928009912,
          -2.538474656698527,
          -3.824192945453194,
          -4.055379432744765,
          0.9214998954883518,
          -5.09904648045962,
          -0.6100694420135877,
          -2.0049959943121465,
          -4.472023757561631,
          3.7335151042104053,
          3.19898877759534,
          4.165708138765189,
          1.6694937797690912,
          -1.1411640563263559,
          -2.1206456282321957,
          -4.756713143942492,
          -4.353021635775743,
          2.2050355315517587,
          3.9416749340997326,
          -5.6320449010972435,
          -1.469055548104242,
          3.3971209226133308,
          0.9860557378005113,
          -1.1147849670457215,
          2.027106702440752,
          1.4677544778009324,
          -2.2888422752399067,
          2.1777903897945894,
          1.351338298062767,
          0.5083609912826956,
          -0.7693790147197981,
          0.6160269047881162,
          1.5454579950875305,
          -1.0871408942248064,
          2.2654251144260438
         ]
        }
       ],
       "layout": {
        "margin": {
         "b": 0,
         "l": 0,
         "r": 0,
         "t": 0
        },
        "template": {
         "data": {
          "bar": [
           {
            "error_x": {
             "color": "#2a3f5f"
            },
            "error_y": {
             "color": "#2a3f5f"
            },
            "marker": {
             "line": {
              "color": "#E5ECF6",
              "width": 0.5
             },
             "pattern": {
              "fillmode": "overlay",
              "size": 10,
              "solidity": 0.2
             }
            },
            "type": "bar"
           }
          ],
          "barpolar": [
           {
            "marker": {
             "line": {
              "color": "#E5ECF6",
              "width": 0.5
             },
             "pattern": {
              "fillmode": "overlay",
              "size": 10,
              "solidity": 0.2
             }
            },
            "type": "barpolar"
           }
          ],
          "carpet": [
           {
            "aaxis": {
             "endlinecolor": "#2a3f5f",
             "gridcolor": "white",
             "linecolor": "white",
             "minorgridcolor": "white",
             "startlinecolor": "#2a3f5f"
            },
            "baxis": {
             "endlinecolor": "#2a3f5f",
             "gridcolor": "white",
             "linecolor": "white",
             "minorgridcolor": "white",
             "startlinecolor": "#2a3f5f"
            },
            "type": "carpet"
           }
          ],
          "choropleth": [
           {
            "colorbar": {
             "outlinewidth": 0,
             "ticks": ""
            },
            "type": "choropleth"
           }
          ],
          "contour": [
           {
            "colorbar": {
             "outlinewidth": 0,
             "ticks": ""
            },
            "colorscale": [
             [
              0,
              "#0d0887"
             ],
             [
              0.1111111111111111,
              "#46039f"
             ],
             [
              0.2222222222222222,
              "#7201a8"
             ],
             [
              0.3333333333333333,
              "#9c179e"
             ],
             [
              0.4444444444444444,
              "#bd3786"
             ],
             [
              0.5555555555555556,
              "#d8576b"
             ],
             [
              0.6666666666666666,
              "#ed7953"
             ],
             [
              0.7777777777777778,
              "#fb9f3a"
             ],
             [
              0.8888888888888888,
              "#fdca26"
             ],
             [
              1,
              "#f0f921"
             ]
            ],
            "type": "contour"
           }
          ],
          "contourcarpet": [
           {
            "colorbar": {
             "outlinewidth": 0,
             "ticks": ""
            },
            "type": "contourcarpet"
           }
          ],
          "heatmap": [
           {
            "colorbar": {
             "outlinewidth": 0,
             "ticks": ""
            },
            "colorscale": [
             [
              0,
              "#0d0887"
             ],
             [
              0.1111111111111111,
              "#46039f"
             ],
             [
              0.2222222222222222,
              "#7201a8"
             ],
             [
              0.3333333333333333,
              "#9c179e"
             ],
             [
              0.4444444444444444,
              "#bd3786"
             ],
             [
              0.5555555555555556,
              "#d8576b"
             ],
             [
              0.6666666666666666,
              "#ed7953"
             ],
             [
              0.7777777777777778,
              "#fb9f3a"
             ],
             [
              0.8888888888888888,
              "#fdca26"
             ],
             [
              1,
              "#f0f921"
             ]
            ],
            "type": "heatmap"
           }
          ],
          "heatmapgl": [
           {
            "colorbar": {
             "outlinewidth": 0,
             "ticks": ""
            },
            "colorscale": [
             [
              0,
              "#0d0887"
             ],
             [
              0.1111111111111111,
              "#46039f"
             ],
             [
              0.2222222222222222,
              "#7201a8"
             ],
             [
              0.3333333333333333,
              "#9c179e"
             ],
             [
              0.4444444444444444,
              "#bd3786"
             ],
             [
              0.5555555555555556,
              "#d8576b"
             ],
             [
              0.6666666666666666,
              "#ed7953"
             ],
             [
              0.7777777777777778,
              "#fb9f3a"
             ],
             [
              0.8888888888888888,
              "#fdca26"
             ],
             [
              1,
              "#f0f921"
             ]
            ],
            "type": "heatmapgl"
           }
          ],
          "histogram": [
           {
            "marker": {
             "pattern": {
              "fillmode": "overlay",
              "size": 10,
              "solidity": 0.2
             }
            },
            "type": "histogram"
           }
          ],
          "histogram2d": [
           {
            "colorbar": {
             "outlinewidth": 0,
             "ticks": ""
            },
            "colorscale": [
             [
              0,
              "#0d0887"
             ],
             [
              0.1111111111111111,
              "#46039f"
             ],
             [
              0.2222222222222222,
              "#7201a8"
             ],
             [
              0.3333333333333333,
              "#9c179e"
             ],
             [
              0.4444444444444444,
              "#bd3786"
             ],
             [
              0.5555555555555556,
              "#d8576b"
             ],
             [
              0.6666666666666666,
              "#ed7953"
             ],
             [
              0.7777777777777778,
              "#fb9f3a"
             ],
             [
              0.8888888888888888,
              "#fdca26"
             ],
             [
              1,
              "#f0f921"
             ]
            ],
            "type": "histogram2d"
           }
          ],
          "histogram2dcontour": [
           {
            "colorbar": {
             "outlinewidth": 0,
             "ticks": ""
            },
            "colorscale": [
             [
              0,
              "#0d0887"
             ],
             [
              0.1111111111111111,
              "#46039f"
             ],
             [
              0.2222222222222222,
              "#7201a8"
             ],
             [
              0.3333333333333333,
              "#9c179e"
             ],
             [
              0.4444444444444444,
              "#bd3786"
             ],
             [
              0.5555555555555556,
              "#d8576b"
             ],
             [
              0.6666666666666666,
              "#ed7953"
             ],
             [
              0.7777777777777778,
              "#fb9f3a"
             ],
             [
              0.8888888888888888,
              "#fdca26"
             ],
             [
              1,
              "#f0f921"
             ]
            ],
            "type": "histogram2dcontour"
           }
          ],
          "mesh3d": [
           {
            "colorbar": {
             "outlinewidth": 0,
             "ticks": ""
            },
            "type": "mesh3d"
           }
          ],
          "parcoords": [
           {
            "line": {
             "colorbar": {
              "outlinewidth": 0,
              "ticks": ""
             }
            },
            "type": "parcoords"
           }
          ],
          "pie": [
           {
            "automargin": true,
            "type": "pie"
           }
          ],
          "scatter": [
           {
            "fillpattern": {
             "fillmode": "overlay",
             "size": 10,
             "solidity": 0.2
            },
            "type": "scatter"
           }
          ],
          "scatter3d": [
           {
            "line": {
             "colorbar": {
              "outlinewidth": 0,
              "ticks": ""
             }
            },
            "marker": {
             "colorbar": {
              "outlinewidth": 0,
              "ticks": ""
             }
            },
            "type": "scatter3d"
           }
          ],
          "scattercarpet": [
           {
            "marker": {
             "colorbar": {
              "outlinewidth": 0,
              "ticks": ""
             }
            },
            "type": "scattercarpet"
           }
          ],
          "scattergeo": [
           {
            "marker": {
             "colorbar": {
              "outlinewidth": 0,
              "ticks": ""
             }
            },
            "type": "scattergeo"
           }
          ],
          "scattergl": [
           {
            "marker": {
             "colorbar": {
              "outlinewidth": 0,
              "ticks": ""
             }
            },
            "type": "scattergl"
           }
          ],
          "scattermapbox": [
           {
            "marker": {
             "colorbar": {
              "outlinewidth": 0,
              "ticks": ""
             }
            },
            "type": "scattermapbox"
           }
          ],
          "scatterpolar": [
           {
            "marker": {
             "colorbar": {
              "outlinewidth": 0,
              "ticks": ""
             }
            },
            "type": "scatterpolar"
           }
          ],
          "scatterpolargl": [
           {
            "marker": {
             "colorbar": {
              "outlinewidth": 0,
              "ticks": ""
             }
            },
            "type": "scatterpolargl"
           }
          ],
          "scatterternary": [
           {
            "marker": {
             "colorbar": {
              "outlinewidth": 0,
              "ticks": ""
             }
            },
            "type": "scatterternary"
           }
          ],
          "surface": [
           {
            "colorbar": {
             "outlinewidth": 0,
             "ticks": ""
            },
            "colorscale": [
             [
              0,
              "#0d0887"
             ],
             [
              0.1111111111111111,
              "#46039f"
             ],
             [
              0.2222222222222222,
              "#7201a8"
             ],
             [
              0.3333333333333333,
              "#9c179e"
             ],
             [
              0.4444444444444444,
              "#bd3786"
             ],
             [
              0.5555555555555556,
              "#d8576b"
             ],
             [
              0.6666666666666666,
              "#ed7953"
             ],
             [
              0.7777777777777778,
              "#fb9f3a"
             ],
             [
              0.8888888888888888,
              "#fdca26"
             ],
             [
              1,
              "#f0f921"
             ]
            ],
            "type": "surface"
           }
          ],
          "table": [
           {
            "cells": {
             "fill": {
              "color": "#EBF0F8"
             },
             "line": {
              "color": "white"
             }
            },
            "header": {
             "fill": {
              "color": "#C8D4E3"
             },
             "line": {
              "color": "white"
             }
            },
            "type": "table"
           }
          ]
         },
         "layout": {
          "annotationdefaults": {
           "arrowcolor": "#2a3f5f",
           "arrowhead": 0,
           "arrowwidth": 1
          },
          "autotypenumbers": "strict",
          "coloraxis": {
           "colorbar": {
            "outlinewidth": 0,
            "ticks": ""
           }
          },
          "colorscale": {
           "diverging": [
            [
             0,
             "#8e0152"
            ],
            [
             0.1,
             "#c51b7d"
            ],
            [
             0.2,
             "#de77ae"
            ],
            [
             0.3,
             "#f1b6da"
            ],
            [
             0.4,
             "#fde0ef"
            ],
            [
             0.5,
             "#f7f7f7"
            ],
            [
             0.6,
             "#e6f5d0"
            ],
            [
             0.7,
             "#b8e186"
            ],
            [
             0.8,
             "#7fbc41"
            ],
            [
             0.9,
             "#4d9221"
            ],
            [
             1,
             "#276419"
            ]
           ],
           "sequential": [
            [
             0,
             "#0d0887"
            ],
            [
             0.1111111111111111,
             "#46039f"
            ],
            [
             0.2222222222222222,
             "#7201a8"
            ],
            [
             0.3333333333333333,
             "#9c179e"
            ],
            [
             0.4444444444444444,
             "#bd3786"
            ],
            [
             0.5555555555555556,
             "#d8576b"
            ],
            [
             0.6666666666666666,
             "#ed7953"
            ],
            [
             0.7777777777777778,
             "#fb9f3a"
            ],
            [
             0.8888888888888888,
             "#fdca26"
            ],
            [
             1,
             "#f0f921"
            ]
           ],
           "sequentialminus": [
            [
             0,
             "#0d0887"
            ],
            [
             0.1111111111111111,
             "#46039f"
            ],
            [
             0.2222222222222222,
             "#7201a8"
            ],
            [
             0.3333333333333333,
             "#9c179e"
            ],
            [
             0.4444444444444444,
             "#bd3786"
            ],
            [
             0.5555555555555556,
             "#d8576b"
            ],
            [
             0.6666666666666666,
             "#ed7953"
            ],
            [
             0.7777777777777778,
             "#fb9f3a"
            ],
            [
             0.8888888888888888,
             "#fdca26"
            ],
            [
             1,
             "#f0f921"
            ]
           ]
          },
          "colorway": [
           "#636efa",
           "#EF553B",
           "#00cc96",
           "#ab63fa",
           "#FFA15A",
           "#19d3f3",
           "#FF6692",
           "#B6E880",
           "#FF97FF",
           "#FECB52"
          ],
          "font": {
           "color": "#2a3f5f"
          },
          "geo": {
           "bgcolor": "white",
           "lakecolor": "white",
           "landcolor": "#E5ECF6",
           "showlakes": true,
           "showland": true,
           "subunitcolor": "white"
          },
          "hoverlabel": {
           "align": "left"
          },
          "hovermode": "closest",
          "mapbox": {
           "style": "light"
          },
          "paper_bgcolor": "white",
          "plot_bgcolor": "#E5ECF6",
          "polar": {
           "angularaxis": {
            "gridcolor": "white",
            "linecolor": "white",
            "ticks": ""
           },
           "bgcolor": "#E5ECF6",
           "radialaxis": {
            "gridcolor": "white",
            "linecolor": "white",
            "ticks": ""
           }
          },
          "scene": {
           "xaxis": {
            "backgroundcolor": "#E5ECF6",
            "gridcolor": "white",
            "gridwidth": 2,
            "linecolor": "white",
            "showbackground": true,
            "ticks": "",
            "zerolinecolor": "white"
           },
           "yaxis": {
            "backgroundcolor": "#E5ECF6",
            "gridcolor": "white",
            "gridwidth": 2,
            "linecolor": "white",
            "showbackground": true,
            "ticks": "",
            "zerolinecolor": "white"
           },
           "zaxis": {
            "backgroundcolor": "#E5ECF6",
            "gridcolor": "white",
            "gridwidth": 2,
            "linecolor": "white",
            "showbackground": true,
            "ticks": "",
            "zerolinecolor": "white"
           }
          },
          "shapedefaults": {
           "line": {
            "color": "#2a3f5f"
           }
          },
          "ternary": {
           "aaxis": {
            "gridcolor": "white",
            "linecolor": "white",
            "ticks": ""
           },
           "baxis": {
            "gridcolor": "white",
            "linecolor": "white",
            "ticks": ""
           },
           "bgcolor": "#E5ECF6",
           "caxis": {
            "gridcolor": "white",
            "linecolor": "white",
            "ticks": ""
           }
          },
          "title": {
           "x": 0.05
          },
          "xaxis": {
           "automargin": true,
           "gridcolor": "white",
           "linecolor": "white",
           "ticks": "",
           "title": {
            "standoff": 15
           },
           "zerolinecolor": "white",
           "zerolinewidth": 2
          },
          "yaxis": {
           "automargin": true,
           "gridcolor": "white",
           "linecolor": "white",
           "ticks": "",
           "title": {
            "standoff": 15
           },
           "zerolinecolor": "white",
           "zerolinewidth": 2
          }
         }
        }
       }
      }
     },
     "metadata": {},
     "output_type": "display_data"
    }
   ],
   "source": [
    "import plotly.graph_objects as go\n",
    "\n",
    "# two vectors in R3\n",
    "v1 = np.array([ 3,5,1 ])\n",
    "v2 = np.array([ 0,2,2 ])\n",
    "\n",
    "## uncomment the lines below for the second part\n",
    "v1 = np.array([ 3.0,5.0,1.0 ])\n",
    "v2 = np.array([ 1.5,2.5,0.5 ])\n",
    "\n",
    "\n",
    "# random scalars in the x-axis range\n",
    "scalars = np.random.uniform(low=xlim[0],high=xlim[1],size=(100,2))\n",
    "\n",
    "\n",
    "\n",
    "# create random points\n",
    "points = np.zeros((100,3))\n",
    "for i in range(len(scalars)):\n",
    "\n",
    "  # define this point as a random weighted combination of the two vectors\n",
    "  points[i,:] = v1*scalars[i,0] + v2*scalars[i,1]\n",
    "\n",
    "\n",
    "# draw the dots in the plane\n",
    "fig = go.Figure( data=[go.Scatter3d(x=points[:,0], y=points[:,1], z=points[:,2], \n",
    "                                    mode='markers', marker=dict(size=6,color='black') )])\n",
    "\n",
    "fig.update_layout(margin=dict(l=0,r=0,b=0,t=0))\n",
    "fig.show()"
   ]
  },
  {
   "cell_type": "code",
   "execution_count": null,
   "metadata": {
    "id": "HEiCXk6gYJRD"
   },
   "outputs": [],
   "source": []
  },
  {
   "cell_type": "code",
   "execution_count": null,
   "metadata": {},
   "outputs": [],
   "source": []
  }
 ],
 "metadata": {
  "colab": {
   "authorship_tag": "ABX9TyNp75EgKJZFJ+MNi5oG062k",
   "provenance": []
  },
  "kernelspec": {
   "display_name": "Python 3",
   "name": "python3"
  },
  "language_info": {
   "codemirror_mode": {
    "name": "ipython",
    "version": 3
   },
   "file_extension": ".py",
   "mimetype": "text/x-python",
   "name": "python",
   "nbconvert_exporter": "python",
   "pygments_lexer": "ipython3",
   "version": "3.12.2"
  }
 },
 "nbformat": 4,
 "nbformat_minor": 0
}
